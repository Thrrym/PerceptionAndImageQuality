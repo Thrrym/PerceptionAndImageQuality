{
 "cells": [
  {
   "cell_type": "markdown",
   "id": "hydraulic-flooring",
   "metadata": {},
   "source": [
    "# 'Niner' analysis"
   ]
  },
  {
   "cell_type": "code",
   "execution_count": 39,
   "id": "prospective-monthly",
   "metadata": {
    "scrolled": true
   },
   "outputs": [],
   "source": [
    "import os\n",
    "import numpy as np\n",
    "import pandas as pd   # module to work with data in DataFrames.\n",
    "import seaborn as sns  # module to plot DataFrames in an easy way\n",
    "import matplotlib.pyplot as plt\n",
    "from pathlib import Path"
   ]
  },
  {
   "cell_type": "code",
   "execution_count": 40,
   "id": "technological-utilization",
   "metadata": {},
   "outputs": [],
   "source": [
    "# seaborn comes with default presets (called 'contents') for figure's aesthetics, \n",
    "# such as the font size, figure size etc.\n",
    "\n",
    "#sns.set_context('talk') # try: 'talk', 'poster', 'notebook'\n",
    "sns.set_theme(style=\"ticks\", palette=\"pastel\")"
   ]
  },
  {
   "cell_type": "markdown",
   "id": "275d6c7f",
   "metadata": {},
   "source": [
    "## Get the result files"
   ]
  },
  {
   "cell_type": "code",
   "execution_count": 41,
   "id": "072de1e9",
   "metadata": {},
   "outputs": [
    {
     "name": "stdout",
     "output_type": "stream",
     "text": [
      "Number observer: 23\n"
     ]
    }
   ],
   "source": [
    "# Get current result files.\n",
    "result_dir = Path('../nines/results').absolute()\n",
    "result_file_names = os.listdir(result_dir)\n",
    "result_file_names = list(filter(lambda name: str.startswith(name, 'result'), result_file_names))\n",
    "\n",
    "single_result_files_paths = []\n",
    "for name in result_file_names:\n",
    "    single_result_files_paths.append(result_dir / name)\n",
    "\n",
    "print(f\"Number observer: {len(single_result_files_paths)}\")"
   ]
  },
  {
   "cell_type": "markdown",
   "id": "85a9a607",
   "metadata": {},
   "source": [
    "Write result files to dataframe"
   ]
  },
  {
   "cell_type": "code",
   "execution_count": 42,
   "id": "bulgarian-invite",
   "metadata": {},
   "outputs": [
    {
     "name": "stdout",
     "output_type": "stream",
     "text": [
      "0 /home/max/git/PerceptionAndImageQuality/analysis/../nines/results/results_niner_okan.csv\n",
      "1 /home/max/git/PerceptionAndImageQuality/analysis/../nines/results/result_20220125-182957_max_a.csv\n",
      "2 /home/max/git/PerceptionAndImageQuality/analysis/../nines/results/results_niner_kat.csv\n",
      "3 /home/max/git/PerceptionAndImageQuality/analysis/../nines/results/result_20220118-182237_max.csv\n",
      "4 /home/max/git/PerceptionAndImageQuality/analysis/../nines/results/result_20220120-erdem.csv\n",
      "5 /home/max/git/PerceptionAndImageQuality/analysis/../nines/results/result_20220121-221605_marius_03.csv\n",
      "6 /home/max/git/PerceptionAndImageQuality/analysis/../nines/results/result_20220119-161616_max_cs.csv\n",
      "7 /home/max/git/PerceptionAndImageQuality/analysis/../nines/results/result_20220125-erdem1.csv\n",
      "8 /home/max/git/PerceptionAndImageQuality/analysis/../nines/results/results_niner_son.csv\n",
      "9 /home/max/git/PerceptionAndImageQuality/analysis/../nines/results/result_20220125-erdem2.csv\n",
      "10 /home/max/git/PerceptionAndImageQuality/analysis/../nines/results/results_niner_ahm.csv\n",
      "11 /home/max/git/PerceptionAndImageQuality/analysis/../nines/results/result_20220120-215829_marius_01.csv\n",
      "12 /home/max/git/PerceptionAndImageQuality/analysis/../nines/results/result_20220121-210619_marius_02.csv\n",
      "13 /home/max/git/PerceptionAndImageQuality/analysis/../nines/results/result_20220125-erdem3.csv\n",
      "14 /home/max/git/PerceptionAndImageQuality/analysis/../nines/results/results_niner_jan.csv\n",
      "15 /home/max/git/PerceptionAndImageQuality/analysis/../nines/results/results_niner_isa.csv\n",
      "16 /home/max/git/PerceptionAndImageQuality/analysis/../nines/results/results_savas.csv\n",
      "17 /home/max/git/PerceptionAndImageQuality/analysis/../nines/results/result_20220121-225325_marius_04.csv\n",
      "18 /home/max/git/PerceptionAndImageQuality/analysis/../nines/results/result_20220125-erdem4.csv\n",
      "19 /home/max/git/PerceptionAndImageQuality/analysis/../nines/results/result_20220119-172423_max_ack.csv\n",
      "20 /home/max/git/PerceptionAndImageQuality/analysis/../nines/results/result_20220121-235059_marius_05.csv\n",
      "21 /home/max/git/PerceptionAndImageQuality/analysis/../nines/results/result_20220121-085647_marius.csv\n",
      "22 /home/max/git/PerceptionAndImageQuality/analysis/../nines/results/result_20220125-191615_max_tg.csv\n"
     ]
    }
   ],
   "source": [
    "df = pd.DataFrame()\n",
    "for index, path in enumerate(single_result_files_paths):\n",
    "    print(index, path)\n",
    "    df_tmp = pd.read_csv(path)\n",
    "    df_tmp['observer'] = index\n",
    "    df = pd.concat((df, df_tmp))\n",
    "\n",
    "df.columns = ['test_image', '0', '1', '2', '3', '4', '5', '6', '7', '8', 'choosen', 'observer']\n"
   ]
  },
  {
   "cell_type": "markdown",
   "id": "76c00372",
   "metadata": {},
   "source": [
    "## Clean up of image names"
   ]
  },
  {
   "cell_type": "code",
   "execution_count": 43,
   "id": "2ae0ecd2",
   "metadata": {},
   "outputs": [],
   "source": [
    "df['test_image'] = [s.split('_')[0] for s in df['test_image'].tolist()]\n",
    "df = df.sort_values(by='test_image', ascending=True, key=lambda col: [int(img[1:]) for img in col])"
   ]
  },
  {
   "cell_type": "code",
   "execution_count": 44,
   "id": "56b5de50",
   "metadata": {},
   "outputs": [],
   "source": [
    "list_of_used_images = [f\"H{index}\" for index in range(30)]\n",
    "list_of_used_images += [f\"I{index:02d}\" for index in [1, 3, 4, 6, 7, 8, 12, 13, 14, 15 ,16, 20, 21, 22, 23]]\n",
    "#df[df[\"test_image\"] == \"H12\"]\n",
    "assert len(list_of_used_images) == 30 + 15"
   ]
  },
  {
   "cell_type": "code",
   "execution_count": 45,
   "id": "d490b7fa",
   "metadata": {},
   "outputs": [],
   "source": [
    "df = df[df[\"test_image\"].isin(list_of_used_images)]"
   ]
  },
  {
   "cell_type": "markdown",
   "id": "3a4c8673",
   "metadata": {},
   "source": [
    "# Sanity checks\n",
    "We expect 30 historic and 15 modern images used during tests.\n",
    "Each result file  from each observer shall be 30 + 15 images long."
   ]
  },
  {
   "cell_type": "code",
   "execution_count": 46,
   "id": "ba205d11",
   "metadata": {},
   "outputs": [],
   "source": [
    "# sanity checks: how many groups do you expect per categorical variable?\n",
    "assert len(df['test_image'].unique()) == 30 + 15\n",
    "\n",
    "# Check number of observers.\n",
    "assert len(df['observer'].unique()) == len(result_file_names)\n",
    "\n",
    "# Check length of result from each observer.\n",
    "for observer_id in df['observer'].unique():\n",
    "    assert len(df[df['observer'] == observer_id]) == 30 + 15\n",
    "    assert len(df[df['observer'] == observer_id]['test_image'].unique()) == 30 + 15"
   ]
  },
  {
   "cell_type": "code",
   "execution_count": 47,
   "metadata": {},
   "outputs": [],
   "source": [
    "max_factor = np.ceil(max(df[[str(i) for i in range(9)]].max(axis=0)))\n"
   ]
  },
  {
   "cell_type": "markdown",
   "id": "a42678d8",
   "metadata": {},
   "source": [
    "### Devide dataframe into historic and modern images\n",
    "And verify result."
   ]
  },
  {
   "cell_type": "code",
   "execution_count": 48,
   "id": "f8ace9ae",
   "metadata": {},
   "outputs": [],
   "source": [
    "df_historic = df[df['test_image'].str.startswith('H')]\n",
    "df_modern = df[df['test_image'].str.startswith('I')]\n",
    "\n",
    "assert len(df_historic['test_image'].unique()) == 30\n",
    "assert len(df_modern['test_image'].unique()) == 15"
   ]
  },
  {
   "cell_type": "markdown",
   "id": "f1fb6474",
   "metadata": {},
   "source": [
    "### Historic plots"
   ]
  },
  {
   "cell_type": "markdown",
   "id": "180e07ee",
   "metadata": {},
   "source": [
    "Barplot."
   ]
  },
  {
   "cell_type": "code",
   "execution_count": 49,
   "id": "digital-declaration",
   "metadata": {},
   "outputs": [
    {
     "data": {
      "text/plain": [
       "<seaborn.axisgrid.FacetGrid at 0x7f7e95b3d250>"
      ]
     },
     "execution_count": 49,
     "metadata": {},
     "output_type": "execute_result"
    },
    {
     "data": {
      "image/png": "[encoded data removed]",
      "text/plain": [
       "<Figure size 842.4x595.44 with 1 Axes>"
      ]
     },
     "metadata": {},
     "output_type": "display_data"
    }
   ],
   "source": [
    "g = sns.catplot(\n",
    "    x='test_image',\n",
    "    y='choosen',\n",
    "    data=df_historic,\n",
    "    kind='bar',\n",
    "    ci='sd',\n",
    "    palette=[\"m\", \"g\"]\n",
    ")\n",
    "\n",
    "g.figure.set_size_inches(11.7, 8.27)\n",
    "g.set_axis_labels(\"Image\", \"Chroma factor\")\n",
    "\n",
    "g.set(ylim = (0,max_factor))\n",
    "g.set(title=\"Niner assessment: Historic images\")\n"
   ]
  },
  {
   "cell_type": "markdown",
   "id": "5471b99c",
   "metadata": {},
   "source": [
    "Boxplot"
   ]
  },
  {
   "cell_type": "code",
   "execution_count": 50,
   "id": "1f88ab07",
   "metadata": {},
   "outputs": [
    {
     "data": {
      "image/png": "[encoded data removed]",
      "text/plain": [
       "<Figure size 842.4x595.44 with 1 Axes>"
      ]
     },
     "metadata": {},
     "output_type": "display_data"
    }
   ],
   "source": [
    "g = sns.catplot(\n",
    "    x='test_image',\n",
    "    y='choosen',\n",
    "    data=df_historic,\n",
    "    kind='box',\n",
    "    ci='sd',\n",
    "    #color='#e34a33')\n",
    "    palette=[\"m\", \"g\"]\n",
    ")\n",
    "\n",
    "g.fig.set_size_inches(11.7, 8.27)\n",
    "\n",
    "g.set(ylim = (0,max_factor))\n",
    "\n",
    "g.set_axis_labels(\"Image\", \"Chroma factor\")\n",
    "g.set(title=\"Niner assessment: Historic images\")\n",
    "\n",
    "sns.despine()"
   ]
  },
  {
   "cell_type": "markdown",
   "id": "9811b9b9",
   "metadata": {},
   "source": [
    "### Modern plots"
   ]
  },
  {
   "cell_type": "code",
   "execution_count": 51,
   "id": "67d18c1f",
   "metadata": {},
   "outputs": [
    {
     "data": {
      "image/png": "[encoded data removed]",
      "text/plain": [
       "<Figure size 842.4x595.44 with 1 Axes>"
      ]
     },
     "metadata": {},
     "output_type": "display_data"
    }
   ],
   "source": [
    "g = sns.catplot(x='test_image', y='choosen', data=df_modern,\n",
    "                kind='bar', ci='sd', palette=[\"m\", \"g\"])\n",
    "\n",
    "g.fig.set_size_inches(11.7, 8.27)\n",
    "\n",
    "g.set(ylim = (0,max_factor))\n",
    "\n",
    "g.set_axis_labels(\"Image\", \"Chroma factor\")\n",
    "g.set(title=\"Niner assessment: Modern images\")\n",
    "sns.despine()\n"
   ]
  },
  {
   "cell_type": "code",
   "execution_count": 52,
   "id": "b0fd927e",
   "metadata": {},
   "outputs": [
    {
     "data": {
      "image/png": "[encoded data removed]",
      "text/plain": [
       "<Figure size 842.4x595.44 with 1 Axes>"
      ]
     },
     "metadata": {},
     "output_type": "display_data"
    }
   ],
   "source": [
    "g = sns.catplot(x='test_image', y='choosen', data=df_modern,\n",
    "                kind='box', ci='sd', \n",
    "                palette=[\"m\", \"g\"])\n",
    "\n",
    "g.fig.set_size_inches(11.7, 8.27)\n",
    "\n",
    "g.set(ylim = (0,max_factor))\n",
    "\n",
    "g.set_axis_labels(\"Image\", \"Chroma factor\")\n",
    "g.set(title=\"Niner assessment: Modern images\")\n",
    "sns.despine()"
   ]
  },
  {
   "cell_type": "markdown",
   "id": "5c090a99",
   "metadata": {},
   "source": [
    "# Plots for both image groups"
   ]
  },
  {
   "cell_type": "code",
   "execution_count": 53,
   "id": "ee13a8c0",
   "metadata": {},
   "outputs": [
    {
     "data": {
      "text/html": [
       "<div>\n",
       "<style scoped>\n",
       "    .dataframe tbody tr th:only-of-type {\n",
       "        vertical-align: middle;\n",
       "    }\n",
       "\n",
       "    .dataframe tbody tr th {\n",
       "        vertical-align: top;\n",
       "    }\n",
       "\n",
       "    .dataframe thead th {\n",
       "        text-align: right;\n",
       "    }\n",
       "</style>\n",
       "<table border=\"1\" class=\"dataframe\">\n",
       "  <thead>\n",
       "    <tr style=\"text-align: right;\">\n",
       "      <th></th>\n",
       "      <th>test_image</th>\n",
       "      <th>type</th>\n",
       "      <th>mean</th>\n",
       "    </tr>\n",
       "  </thead>\n",
       "  <tbody>\n",
       "    <tr>\n",
       "      <th>0</th>\n",
       "      <td>H0</td>\n",
       "      <td>H</td>\n",
       "      <td>2.105217</td>\n",
       "    </tr>\n",
       "    <tr>\n",
       "      <th>1</th>\n",
       "      <td>H1</td>\n",
       "      <td>H</td>\n",
       "      <td>1.631739</td>\n",
       "    </tr>\n",
       "    <tr>\n",
       "      <th>2</th>\n",
       "      <td>H2</td>\n",
       "      <td>H</td>\n",
       "      <td>1.760000</td>\n",
       "    </tr>\n",
       "    <tr>\n",
       "      <th>3</th>\n",
       "      <td>H3</td>\n",
       "      <td>H</td>\n",
       "      <td>2.563478</td>\n",
       "    </tr>\n",
       "    <tr>\n",
       "      <th>4</th>\n",
       "      <td>H4</td>\n",
       "      <td>H</td>\n",
       "      <td>2.883913</td>\n",
       "    </tr>\n",
       "    <tr>\n",
       "      <th>5</th>\n",
       "      <td>H5</td>\n",
       "      <td>H</td>\n",
       "      <td>2.187391</td>\n",
       "    </tr>\n",
       "    <tr>\n",
       "      <th>6</th>\n",
       "      <td>H6</td>\n",
       "      <td>H</td>\n",
       "      <td>2.500435</td>\n",
       "    </tr>\n",
       "    <tr>\n",
       "      <th>7</th>\n",
       "      <td>H7</td>\n",
       "      <td>H</td>\n",
       "      <td>1.543913</td>\n",
       "    </tr>\n",
       "    <tr>\n",
       "      <th>8</th>\n",
       "      <td>H8</td>\n",
       "      <td>H</td>\n",
       "      <td>1.539565</td>\n",
       "    </tr>\n",
       "    <tr>\n",
       "      <th>9</th>\n",
       "      <td>H9</td>\n",
       "      <td>H</td>\n",
       "      <td>1.874348</td>\n",
       "    </tr>\n",
       "    <tr>\n",
       "      <th>10</th>\n",
       "      <td>H10</td>\n",
       "      <td>H</td>\n",
       "      <td>2.309130</td>\n",
       "    </tr>\n",
       "    <tr>\n",
       "      <th>11</th>\n",
       "      <td>H11</td>\n",
       "      <td>H</td>\n",
       "      <td>1.332609</td>\n",
       "    </tr>\n",
       "    <tr>\n",
       "      <th>12</th>\n",
       "      <td>H12</td>\n",
       "      <td>H</td>\n",
       "      <td>2.765217</td>\n",
       "    </tr>\n",
       "    <tr>\n",
       "      <th>13</th>\n",
       "      <td>H13</td>\n",
       "      <td>H</td>\n",
       "      <td>1.848696</td>\n",
       "    </tr>\n",
       "    <tr>\n",
       "      <th>14</th>\n",
       "      <td>H14</td>\n",
       "      <td>H</td>\n",
       "      <td>1.789130</td>\n",
       "    </tr>\n",
       "    <tr>\n",
       "      <th>15</th>\n",
       "      <td>H15</td>\n",
       "      <td>H</td>\n",
       "      <td>1.835652</td>\n",
       "    </tr>\n",
       "    <tr>\n",
       "      <th>16</th>\n",
       "      <td>H16</td>\n",
       "      <td>H</td>\n",
       "      <td>2.650435</td>\n",
       "    </tr>\n",
       "    <tr>\n",
       "      <th>17</th>\n",
       "      <td>H17</td>\n",
       "      <td>H</td>\n",
       "      <td>2.002174</td>\n",
       "    </tr>\n",
       "    <tr>\n",
       "      <th>18</th>\n",
       "      <td>H18</td>\n",
       "      <td>H</td>\n",
       "      <td>1.973913</td>\n",
       "    </tr>\n",
       "    <tr>\n",
       "      <th>19</th>\n",
       "      <td>H19</td>\n",
       "      <td>H</td>\n",
       "      <td>1.737391</td>\n",
       "    </tr>\n",
       "    <tr>\n",
       "      <th>20</th>\n",
       "      <td>H20</td>\n",
       "      <td>H</td>\n",
       "      <td>2.206522</td>\n",
       "    </tr>\n",
       "    <tr>\n",
       "      <th>21</th>\n",
       "      <td>H21</td>\n",
       "      <td>H</td>\n",
       "      <td>2.732174</td>\n",
       "    </tr>\n",
       "    <tr>\n",
       "      <th>22</th>\n",
       "      <td>H22</td>\n",
       "      <td>H</td>\n",
       "      <td>1.887826</td>\n",
       "    </tr>\n",
       "    <tr>\n",
       "      <th>23</th>\n",
       "      <td>H23</td>\n",
       "      <td>H</td>\n",
       "      <td>1.706957</td>\n",
       "    </tr>\n",
       "    <tr>\n",
       "      <th>24</th>\n",
       "      <td>H24</td>\n",
       "      <td>H</td>\n",
       "      <td>2.637826</td>\n",
       "    </tr>\n",
       "    <tr>\n",
       "      <th>25</th>\n",
       "      <td>H25</td>\n",
       "      <td>H</td>\n",
       "      <td>1.841304</td>\n",
       "    </tr>\n",
       "    <tr>\n",
       "      <th>26</th>\n",
       "      <td>H26</td>\n",
       "      <td>H</td>\n",
       "      <td>1.693043</td>\n",
       "    </tr>\n",
       "    <tr>\n",
       "      <th>27</th>\n",
       "      <td>H27</td>\n",
       "      <td>H</td>\n",
       "      <td>3.043913</td>\n",
       "    </tr>\n",
       "    <tr>\n",
       "      <th>28</th>\n",
       "      <td>H28</td>\n",
       "      <td>H</td>\n",
       "      <td>1.815217</td>\n",
       "    </tr>\n",
       "    <tr>\n",
       "      <th>29</th>\n",
       "      <td>H29</td>\n",
       "      <td>H</td>\n",
       "      <td>1.906522</td>\n",
       "    </tr>\n",
       "    <tr>\n",
       "      <th>30</th>\n",
       "      <td>I01</td>\n",
       "      <td>I</td>\n",
       "      <td>3.733478</td>\n",
       "    </tr>\n",
       "    <tr>\n",
       "      <th>31</th>\n",
       "      <td>I03</td>\n",
       "      <td>I</td>\n",
       "      <td>1.527826</td>\n",
       "    </tr>\n",
       "    <tr>\n",
       "      <th>32</th>\n",
       "      <td>I04</td>\n",
       "      <td>I</td>\n",
       "      <td>1.745217</td>\n",
       "    </tr>\n",
       "    <tr>\n",
       "      <th>33</th>\n",
       "      <td>I06</td>\n",
       "      <td>I</td>\n",
       "      <td>1.122609</td>\n",
       "    </tr>\n",
       "    <tr>\n",
       "      <th>34</th>\n",
       "      <td>I07</td>\n",
       "      <td>I</td>\n",
       "      <td>1.454783</td>\n",
       "    </tr>\n",
       "    <tr>\n",
       "      <th>35</th>\n",
       "      <td>I08</td>\n",
       "      <td>I</td>\n",
       "      <td>3.106087</td>\n",
       "    </tr>\n",
       "    <tr>\n",
       "      <th>36</th>\n",
       "      <td>I12</td>\n",
       "      <td>I</td>\n",
       "      <td>1.908261</td>\n",
       "    </tr>\n",
       "    <tr>\n",
       "      <th>37</th>\n",
       "      <td>I13</td>\n",
       "      <td>I</td>\n",
       "      <td>1.802174</td>\n",
       "    </tr>\n",
       "    <tr>\n",
       "      <th>38</th>\n",
       "      <td>I14</td>\n",
       "      <td>I</td>\n",
       "      <td>2.531739</td>\n",
       "    </tr>\n",
       "    <tr>\n",
       "      <th>39</th>\n",
       "      <td>I15</td>\n",
       "      <td>I</td>\n",
       "      <td>1.210870</td>\n",
       "    </tr>\n",
       "    <tr>\n",
       "      <th>40</th>\n",
       "      <td>I16</td>\n",
       "      <td>I</td>\n",
       "      <td>1.519565</td>\n",
       "    </tr>\n",
       "    <tr>\n",
       "      <th>41</th>\n",
       "      <td>I20</td>\n",
       "      <td>I</td>\n",
       "      <td>2.142609</td>\n",
       "    </tr>\n",
       "    <tr>\n",
       "      <th>42</th>\n",
       "      <td>I21</td>\n",
       "      <td>I</td>\n",
       "      <td>1.854348</td>\n",
       "    </tr>\n",
       "    <tr>\n",
       "      <th>43</th>\n",
       "      <td>I22</td>\n",
       "      <td>I</td>\n",
       "      <td>1.760000</td>\n",
       "    </tr>\n",
       "    <tr>\n",
       "      <th>44</th>\n",
       "      <td>I23</td>\n",
       "      <td>I</td>\n",
       "      <td>0.821304</td>\n",
       "    </tr>\n",
       "  </tbody>\n",
       "</table>\n",
       "</div>"
      ],
      "text/plain": [
       "   test_image type      mean\n",
       "0          H0    H  2.105217\n",
       "1          H1    H  1.631739\n",
       "2          H2    H  1.760000\n",
       "3          H3    H  2.563478\n",
       "4          H4    H  2.883913\n",
       "5          H5    H  2.187391\n",
       "6          H6    H  2.500435\n",
       "7          H7    H  1.543913\n",
       "8          H8    H  1.539565\n",
       "9          H9    H  1.874348\n",
       "10        H10    H  2.309130\n",
       "11        H11    H  1.332609\n",
       "12        H12    H  2.765217\n",
       "13        H13    H  1.848696\n",
       "14        H14    H  1.789130\n",
       "15        H15    H  1.835652\n",
       "16        H16    H  2.650435\n",
       "17        H17    H  2.002174\n",
       "18        H18    H  1.973913\n",
       "19        H19    H  1.737391\n",
       "20        H20    H  2.206522\n",
       "21        H21    H  2.732174\n",
       "22        H22    H  1.887826\n",
       "23        H23    H  1.706957\n",
       "24        H24    H  2.637826\n",
       "25        H25    H  1.841304\n",
       "26        H26    H  1.693043\n",
       "27        H27    H  3.043913\n",
       "28        H28    H  1.815217\n",
       "29        H29    H  1.906522\n",
       "30        I01    I  3.733478\n",
       "31        I03    I  1.527826\n",
       "32        I04    I  1.745217\n",
       "33        I06    I  1.122609\n",
       "34        I07    I  1.454783\n",
       "35        I08    I  3.106087\n",
       "36        I12    I  1.908261\n",
       "37        I13    I  1.802174\n",
       "38        I14    I  2.531739\n",
       "39        I15    I  1.210870\n",
       "40        I16    I  1.519565\n",
       "41        I20    I  2.142609\n",
       "42        I21    I  1.854348\n",
       "43        I22    I  1.760000\n",
       "44        I23    I  0.821304"
      ]
     },
     "execution_count": 53,
     "metadata": {},
     "output_type": "execute_result"
    }
   ],
   "source": [
    "means = []\n",
    "for img in df_historic[\"test_image\"].unique():\n",
    "    means.append((img, \"H\", np.mean(df_historic[df_historic[\"test_image\"] == img])[\"choosen\"]))\n",
    "\n",
    "for img in df_modern[\"test_image\"].unique():\n",
    "    means.append((img, \"I\", np.mean(df_modern[df_modern[\"test_image\"] == img])[\"choosen\"]))\n",
    "    \n",
    "df_mean = pd.DataFrame(means)\n",
    "df_mean.columns = [\"test_image\", \"type\", \"mean\"]\n",
    "df_mean"
   ]
  },
  {
   "cell_type": "markdown",
   "id": "2757b194",
   "metadata": {},
   "source": [
    "Boxplot overall modern and historic images."
   ]
  },
  {
   "cell_type": "code",
   "execution_count": 54,
   "id": "9fd174a7",
   "metadata": {},
   "outputs": [
    {
     "data": {
      "text/plain": [
       "[[Text(0, 0, 'Historic'), Text(1, 0, 'Modern')]]"
      ]
     },
     "execution_count": 54,
     "metadata": {},
     "output_type": "execute_result"
    },
    {
     "data": {
      "image/png": "[encoded data removed]",
      "text/plain": [
       "<Figure size 842.4x595.44 with 1 Axes>"
      ]
     },
     "metadata": {},
     "output_type": "display_data"
    }
   ],
   "source": [
    "g = sns.boxplot(x=\"type\", y=\"mean\", palette=[\"m\", \"g\"], data=df_mean)\n",
    "g.set(title=\"Niner assessment: Choosen mean chroma factor of historic and modern images\")\n",
    "g.figure.set_size_inches(11.7, 8.27)\n",
    "g.set(ylim = (0,max_factor))\n",
    "g.set_xlabel(\"Image type\")\n",
    "g.set_ylabel(\"Chroma factor mean\")\n",
    "g.set(xticklabels=[\"Historic\", \"Modern\"])"
   ]
  }
 ],
 "metadata": {
  "kernelspec": {
   "display_name": "Python 3 (ipykernel)",
   "language": "python",
   "name": "python3"
  },
  "language_info": {
   "codemirror_mode": {
    "name": "ipython",
    "version": 3
   },
   "file_extension": ".py",
   "mimetype": "text/x-python",
   "name": "python",
   "nbconvert_exporter": "python",
   "pygments_lexer": "ipython3",
   "version": "3.8.10"
  }
 },
 "nbformat": 4,
 "nbformat_minor": 5
}
