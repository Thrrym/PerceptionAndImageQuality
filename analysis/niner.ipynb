{
 "cells": [
  {
   "cell_type": "markdown",
   "id": "hydraulic-flooring",
   "metadata": {},
   "source": [
    "# Analysis of the single assessment\n"
   ]
  },
  {
   "cell_type": "code",
   "execution_count": 31,
   "id": "prospective-monthly",
   "metadata": {
    "scrolled": true
   },
   "outputs": [],
   "source": [
    "import os\n",
    "import pickle\n",
    "import numpy as np\n",
    "import pandas as pd   # module to work with data in DataFrames.\n",
    "import seaborn as sns  # module to plot DataFrames in an easy way\n",
    "import matplotlib.pyplot as plt\n",
    "from pathlib import Path\n",
    "import scipy.constants as sc\n",
    "import scipy.stats as stats"
   ]
  },
  {
   "cell_type": "markdown",
   "id": "673a26c1",
   "metadata": {},
   "source": [
    "Seaborn setup."
   ]
  },
  {
   "cell_type": "code",
   "execution_count": 32,
   "id": "technological-utilization",
   "metadata": {},
   "outputs": [],
   "source": [
    "# seaborn comes with default presets (called 'contents') for figure's aesthetics, \n",
    "# such as the font size, figure size etc.\n",
    "\n",
    "sns.set_context('paper') # try: 'talk', 'poster', 'notebook'\n",
    "sns.set_theme(style=\"ticks\", palette=\"pastel\")\n",
    "\n",
    "# Set global color scheme for historic and modern images.\n",
    "sns_palette_historic = [\"m\"]\n",
    "sns_palette_modern = [\"g\"]\n",
    "\n",
    "# Plot size and y limits.\n",
    "sns_plot_size = (8*sc.golden_ratio, 8)\n",
    "sns_half_plot_size = (4*sc.golden_ratio, 8)\n",
    "sns_ylim = (-0.4, 1)\n",
    "\n",
    "color_blue = '#4E92FF'\n",
    "\n",
    "def set_hline(plot):\n",
    "    plot.axhline(0.0, color=color_blue, linewidth=2.0, label=\"No manipulation\")"
   ]
  },
  {
   "cell_type": "markdown",
   "id": "275d6c7f",
   "metadata": {},
   "source": [
    "## Get the result files"
   ]
  },
  {
   "cell_type": "code",
   "execution_count": 33,
   "id": "072de1e9",
   "metadata": {},
   "outputs": [
    {
     "name": "stdout",
     "output_type": "stream",
     "text": [
      "Number observer: 23\n"
     ]
    }
   ],
   "source": [
    "# Get current result files.\n",
    "result_dir = Path('../nines/results').absolute()\n",
    "result_file_names = os.listdir(result_dir)\n",
    "result_file_names = list(filter(lambda name: str.startswith(name, 'result'), result_file_names))\n",
    "\n",
    "single_result_files_paths = []\n",
    "for name in result_file_names:\n",
    "    single_result_files_paths.append(result_dir / name)\n",
    "\n",
    "num_observers = len(single_result_files_paths)\n",
    "print(f\"Number observer: {num_observers}\")"
   ]
  },
  {
   "cell_type": "markdown",
   "id": "85a9a607",
   "metadata": {},
   "source": [
    "## Create dataframe\n",
    "Basic setup of dataframe:"
   ]
  },
  {
   "cell_type": "code",
   "execution_count": 34,
   "id": "bulgarian-invite",
   "metadata": {},
   "outputs": [],
   "source": [
    "df = pd.DataFrame()\n",
    "for index, path in enumerate(single_result_files_paths):\n",
    "    df_tmp = pd.read_csv(path)\n",
    "    df_tmp['observer'] = index\n",
    "    df = pd.concat((df, df_tmp))\n",
    "\n",
    "df.columns = ['test_image', '0', '1', '2', '3', '4', '5', '6', '7', '8', 'choosen', 'observer']\n"
   ]
  },
  {
   "cell_type": "markdown",
   "id": "76c00372",
   "metadata": {},
   "source": [
    "Add short ID of the image to the dataframe."
   ]
  },
  {
   "cell_type": "code",
   "execution_count": 35,
   "id": "2ae0ecd2",
   "metadata": {},
   "outputs": [],
   "source": [
    "df['id'] = [s.split('_')[0] for s in df['test_image'].tolist()]"
   ]
  },
  {
   "cell_type": "markdown",
   "id": "856738b8",
   "metadata": {},
   "source": [
    "Sort the dataframe by id of the images."
   ]
  },
  {
   "cell_type": "code",
   "execution_count": 36,
   "id": "fd58bea3",
   "metadata": {},
   "outputs": [],
   "source": [
    "df = df.sort_values(by='id', ascending=True, key=lambda col: [int(img[1:]) for img in col])"
   ]
  },
  {
   "cell_type": "markdown",
   "id": "155f2586",
   "metadata": {},
   "source": [
    "Add type of the image in new column. Historic or modern (H, I)."
   ]
  },
  {
   "cell_type": "code",
   "execution_count": 37,
   "id": "e1f056d4",
   "metadata": {},
   "outputs": [],
   "source": [
    "df['type'] = [s[0] for s in df['id'].tolist()]"
   ]
  },
  {
   "cell_type": "markdown",
   "id": "096e6c8f",
   "metadata": {},
   "source": [
    "Some observers may have seen more images than planned for.\n",
    "These images are removed."
   ]
  },
  {
   "cell_type": "code",
   "execution_count": 38,
   "id": "56b5de50",
   "metadata": {},
   "outputs": [],
   "source": [
    "# Historic image ids:\n",
    "list_of_used_images = [f\"H{index}\" for index in range(30)]\n",
    "# Modern images ids:\n",
    "list_of_used_images += [f\"I{index:02d}\" for index in [1, 3, 4, 6, 7, 8, 12, 13, 14, 15 ,16, 20, 21, 22, 23]]\n",
    "\n",
    "assert len(list_of_used_images) == 30 + 15\n",
    "\n",
    "df = df[df[\"id\"].isin(list_of_used_images)]\n",
    "\n",
    "assert len(df) == (30 + 15) * num_observers"
   ]
  },
  {
   "cell_type": "markdown",
   "id": "0b887b98",
   "metadata": {},
   "source": [
    "### Normalise chroma values\n",
    "* The chroma values are normalised to the range [0, 1].\n",
    "* Subtract all values to locate algorithm result factor at 0.0 in plots."
   ]
  },
  {
   "cell_type": "code",
   "execution_count": 39,
   "id": "ede2560a",
   "metadata": {},
   "outputs": [],
   "source": [
    "df[\"normalise\"] = [(entry[0] / entry[1]) - (1 / entry[1]) for entry in list(zip(df[\"choosen\"].tolist(), df[\"8\"].tolist()))]"
   ]
  },
  {
   "cell_type": "markdown",
   "id": "3a4c8673",
   "metadata": {},
   "source": [
    "## Sanity checks\n",
    "We expect 30 historic and 15 modern images used during tests.\n",
    "Each result file  from each observer shall be 30 + 15 images long."
   ]
  },
  {
   "cell_type": "code",
   "execution_count": 40,
   "id": "ba205d11",
   "metadata": {},
   "outputs": [],
   "source": [
    "# sanity checks: how many groups do you expect per categorical variable?\n",
    "assert len(df['test_image'].unique()) == 30 + 15\n",
    "\n",
    "# Check number of observers.\n",
    "assert len(df['observer'].unique()) == len(result_file_names) == num_observers\n",
    "\n",
    "# Check length of result from each observer.\n",
    "for observer_id in df['observer'].unique():\n",
    "    assert len(df[df['observer'] == observer_id]) == 30 + 15\n",
    "    assert len(df[df['observer'] == observer_id]['test_image'].unique()) == 30 + 15\n",
    "\n",
    "# Check number of historic and modern images.\n",
    "assert len(df[df['type'] == \"H\"]) == 30 * num_observers\n",
    "assert len(df[df['type'] == \"I\"]) == 15 * num_observers"
   ]
  },
  {
   "cell_type": "markdown",
   "id": "3c0bfa71",
   "metadata": {},
   "source": [
    "## Export dataframe"
   ]
  },
  {
   "cell_type": "code",
   "execution_count": 41,
   "id": "ee00edf4",
   "metadata": {},
   "outputs": [],
   "source": [
    "with open(\"niner.pkl\", mode=\"wb\") as pkl_file:\n",
    "    pickle.dump(df, pkl_file)"
   ]
  },
  {
   "cell_type": "markdown",
   "id": "2612fc17",
   "metadata": {},
   "source": [
    "## Dataframe"
   ]
  },
  {
   "cell_type": "code",
   "execution_count": 42,
   "id": "dd0053ff",
   "metadata": {},
   "outputs": [
    {
     "data": {
      "text/html": [
       "<div>\n",
       "<style scoped>\n",
       "    .dataframe tbody tr th:only-of-type {\n",
       "        vertical-align: middle;\n",
       "    }\n",
       "\n",
       "    .dataframe tbody tr th {\n",
       "        vertical-align: top;\n",
       "    }\n",
       "\n",
       "    .dataframe thead th {\n",
       "        text-align: right;\n",
       "    }\n",
       "</style>\n",
       "<table border=\"1\" class=\"dataframe\">\n",
       "  <thead>\n",
       "    <tr style=\"text-align: right;\">\n",
       "      <th></th>\n",
       "      <th>test_image</th>\n",
       "      <th>0</th>\n",
       "      <th>1</th>\n",
       "      <th>2</th>\n",
       "      <th>3</th>\n",
       "      <th>4</th>\n",
       "      <th>5</th>\n",
       "      <th>6</th>\n",
       "      <th>7</th>\n",
       "      <th>8</th>\n",
       "      <th>choosen</th>\n",
       "      <th>observer</th>\n",
       "      <th>id</th>\n",
       "      <th>type</th>\n",
       "      <th>normalise</th>\n",
       "    </tr>\n",
       "  </thead>\n",
       "  <tbody>\n",
       "    <tr>\n",
       "      <th>18</th>\n",
       "      <td>H0_recolor.BMP</td>\n",
       "      <td>0.6</td>\n",
       "      <td>1.0</td>\n",
       "      <td>1.42</td>\n",
       "      <td>1.84</td>\n",
       "      <td>2.27</td>\n",
       "      <td>2.70</td>\n",
       "      <td>3.14</td>\n",
       "      <td>3.58</td>\n",
       "      <td>4.03</td>\n",
       "      <td>0.60</td>\n",
       "      <td>17</td>\n",
       "      <td>H0</td>\n",
       "      <td>H</td>\n",
       "      <td>-0.099256</td>\n",
       "    </tr>\n",
       "    <tr>\n",
       "      <th>18</th>\n",
       "      <td>H0_recolor.BMP</td>\n",
       "      <td>0.6</td>\n",
       "      <td>1.0</td>\n",
       "      <td>1.42</td>\n",
       "      <td>1.84</td>\n",
       "      <td>2.27</td>\n",
       "      <td>2.70</td>\n",
       "      <td>3.14</td>\n",
       "      <td>3.58</td>\n",
       "      <td>4.03</td>\n",
       "      <td>3.58</td>\n",
       "      <td>20</td>\n",
       "      <td>H0</td>\n",
       "      <td>H</td>\n",
       "      <td>0.640199</td>\n",
       "    </tr>\n",
       "    <tr>\n",
       "      <th>44</th>\n",
       "      <td>H0_recolor.BMP</td>\n",
       "      <td>0.6</td>\n",
       "      <td>1.0</td>\n",
       "      <td>1.42</td>\n",
       "      <td>1.84</td>\n",
       "      <td>2.27</td>\n",
       "      <td>2.70</td>\n",
       "      <td>3.14</td>\n",
       "      <td>3.58</td>\n",
       "      <td>4.03</td>\n",
       "      <td>3.14</td>\n",
       "      <td>21</td>\n",
       "      <td>H0</td>\n",
       "      <td>H</td>\n",
       "      <td>0.531017</td>\n",
       "    </tr>\n",
       "    <tr>\n",
       "      <th>33</th>\n",
       "      <td>H0_recolor.BMP</td>\n",
       "      <td>0.6</td>\n",
       "      <td>1.0</td>\n",
       "      <td>1.42</td>\n",
       "      <td>1.84</td>\n",
       "      <td>2.27</td>\n",
       "      <td>2.70</td>\n",
       "      <td>3.14</td>\n",
       "      <td>3.58</td>\n",
       "      <td>4.03</td>\n",
       "      <td>3.58</td>\n",
       "      <td>1</td>\n",
       "      <td>H0</td>\n",
       "      <td>H</td>\n",
       "      <td>0.640199</td>\n",
       "    </tr>\n",
       "    <tr>\n",
       "      <th>3</th>\n",
       "      <td>H0_recolor.BMP</td>\n",
       "      <td>0.6</td>\n",
       "      <td>1.0</td>\n",
       "      <td>1.42</td>\n",
       "      <td>1.84</td>\n",
       "      <td>2.27</td>\n",
       "      <td>2.70</td>\n",
       "      <td>3.14</td>\n",
       "      <td>3.58</td>\n",
       "      <td>4.03</td>\n",
       "      <td>0.60</td>\n",
       "      <td>6</td>\n",
       "      <td>H0</td>\n",
       "      <td>H</td>\n",
       "      <td>-0.099256</td>\n",
       "    </tr>\n",
       "    <tr>\n",
       "      <th>...</th>\n",
       "      <td>...</td>\n",
       "      <td>...</td>\n",
       "      <td>...</td>\n",
       "      <td>...</td>\n",
       "      <td>...</td>\n",
       "      <td>...</td>\n",
       "      <td>...</td>\n",
       "      <td>...</td>\n",
       "      <td>...</td>\n",
       "      <td>...</td>\n",
       "      <td>...</td>\n",
       "      <td>...</td>\n",
       "      <td>...</td>\n",
       "      <td>...</td>\n",
       "      <td>...</td>\n",
       "    </tr>\n",
       "    <tr>\n",
       "      <th>34</th>\n",
       "      <td>H29_recolor.BMP</td>\n",
       "      <td>0.6</td>\n",
       "      <td>1.0</td>\n",
       "      <td>1.36</td>\n",
       "      <td>1.72</td>\n",
       "      <td>2.06</td>\n",
       "      <td>2.39</td>\n",
       "      <td>2.72</td>\n",
       "      <td>3.03</td>\n",
       "      <td>3.34</td>\n",
       "      <td>1.36</td>\n",
       "      <td>14</td>\n",
       "      <td>H29</td>\n",
       "      <td>H</td>\n",
       "      <td>0.107784</td>\n",
       "    </tr>\n",
       "    <tr>\n",
       "      <th>0</th>\n",
       "      <td>H29_recolor.BMP</td>\n",
       "      <td>0.6</td>\n",
       "      <td>1.0</td>\n",
       "      <td>1.36</td>\n",
       "      <td>1.72</td>\n",
       "      <td>2.06</td>\n",
       "      <td>2.39</td>\n",
       "      <td>2.72</td>\n",
       "      <td>3.03</td>\n",
       "      <td>3.34</td>\n",
       "      <td>3.03</td>\n",
       "      <td>22</td>\n",
       "      <td>H29</td>\n",
       "      <td>H</td>\n",
       "      <td>0.607784</td>\n",
       "    </tr>\n",
       "    <tr>\n",
       "      <th>5</th>\n",
       "      <td>H29_recolor.BMP</td>\n",
       "      <td>0.6</td>\n",
       "      <td>1.0</td>\n",
       "      <td>1.36</td>\n",
       "      <td>1.72</td>\n",
       "      <td>2.06</td>\n",
       "      <td>2.39</td>\n",
       "      <td>2.72</td>\n",
       "      <td>3.03</td>\n",
       "      <td>3.34</td>\n",
       "      <td>3.03</td>\n",
       "      <td>3</td>\n",
       "      <td>H29</td>\n",
       "      <td>H</td>\n",
       "      <td>0.607784</td>\n",
       "    </tr>\n",
       "    <tr>\n",
       "      <th>1</th>\n",
       "      <td>H29_recolor.BMP</td>\n",
       "      <td>0.6</td>\n",
       "      <td>1.0</td>\n",
       "      <td>1.36</td>\n",
       "      <td>1.72</td>\n",
       "      <td>2.06</td>\n",
       "      <td>2.39</td>\n",
       "      <td>2.72</td>\n",
       "      <td>3.03</td>\n",
       "      <td>3.34</td>\n",
       "      <td>2.72</td>\n",
       "      <td>8</td>\n",
       "      <td>H29</td>\n",
       "      <td>H</td>\n",
       "      <td>0.514970</td>\n",
       "    </tr>\n",
       "    <tr>\n",
       "      <th>5</th>\n",
       "      <td>H29_recolor.BMP</td>\n",
       "      <td>0.6</td>\n",
       "      <td>1.0</td>\n",
       "      <td>1.36</td>\n",
       "      <td>1.72</td>\n",
       "      <td>2.06</td>\n",
       "      <td>2.39</td>\n",
       "      <td>2.72</td>\n",
       "      <td>3.03</td>\n",
       "      <td>3.34</td>\n",
       "      <td>2.72</td>\n",
       "      <td>6</td>\n",
       "      <td>H29</td>\n",
       "      <td>H</td>\n",
       "      <td>0.514970</td>\n",
       "    </tr>\n",
       "  </tbody>\n",
       "</table>\n",
       "<p>1035 rows × 15 columns</p>\n",
       "</div>"
      ],
      "text/plain": [
       "         test_image    0    1     2     3     4     5     6     7     8  \\\n",
       "18   H0_recolor.BMP  0.6  1.0  1.42  1.84  2.27  2.70  3.14  3.58  4.03   \n",
       "18   H0_recolor.BMP  0.6  1.0  1.42  1.84  2.27  2.70  3.14  3.58  4.03   \n",
       "44   H0_recolor.BMP  0.6  1.0  1.42  1.84  2.27  2.70  3.14  3.58  4.03   \n",
       "33   H0_recolor.BMP  0.6  1.0  1.42  1.84  2.27  2.70  3.14  3.58  4.03   \n",
       "3    H0_recolor.BMP  0.6  1.0  1.42  1.84  2.27  2.70  3.14  3.58  4.03   \n",
       "..              ...  ...  ...   ...   ...   ...   ...   ...   ...   ...   \n",
       "34  H29_recolor.BMP  0.6  1.0  1.36  1.72  2.06  2.39  2.72  3.03  3.34   \n",
       "0   H29_recolor.BMP  0.6  1.0  1.36  1.72  2.06  2.39  2.72  3.03  3.34   \n",
       "5   H29_recolor.BMP  0.6  1.0  1.36  1.72  2.06  2.39  2.72  3.03  3.34   \n",
       "1   H29_recolor.BMP  0.6  1.0  1.36  1.72  2.06  2.39  2.72  3.03  3.34   \n",
       "5   H29_recolor.BMP  0.6  1.0  1.36  1.72  2.06  2.39  2.72  3.03  3.34   \n",
       "\n",
       "    choosen  observer   id type  normalise  \n",
       "18     0.60        17   H0    H  -0.099256  \n",
       "18     3.58        20   H0    H   0.640199  \n",
       "44     3.14        21   H0    H   0.531017  \n",
       "33     3.58         1   H0    H   0.640199  \n",
       "3      0.60         6   H0    H  -0.099256  \n",
       "..      ...       ...  ...  ...        ...  \n",
       "34     1.36        14  H29    H   0.107784  \n",
       "0      3.03        22  H29    H   0.607784  \n",
       "5      3.03         3  H29    H   0.607784  \n",
       "1      2.72         8  H29    H   0.514970  \n",
       "5      2.72         6  H29    H   0.514970  \n",
       "\n",
       "[1035 rows x 15 columns]"
      ]
     },
     "execution_count": 42,
     "metadata": {},
     "output_type": "execute_result"
    }
   ],
   "source": [
    "df"
   ]
  },
  {
   "cell_type": "markdown",
   "id": "739acaf3",
   "metadata": {},
   "source": [
    "Max factor used throughout all images."
   ]
  },
  {
   "cell_type": "code",
   "execution_count": 43,
   "metadata": {},
   "outputs": [],
   "source": [
    "max_factor = np.ceil(max(df[[str(i) for i in range(9)]].max(axis=0)))\n"
   ]
  },
  {
   "cell_type": "code",
   "execution_count": 44,
   "id": "d72e507e",
   "metadata": {},
   "outputs": [
    {
     "data": {
      "text/plain": [
       "18   -0.099256\n",
       "18    0.640199\n",
       "44    0.531017\n",
       "33    0.640199\n",
       "3    -0.099256\n",
       "        ...   \n",
       "34    0.107784\n",
       "0     0.607784\n",
       "5     0.607784\n",
       "1     0.514970\n",
       "5     0.514970\n",
       "Name: normalise, Length: 690, dtype: float64"
      ]
     },
     "execution_count": 44,
     "metadata": {},
     "output_type": "execute_result"
    }
   ],
   "source": [
    "df[df[\"type\"] == \"H\"][\"normalise\"]"
   ]
  },
  {
   "cell_type": "markdown",
   "id": "f1fb6474",
   "metadata": {},
   "source": [
    "### Historic plots"
   ]
  },
  {
   "cell_type": "markdown",
   "id": "5471b99c",
   "metadata": {},
   "source": [
    "Boxplot"
   ]
  },
  {
   "cell_type": "code",
   "execution_count": 45,
   "id": "1f88ab07",
   "metadata": {},
   "outputs": [
    {
     "data": {
      "image/png": "[encoded data removed]",
      "text/plain": [
       "<Figure size 931.988x576 with 1 Axes>"
      ]
     },
     "metadata": {},
     "output_type": "display_data"
    }
   ],
   "source": [
    "g = sns.catplot(\n",
    "    x='id',\n",
    "    y='normalise',\n",
    "    data=df[df[\"type\"] == \"H\"],\n",
    "    kind='box',\n",
    "    ci='sd',\n",
    "    palette=sns_palette_historic\n",
    ")\n",
    "set_hline(g.axes[0][0])\n",
    "g.fig.set_size_inches(sns_plot_size)\n",
    "g.set(ylim = sns_ylim)\n",
    "\n",
    "g.figure.legend()\n",
    "\n",
    "g.set_axis_labels(\"Image\", \"Chroma factor\")\n",
    "g.set(title=\"Niner assessment: Historic images\")\n",
    "\n",
    "sns.despine()\n",
    "\n",
    "g.savefig(\"niner_historic.png\", dpi=400)"
   ]
  },
  {
   "cell_type": "markdown",
   "id": "9811b9b9",
   "metadata": {},
   "source": [
    "### Modern plots"
   ]
  },
  {
   "cell_type": "code",
   "execution_count": 46,
   "id": "b0fd927e",
   "metadata": {},
   "outputs": [
    {
     "data": {
      "image/png": "[encoded data removed]",
      "text/plain": [
       "<Figure size 931.988x576 with 1 Axes>"
      ]
     },
     "metadata": {},
     "output_type": "display_data"
    }
   ],
   "source": [
    "g = sns.catplot(\n",
    "    x='id',\n",
    "    y='normalise',\n",
    "    data=df[df[\"type\"] == \"I\"],\n",
    "    kind='box',\n",
    "    ci='sd', \n",
    "    palette=sns_palette_modern\n",
    ")\n",
    "set_hline(g.axes[0][0])\n",
    "\n",
    "g.fig.set_size_inches(sns_plot_size)\n",
    "g.figure.legend()\n",
    "g.set(ylim = sns_ylim)\n",
    "\n",
    "g.set_axis_labels(\"Image\", \"Chroma factor\")\n",
    "g.set(title=\"Niner assessment: Modern images\")\n",
    "sns.despine()\n",
    "g.savefig(\"niner_modern.png\", dpi=400)"
   ]
  },
  {
   "cell_type": "markdown",
   "id": "5c090a99",
   "metadata": {},
   "source": [
    "# Plots for both image groups"
   ]
  },
  {
   "cell_type": "markdown",
   "id": "ec9ee4e7",
   "metadata": {},
   "source": [
    "Get mean of normalised choosen factor for each image. Stored in own dataframe."
   ]
  },
  {
   "cell_type": "code",
   "execution_count": 47,
   "id": "ee13a8c0",
   "metadata": {},
   "outputs": [],
   "source": [
    "means = []\n",
    "for img in df[df[\"type\"] == \"H\"][\"id\"].unique():\n",
    "    means.append((img, \"H\", np.median(df[df[\"id\"] == img][\"normalise\"])))\n",
    "\n",
    "for img in df[df[\"type\"] == \"I\"][\"id\"].unique():\n",
    "    means.append((img, \"I\", np.median(df[df[\"id\"] == img][\"normalise\"])))\n",
    "    \n",
    "df_mean = pd.DataFrame(means)\n",
    "df_mean.columns = [\"id\", \"type\", \"mean\"]\n",
    "\n",
    "# Check new dataframe with one image id.\n",
    "assert np.isclose(np.median(df[df[\"id\"] == \"I01\"][\"normalise\"]), df_mean[df_mean[\"id\"] == \"I01\"][\"mean\"])"
   ]
  },
  {
   "cell_type": "code",
   "execution_count": 48,
   "id": "3a601f08",
   "metadata": {},
   "outputs": [
    {
     "name": "stderr",
     "output_type": "stream",
     "text": [
      "/usr/lib/python3/dist-packages/numpy/core/fromnumeric.py:3256: RuntimeWarning: Mean of empty slice.\n",
      "  return _methods._mean(a, axis=axis, dtype=dtype,\n",
      "/usr/lib/python3/dist-packages/numpy/core/_methods.py:161: RuntimeWarning: invalid value encountered in double_scalars\n",
      "  ret = ret.dtype.type(ret / rcount)\n"
     ]
    },
    {
     "data": {
      "text/plain": [
       "nan"
      ]
     },
     "execution_count": 48,
     "metadata": {},
     "output_type": "execute_result"
    }
   ],
   "source": [
    "np.median(df[df[\"id\"] == \"I\"][\"choosen\"])"
   ]
  },
  {
   "cell_type": "markdown",
   "id": "2757b194",
   "metadata": {},
   "source": [
    "Boxplot overall modern and historic images."
   ]
  },
  {
   "cell_type": "code",
   "execution_count": 69,
   "id": "9fd174a7",
   "metadata": {},
   "outputs": [
    {
     "data": {
      "image/png": "[encoded data removed]",
      "text/plain": [
       "<Figure size 465.994x576 with 1 Axes>"
      ]
     },
     "metadata": {},
     "output_type": "display_data"
    }
   ],
   "source": [
    "g = sns.boxplot(\n",
    "    x=\"type\",\n",
    "    y=\"mean\",\n",
    "    palette=[sns_palette_historic[0], sns_palette_modern[0]],\n",
    "    data=df_mean,\n",
    "    showmeans=True,\n",
    "    meanprops={\"marker\":\"o\",\n",
    "                       \"markerfacecolor\":\"black\", \n",
    "                       \"markeredgecolor\":\"black\",\n",
    "                      \"markersize\":\"5\"}\n",
    ")\n",
    "set_hline(g)\n",
    "\n",
    "g.set(title=\"Niner assessment:\\nChoosen mean chroma factor of historic and modern images\")\n",
    "g.figure.set_size_inches(sns_half_plot_size)\n",
    "g.set(ylim = sns_ylim)\n",
    "g.set_xlabel(\"Image type\")\n",
    "g.set_ylabel(\"Chroma factor mean\")\n",
    "g.set(xticklabels=[\"Historic\", \"Modern\"])\n",
    "g.figure.legend()\n",
    "sns.despine()\n",
    "g.figure.savefig(\"niner_both.png\", dpi=400)"
   ]
  },
  {
   "cell_type": "markdown",
   "id": "65abeead",
   "metadata": {},
   "source": [
    "## t-Test"
   ]
  },
  {
   "cell_type": "markdown",
   "id": "ea27af9d",
   "metadata": {},
   "source": [
    "Select data from all observers and for all images. Devided into the two groups."
   ]
  },
  {
   "cell_type": "code",
   "execution_count": 60,
   "id": "6603f0e2",
   "metadata": {},
   "outputs": [],
   "source": [
    "historic = df[df[\"type\"] == \"H\"][\"normalise\"]\n",
    "modern = df[df[\"type\"] == \"I\"][\"normalise\"]\n",
    "\n",
    "assert len(historic) == 30 * num_observers\n",
    "assert len(modern) == 15 * num_observers"
   ]
  },
  {
   "cell_type": "markdown",
   "id": "5c49631e",
   "metadata": {},
   "source": [
    "Perform the t-test.\n",
    "* Null hypothesis: 2 independent samples have identical average (expected) values.\n",
    "* Our null hypothesis: The samples for historic and modern images have identical average values."
   ]
  },
  {
   "cell_type": "code",
   "execution_count": 62,
   "id": "5b54c148",
   "metadata": {},
   "outputs": [
    {
     "name": "stdout",
     "output_type": "stream",
     "text": [
      "P-value: 0.00990801585278501\n",
      "P-value << 0.05 and reject null hypothesis: True.\n"
     ]
    }
   ],
   "source": [
    "t_stat, p_value = stats.ttest_ind(historic, modern)\n",
    "\n",
    "print('P-value:', p_value)\n",
    "print(f\"P-value << 0.05 and reject null hypothesis: {np.less(p_value, 0.05)}.\")"
   ]
  },
  {
   "cell_type": "markdown",
   "id": "b77758b2",
   "metadata": {},
   "source": [
    "Result: We reject the null hypothesis. We have to assume both groups do **not** have identical average expected values."
   ]
  },
  {
   "cell_type": "markdown",
   "id": "219359f8",
   "metadata": {},
   "source": [
    "## Plots for example observer"
   ]
  },
  {
   "cell_type": "markdown",
   "id": "7dde21db",
   "metadata": {},
   "source": [
    "Select some observer."
   ]
  },
  {
   "cell_type": "code",
   "execution_count": 52,
   "id": "684494f8",
   "metadata": {},
   "outputs": [],
   "source": [
    "df_observer = df[df[\"observer\"] == 10]\n"
   ]
  },
  {
   "cell_type": "code",
   "execution_count": 53,
   "id": "bd69b713",
   "metadata": {},
   "outputs": [
    {
     "data": {
      "image/png": "[encoded data removed]",
      "text/plain": [
       "<Figure size 931.988x576 with 1 Axes>"
      ]
     },
     "metadata": {},
     "output_type": "display_data"
    }
   ],
   "source": [
    "g = sns.catplot(\n",
    "    x='id',\n",
    "    y='normalise',\n",
    "    data=df_observer[df_observer[\"type\"] == \"H\"],\n",
    "    kind='point',\n",
    "    ci='sd',\n",
    "    palette=sns_palette_historic\n",
    ")\n",
    "set_hline(g.axes[0][0])\n",
    "g.fig.set_size_inches(sns_plot_size)\n",
    "g.set(ylim = sns_ylim)\n",
    "\n",
    "g.figure.legend()\n",
    "\n",
    "g.set_axis_labels(\"Image\", \"Chroma factor\")\n",
    "g.set(title=\"Niner assessment, example observer:\\nHistoric images\")\n",
    "\n",
    "sns.despine()\n",
    "\n",
    "g.savefig(\"niner_observer_historic.png\", dpi=400)"
   ]
  },
  {
   "cell_type": "code",
   "execution_count": 59,
   "id": "974c085e",
   "metadata": {},
   "outputs": [
    {
     "data": {
      "image/png": "[encoded data removed]",
      "text/plain": [
       "<Figure size 465.994x576 with 1 Axes>"
      ]
     },
     "metadata": {},
     "output_type": "display_data"
    }
   ],
   "source": [
    "g = sns.catplot(\n",
    "    x='type',\n",
    "    y='normalise',\n",
    "    kind=\"box\",\n",
    "    data=df_observer[df_observer[\"type\"] == \"H\"],\n",
    "    ci='sd',\n",
    "    palette=[sns_palette_historic[0], sns_palette_modern[0]]\n",
    ")\n",
    "set_hline(g.axes[0][0])\n",
    "g.fig.set_size_inches(sns_half_plot_size)\n",
    "g.set(ylim = sns_ylim)\n",
    "\n",
    "g.figure.legend()\n",
    "\n",
    "g.set_axis_labels(\"Image type\", \"Chroma factor\")\n",
    "g.set_xticklabels([\"Historic\"])\n",
    "g.set(title=\"Niner assessment:\\nexample observer\")\n",
    "\n",
    "sns.despine()\n",
    "\n",
    "g.savefig(\"niner_observer_box_historic.png\", dpi=400)"
   ]
  },
  {
   "cell_type": "code",
   "execution_count": null,
   "id": "ed639ca6",
   "metadata": {},
   "outputs": [],
   "source": []
  }
 ],
 "metadata": {
  "kernelspec": {
   "display_name": "Python 3 (ipykernel)",
   "language": "python",
   "name": "python3"
  },
  "language_info": {
   "codemirror_mode": {
    "name": "ipython",
    "version": 3
   },
   "file_extension": ".py",
   "mimetype": "text/x-python",
   "name": "python",
   "nbconvert_exporter": "python",
   "pygments_lexer": "ipython3",
   "version": "3.8.10"
  }
 },
 "nbformat": 4,
 "nbformat_minor": 5
}
