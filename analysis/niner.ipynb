{
 "cells": [
  {
   "cell_type": "markdown",
   "id": "hydraulic-flooring",
   "metadata": {},
   "source": [
    "# Analysis of the single assessment\n"
   ]
  },
  {
   "cell_type": "code",
   "execution_count": null,
   "id": "prospective-monthly",
   "metadata": {
    "scrolled": true
   },
   "outputs": [],
   "source": [
    "import os\n",
    "import numpy as np\n",
    "import pandas as pd   # module to work with data in DataFrames.\n",
    "import seaborn as sns  # module to plot DataFrames in an easy way\n",
    "import matplotlib.pyplot as plt\n",
    "from pathlib import Path\n",
    "import scipy.constants as sc\n",
    "import scipy.stats as stats"
   ]
  },
  {
   "cell_type": "code",
   "execution_count": null,
   "id": "technological-utilization",
   "metadata": {},
   "outputs": [],
   "source": [
    "# seaborn comes with default presets (called 'contents') for figure's aesthetics, \n",
    "# such as the font size, figure size etc.\n",
    "\n",
    "sns.set_context('paper') # try: 'talk', 'poster', 'notebook'\n",
    "sns.set_theme(style=\"ticks\", palette=\"pastel\")\n",
    "\n",
    "# Set global color scheme for historic and modern images.\n",
    "sns_palette_historic = [\"m\"]\n",
    "sns_palette_modern = [\"g\"]\n",
    "\n",
    "# Plot size and y limits.\n",
    "sns_plot_size = (12*sc.golden_ratio, 12)\n",
    "sns_half_plot_size = (4*sc.golden_ratio, 12)\n",
    "sns_ylim = (-0.5, 1)\n",
    "\n",
    "color_blue = '#4E92FF'\n",
    "\n",
    "def set_hline(plot):\n",
    "    plot.axhline(0.0, color=color_blue, linewidth=2.0)"
   ]
  },
  {
   "cell_type": "markdown",
   "id": "275d6c7f",
   "metadata": {},
   "source": [
    "## Get the result files"
   ]
  },
  {
   "cell_type": "code",
   "execution_count": null,
   "id": "072de1e9",
   "metadata": {},
   "outputs": [],
   "source": [
    "# Get current result files.\n",
    "result_dir = Path('../nines/results').absolute()\n",
    "result_file_names = os.listdir(result_dir)\n",
    "result_file_names = list(filter(lambda name: str.startswith(name, 'result'), result_file_names))\n",
    "\n",
    "single_result_files_paths = []\n",
    "for name in result_file_names:\n",
    "    single_result_files_paths.append(result_dir / name)\n",
    "\n",
    "print(f\"Number observer: {len(single_result_files_paths)}\")"
   ]
  },
  {
   "cell_type": "markdown",
   "id": "85a9a607",
   "metadata": {},
   "source": [
    "Write result files to dataframe."
   ]
  },
  {
   "cell_type": "code",
   "execution_count": null,
   "id": "bulgarian-invite",
   "metadata": {},
   "outputs": [],
   "source": [
    "df = pd.DataFrame()\n",
    "for index, path in enumerate(single_result_files_paths):\n",
    "    df_tmp = pd.read_csv(path)\n",
    "    df_tmp['observer'] = index\n",
    "    df = pd.concat((df, df_tmp))\n",
    "\n",
    "df.columns = ['test_image', '0', '1', '2', '3', '4', '5', '6', '7', '8', 'choosen', 'observer']\n"
   ]
  },
  {
   "cell_type": "markdown",
   "id": "76c00372",
   "metadata": {},
   "source": [
    "## Clean up of image names"
   ]
  },
  {
   "cell_type": "code",
   "execution_count": null,
   "id": "2ae0ecd2",
   "metadata": {},
   "outputs": [],
   "source": [
    "df['test_image'] = [s.split('_')[0] for s in df['test_image'].tolist()]\n",
    "df = df.sort_values(by='test_image', ascending=True, key=lambda col: [int(img[1:]) for img in col])"
   ]
  },
  {
   "cell_type": "markdown",
   "id": "096e6c8f",
   "metadata": {},
   "source": [
    "Some observers may have seen more images than planned for.\n",
    "These images are removed."
   ]
  },
  {
   "cell_type": "code",
   "execution_count": null,
   "id": "56b5de50",
   "metadata": {},
   "outputs": [],
   "source": [
    "list_of_used_images = [f\"H{index}\" for index in range(30)]\n",
    "list_of_used_images += [f\"I{index:02d}\" for index in [1, 3, 4, 6, 7, 8, 12, 13, 14, 15 ,16, 20, 21, 22, 23]]\n",
    "assert len(list_of_used_images) == 30 + 15"
   ]
  },
  {
   "cell_type": "code",
   "execution_count": null,
   "id": "d490b7fa",
   "metadata": {},
   "outputs": [],
   "source": [
    "df = df[df[\"test_image\"].isin(list_of_used_images)]"
   ]
  },
  {
   "cell_type": "markdown",
   "id": "3a4c8673",
   "metadata": {},
   "source": [
    "## Sanity checks\n",
    "We expect 30 historic and 15 modern images used during tests.\n",
    "Each result file  from each observer shall be 30 + 15 images long."
   ]
  },
  {
   "cell_type": "code",
   "execution_count": null,
   "id": "ba205d11",
   "metadata": {},
   "outputs": [],
   "source": [
    "# sanity checks: how many groups do you expect per categorical variable?\n",
    "assert len(df['test_image'].unique()) == 30 + 15\n",
    "\n",
    "# Check number of observers.\n",
    "assert len(df['observer'].unique()) == len(result_file_names)\n",
    "\n",
    "# Check length of result from each observer.\n",
    "for observer_id in df['observer'].unique():\n",
    "    assert len(df[df['observer'] == observer_id]) == 30 + 15\n",
    "    assert len(df[df['observer'] == observer_id]['test_image'].unique()) == 30 + 15"
   ]
  },
  {
   "cell_type": "markdown",
   "id": "0542f982",
   "metadata": {},
   "source": [
    "## Normalise chroma values"
   ]
  },
  {
   "cell_type": "code",
   "execution_count": null,
   "id": "40db4c91",
   "metadata": {},
   "outputs": [],
   "source": [
    "df[\"choosen\"] = [(entry[0] / entry[1]) - 1 / entry[1] for entry in list(zip(df[\"choosen\"].tolist(), df[\"8\"].tolist()))]"
   ]
  },
  {
   "cell_type": "code",
   "execution_count": null,
   "id": "dd0053ff",
   "metadata": {},
   "outputs": [],
   "source": [
    "df"
   ]
  },
  {
   "cell_type": "code",
   "execution_count": null,
   "metadata": {},
   "outputs": [],
   "source": [
    "max_factor = np.ceil(max(df[[str(i) for i in range(9)]].max(axis=0)))\n"
   ]
  },
  {
   "cell_type": "markdown",
   "id": "a42678d8",
   "metadata": {},
   "source": [
    "### Devide dataframe into historic and modern images\n",
    "And verify result."
   ]
  },
  {
   "cell_type": "code",
   "execution_count": null,
   "id": "f8ace9ae",
   "metadata": {},
   "outputs": [],
   "source": [
    "df_historic = df[df['test_image'].str.startswith('H')]\n",
    "df_modern = df[df['test_image'].str.startswith('I')]\n",
    "\n",
    "assert len(df_historic['test_image'].unique()) == 30\n",
    "assert len(df_modern['test_image'].unique()) == 15"
   ]
  },
  {
   "cell_type": "markdown",
   "id": "f1fb6474",
   "metadata": {},
   "source": [
    "### Historic plots"
   ]
  },
  {
   "cell_type": "markdown",
   "id": "5471b99c",
   "metadata": {},
   "source": [
    "Boxplot"
   ]
  },
  {
   "cell_type": "code",
   "execution_count": null,
   "id": "1f88ab07",
   "metadata": {},
   "outputs": [],
   "source": [
    "g = sns.catplot(\n",
    "    x='test_image',\n",
    "    y='choosen',\n",
    "    data=df_historic,\n",
    "    kind='box',\n",
    "    ci='sd',\n",
    "    #color='#e34a33')\n",
    "    palette=sns_palette_historic\n",
    ")\n",
    "\n",
    "set_hline(g.axes[0][0])\n",
    "\n",
    "g.fig.set_size_inches(sns_plot_size)\n",
    "\n",
    "g.set(ylim = sns_ylim)\n",
    "\n",
    "g.set_axis_labels(\"Image\", \"Chroma factor\")\n",
    "g.set(title=\"Niner assessment: Historic images\")\n",
    "\n",
    "sns.despine()"
   ]
  },
  {
   "cell_type": "markdown",
   "id": "9811b9b9",
   "metadata": {},
   "source": [
    "### Modern plots"
   ]
  },
  {
   "cell_type": "code",
   "execution_count": null,
   "id": "b0fd927e",
   "metadata": {},
   "outputs": [],
   "source": [
    "g = sns.catplot(\n",
    "    x='test_image',\n",
    "    y='choosen',\n",
    "    data=df_modern,\n",
    "    kind='box',\n",
    "    ci='sd', \n",
    "    palette=sns_palette_modern\n",
    ")\n",
    "set_hline(g.axes[0][0])\n",
    "\n",
    "g.fig.set_size_inches(sns_plot_size)\n",
    "\n",
    "g.set(ylim = sns_ylim)\n",
    "\n",
    "g.set_axis_labels(\"Image\", \"Chroma factor\")\n",
    "g.set(title=\"Niner assessment: Modern images\")\n",
    "sns.despine()"
   ]
  },
  {
   "cell_type": "markdown",
   "id": "5c090a99",
   "metadata": {},
   "source": [
    "# Plots for both image groups"
   ]
  },
  {
   "cell_type": "code",
   "execution_count": null,
   "id": "ee13a8c0",
   "metadata": {},
   "outputs": [],
   "source": [
    "means = []\n",
    "for img in df_historic[\"test_image\"].unique():\n",
    "    means.append((img, \"H\", np.mean(df_historic[df_historic[\"test_image\"] == img])[\"choosen\"]))\n",
    "\n",
    "for img in df_modern[\"test_image\"].unique():\n",
    "    means.append((img, \"I\", np.mean(df_modern[df_modern[\"test_image\"] == img])[\"choosen\"]))\n",
    "    \n",
    "df_mean = pd.DataFrame(means)\n",
    "df_mean.columns = [\"test_image\", \"type\", \"mean\"]\n",
    "df_mean"
   ]
  },
  {
   "cell_type": "markdown",
   "id": "2757b194",
   "metadata": {},
   "source": [
    "Boxplot overall modern and historic images."
   ]
  },
  {
   "cell_type": "code",
   "execution_count": null,
   "id": "9fd174a7",
   "metadata": {},
   "outputs": [],
   "source": [
    "g = sns.boxplot(\n",
    "    x=\"type\",\n",
    "    y=\"mean\",\n",
    "    palette=[sns_palette_historic[0], sns_palette_modern[0]],\n",
    "    data=df_mean\n",
    ")\n",
    "set_hline(g)\n",
    "\n",
    "g.set(title=\"Niner assessment:\\nChoosen mean chroma factor of historic and modern images\")\n",
    "g.figure.set_size_inches(sns_half_plot_size)\n",
    "g.set(ylim = sns_ylim)\n",
    "g.set_xlabel(\"Image type\")\n",
    "g.set_ylabel(\"Chroma factor mean\")\n",
    "g.set(xticklabels=[\"Historic\", \"Modern\"])"
   ]
  },
  {
   "cell_type": "markdown",
   "id": "65abeead",
   "metadata": {},
   "source": [
    "## t-Test"
   ]
  },
  {
   "cell_type": "markdown",
   "id": "ea27af9d",
   "metadata": {},
   "source": [
    "Select mean from all observers and for all images. Devided into the two groups."
   ]
  },
  {
   "cell_type": "code",
   "execution_count": null,
   "id": "6603f0e2",
   "metadata": {},
   "outputs": [],
   "source": [
    "historic_mean = df_mean[df_mean[\"type\"] == \"H\"][\"mean\"]\n",
    "modern_mean = df_mean[df_mean[\"type\"] == \"I\"][\"mean\"]\n",
    "\n",
    "print(f\"Size historis means: {len(historic_mean)}\")\n",
    "print(f\"Size modern means: {len(modern_mean)}\")"
   ]
  },
  {
   "cell_type": "markdown",
   "id": "5c49631e",
   "metadata": {},
   "source": [
    "Perform the t-test.\n",
    "* Null hypothesis: 2 independent samples have identical average (expected) values."
   ]
  },
  {
   "cell_type": "code",
   "execution_count": null,
   "id": "5b54c148",
   "metadata": {},
   "outputs": [],
   "source": [
    "tstat, pvalue = stats.ttest_ind(historic_mean, modern_mean)\n",
    "\n",
    "print('p-value:', pvalue)"
   ]
  },
  {
   "cell_type": "markdown",
   "id": "b77758b2",
   "metadata": {},
   "source": [
    "Result: We can not reject the null hypothesis. The p value > .05.\n",
    "We have to assume both groups have identical average expected values."
   ]
  }
 ],
 "metadata": {
  "kernelspec": {
   "display_name": "Python 3 (ipykernel)",
   "language": "python",
   "name": "python3"
  },
  "language_info": {
   "codemirror_mode": {
    "name": "ipython",
    "version": 3
   },
   "file_extension": ".py",
   "mimetype": "text/x-python",
   "name": "python",
   "nbconvert_exporter": "python",
   "pygments_lexer": "ipython3",
   "version": "3.8.10"
  }
 },
 "nbformat": 4,
 "nbformat_minor": 5
}
