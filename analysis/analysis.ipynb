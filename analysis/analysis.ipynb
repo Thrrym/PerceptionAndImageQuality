{
 "cells": [
  {
   "cell_type": "markdown",
   "id": "hydraulic-flooring",
   "metadata": {},
   "source": [
    "# Analysis"
   ]
  },
  {
   "cell_type": "code",
   "execution_count": 5,
   "id": "prospective-monthly",
   "metadata": {
    "scrolled": true
   },
   "outputs": [],
   "source": [
    "import os\n",
    "import pandas as pd   # module to work with data in DataFrames.\n",
    "import seaborn as sns  # module to plot DataFrames in an easy way\n",
    "import matplotlib.pyplot as plt\n",
    "from pathlib import Path"
   ]
  },
  {
   "cell_type": "code",
   "execution_count": 3,
   "id": "technological-utilization",
   "metadata": {},
   "outputs": [],
   "source": [
    "# seaborn comes with default presets (called 'contents') for figure's aesthetics, \n",
    "# such as the font size, figure size etc. \n",
    "sns.set_context('talk') # try: 'talk', 'poster', 'notebook'"
   ]
  },
  {
   "cell_type": "code",
   "execution_count": 21,
   "id": "072de1e9",
   "metadata": {},
   "outputs": [
    {
     "data": {
      "text/plain": [
       "[PosixPath('/home/max/git/PerceptionAndImageQuality/analysis/../single_assessment/results/result_20220116-205338_max.csv'),\n",
       " PosixPath('/home/max/git/PerceptionAndImageQuality/analysis/../single_assessment/results/result_20220116-210153_marius.csv')]"
      ]
     },
     "execution_count": 21,
     "metadata": {},
     "output_type": "execute_result"
    }
   ],
   "source": [
    "# Get current result files.\n",
    "single_result_dir = Path('../single_assessment/results').absolute()\n",
    "single_result_file_names = os.listdir(single_result_dir)\n",
    "single_result_file_names = list(filter(lambda name: str.startswith(name, 'result'), single_result_file_names))\n",
    "\n",
    "single_result_files_paths = []\n",
    "for name in single_result_file_names:\n",
    "    single_result_files_paths.append(single_result_dir / name)\n",
    "\n",
    "single_result_files_paths"
   ]
  },
  {
   "cell_type": "code",
   "execution_count": 22,
   "id": "bulgarian-invite",
   "metadata": {},
   "outputs": [
    {
     "data": {
      "text/html": [
       "<div>\n",
       "<style scoped>\n",
       "    .dataframe tbody tr th:only-of-type {\n",
       "        vertical-align: middle;\n",
       "    }\n",
       "\n",
       "    .dataframe tbody tr th {\n",
       "        vertical-align: top;\n",
       "    }\n",
       "\n",
       "    .dataframe thead th {\n",
       "        text-align: right;\n",
       "    }\n",
       "</style>\n",
       "<table border=\"1\" class=\"dataframe\">\n",
       "  <thead>\n",
       "    <tr style=\"text-align: right;\">\n",
       "      <th></th>\n",
       "      <th>test_image</th>\n",
       "      <th>response</th>\n",
       "      <th>resptime</th>\n",
       "      <th>observer</th>\n",
       "    </tr>\n",
       "  </thead>\n",
       "  <tbody>\n",
       "    <tr>\n",
       "      <th>0</th>\n",
       "      <td>H6_1.0_chroma.JPG</td>\n",
       "      <td>4</td>\n",
       "      <td>6.411650</td>\n",
       "      <td>0</td>\n",
       "    </tr>\n",
       "    <tr>\n",
       "      <th>1</th>\n",
       "      <td>H27_1.0_chroma.JPG</td>\n",
       "      <td>3</td>\n",
       "      <td>3.590774</td>\n",
       "      <td>0</td>\n",
       "    </tr>\n",
       "    <tr>\n",
       "      <th>2</th>\n",
       "      <td>I21_1.0_chroma.JPG</td>\n",
       "      <td>5</td>\n",
       "      <td>2.798328</td>\n",
       "      <td>0</td>\n",
       "    </tr>\n",
       "    <tr>\n",
       "      <th>3</th>\n",
       "      <td>H14_1.0_chroma.JPG</td>\n",
       "      <td>2</td>\n",
       "      <td>2.703999</td>\n",
       "      <td>0</td>\n",
       "    </tr>\n",
       "    <tr>\n",
       "      <th>4</th>\n",
       "      <td>H25_1.0_chroma.JPG</td>\n",
       "      <td>4</td>\n",
       "      <td>3.903137</td>\n",
       "      <td>0</td>\n",
       "    </tr>\n",
       "    <tr>\n",
       "      <th>...</th>\n",
       "      <td>...</td>\n",
       "      <td>...</td>\n",
       "      <td>...</td>\n",
       "      <td>...</td>\n",
       "    </tr>\n",
       "    <tr>\n",
       "      <th>40</th>\n",
       "      <td>H28_1.0_chroma.JPG</td>\n",
       "      <td>3</td>\n",
       "      <td>3.825971</td>\n",
       "      <td>1</td>\n",
       "    </tr>\n",
       "    <tr>\n",
       "      <th>41</th>\n",
       "      <td>H23_1.0_chroma.JPG</td>\n",
       "      <td>6</td>\n",
       "      <td>16.109562</td>\n",
       "      <td>1</td>\n",
       "    </tr>\n",
       "    <tr>\n",
       "      <th>42</th>\n",
       "      <td>I13_1.0_chroma.JPG</td>\n",
       "      <td>6</td>\n",
       "      <td>5.256825</td>\n",
       "      <td>1</td>\n",
       "    </tr>\n",
       "    <tr>\n",
       "      <th>43</th>\n",
       "      <td>H19_1.0_chroma.JPG</td>\n",
       "      <td>4</td>\n",
       "      <td>7.310796</td>\n",
       "      <td>1</td>\n",
       "    </tr>\n",
       "    <tr>\n",
       "      <th>44</th>\n",
       "      <td>I12_1.0_chroma.JPG</td>\n",
       "      <td>6</td>\n",
       "      <td>1.603614</td>\n",
       "      <td>1</td>\n",
       "    </tr>\n",
       "  </tbody>\n",
       "</table>\n",
       "<p>90 rows × 4 columns</p>\n",
       "</div>"
      ],
      "text/plain": [
       "            test_image  response   resptime  observer\n",
       "0    H6_1.0_chroma.JPG         4   6.411650         0\n",
       "1   H27_1.0_chroma.JPG         3   3.590774         0\n",
       "2   I21_1.0_chroma.JPG         5   2.798328         0\n",
       "3   H14_1.0_chroma.JPG         2   2.703999         0\n",
       "4   H25_1.0_chroma.JPG         4   3.903137         0\n",
       "..                 ...       ...        ...       ...\n",
       "40  H28_1.0_chroma.JPG         3   3.825971         1\n",
       "41  H23_1.0_chroma.JPG         6  16.109562         1\n",
       "42  I13_1.0_chroma.JPG         6   5.256825         1\n",
       "43  H19_1.0_chroma.JPG         4   7.310796         1\n",
       "44  I12_1.0_chroma.JPG         6   1.603614         1\n",
       "\n",
       "[90 rows x 4 columns]"
      ]
     },
     "execution_count": 22,
     "metadata": {},
     "output_type": "execute_result"
    }
   ],
   "source": [
    "# we read the data\n",
    "file = single_result_files_paths.pop()\n",
    "df = pd.read_csv(file)\n",
    "observer_num = 0\n",
    "df['observer'] = observer_num\n",
    "observer_num += 1\n",
    "\n",
    "for path in single_result_files_paths:\n",
    "    df_tmp = pd.read_csv(path)\n",
    "    df_tmp['observer'] = observer_num\n",
    "    df = pd.concat((df, df_tmp))\n",
    "\n",
    "#for file in single_result_files_paths:\n",
    "\n",
    "# if we have more observers we could read their files, assign the column observer \n",
    "# with their name, and concatenate the DataFrames with pd.concat(). Example:\n",
    "#df1 = pd.read_csv('Person1.csv')\n",
    "#df1['observer'] = 'Person1'      # creates a new column called 'observer'\n",
    "#df2 = pd.read_csv('Person2.csv') # reads second file\n",
    "#df2['observer'] = 'Person2'     \n",
    "#df = pd.concat((df, df2))        # concatenates both dataframes in one\n",
    "df\n"
   ]
  },
  {
   "cell_type": "code",
   "execution_count": 23,
   "id": "numeric-primary",
   "metadata": {},
   "outputs": [],
   "source": [
    "# explore the first entries in your data\n",
    "#df"
   ]
  },
  {
   "cell_type": "markdown",
   "id": "2545e1a0",
   "metadata": {},
   "source": [
    "# Sanity checks\n",
    "We expect 30 historic and 15 modern images used during tests.\n",
    "Only responses from [0, 9] accepted."
   ]
  },
  {
   "cell_type": "code",
   "execution_count": 40,
   "id": "acoustic-anger",
   "metadata": {},
   "outputs": [],
   "source": [
    "# sanity checks: how many groups do you expect per categorical variable?\n",
    "assert len(df['test_image'].unique()) == 30 + 15\n",
    "assert max(df['response'].unique()) <= 9\n",
    "assert min(df['response'].unique()) >= 0"
   ]
  },
  {
   "cell_type": "markdown",
   "id": "awful-newspaper",
   "metadata": {},
   "source": [
    "## Visualizing data for one image\n"
   ]
  },
  {
   "cell_type": "code",
   "execution_count": 47,
   "id": "iraqi-lebanon",
   "metadata": {},
   "outputs": [],
   "source": [
    "# selecting data for only one picture\n",
    "\n",
    "image_names = df['test_image'].unique()\n",
    "current_image = image_names[0]\n",
    "d = df[df['test_image'] == current_image]\n",
    "\n"
   ]
  },
  {
   "cell_type": "code",
   "execution_count": 46,
   "id": "elementary-crawford",
   "metadata": {},
   "outputs": [
    {
     "data": {
      "text/html": [
       "<div>\n",
       "<style scoped>\n",
       "    .dataframe tbody tr th:only-of-type {\n",
       "        vertical-align: middle;\n",
       "    }\n",
       "\n",
       "    .dataframe tbody tr th {\n",
       "        vertical-align: top;\n",
       "    }\n",
       "\n",
       "    .dataframe thead th {\n",
       "        text-align: right;\n",
       "    }\n",
       "</style>\n",
       "<table border=\"1\" class=\"dataframe\">\n",
       "  <thead>\n",
       "    <tr style=\"text-align: right;\">\n",
       "      <th></th>\n",
       "      <th>test_image</th>\n",
       "      <th>response</th>\n",
       "      <th>resptime</th>\n",
       "      <th>observer</th>\n",
       "    </tr>\n",
       "  </thead>\n",
       "  <tbody>\n",
       "    <tr>\n",
       "      <th>0</th>\n",
       "      <td>H6_1.0_chroma.JPG</td>\n",
       "      <td>4</td>\n",
       "      <td>6.411650</td>\n",
       "      <td>0</td>\n",
       "    </tr>\n",
       "    <tr>\n",
       "      <th>6</th>\n",
       "      <td>H6_1.0_chroma.JPG</td>\n",
       "      <td>2</td>\n",
       "      <td>1.375361</td>\n",
       "      <td>1</td>\n",
       "    </tr>\n",
       "  </tbody>\n",
       "</table>\n",
       "</div>"
      ],
      "text/plain": [
       "          test_image  response  resptime  observer\n",
       "0  H6_1.0_chroma.JPG         4  6.411650         0\n",
       "6  H6_1.0_chroma.JPG         2  1.375361         1"
      ]
     },
     "execution_count": 46,
     "metadata": {},
     "output_type": "execute_result"
    }
   ],
   "source": [
    "d"
   ]
  },
  {
   "cell_type": "code",
   "execution_count": 15,
   "id": "commercial-operation",
   "metadata": {},
   "outputs": [
    {
     "data": {
      "image/png": "[encoded data removed]",
      "text/plain": [
       "<Figure size 432x288 with 1 Axes>"
      ]
     },
     "metadata": {
      "needs_background": "light"
     },
     "output_type": "display_data"
    }
   ],
   "source": [
    "# distribution of quality values for this image category\n",
    "plt.hist(d['quality_value'])\n",
    "plt.xlabel('Quality')\n",
    "plt.ylabel('Frequency')\n",
    "plt.xlim((-3, 3))\n",
    "sns.despine()"
   ]
  },
  {
   "cell_type": "code",
   "execution_count": 48,
   "id": "digital-declaration",
   "metadata": {},
   "outputs": [
    {
     "ename": "ValueError",
     "evalue": "Could not interpret input 'k'",
     "output_type": "error",
     "traceback": [
      "\u001b[0;31m---------------------------------------------------------------------------\u001b[0m",
      "\u001b[0;31mValueError\u001b[0m                                Traceback (most recent call last)",
      "\u001b[0;32m/tmp/ipykernel_8456/1521160497.py\u001b[0m in \u001b[0;36m<module>\u001b[0;34m\u001b[0m\n\u001b[1;32m      1\u001b[0m \u001b[0;31m### barplot aggregated by k\u001b[0m\u001b[0;34m\u001b[0m\u001b[0;34m\u001b[0m\u001b[0;34m\u001b[0m\u001b[0m\n\u001b[1;32m      2\u001b[0m \u001b[0;31m## we call the function catplot() (cat: categorical)\u001b[0m\u001b[0;34m\u001b[0m\u001b[0;34m\u001b[0m\u001b[0;34m\u001b[0m\u001b[0m\n\u001b[0;32m----> 3\u001b[0;31m g = sns.catplot(x='k', y='response', data=d,\n\u001b[0m\u001b[1;32m      4\u001b[0m                 kind='bar', ci='sd', color='#e34a33')\n\u001b[1;32m      5\u001b[0m \u001b[0;34m\u001b[0m\u001b[0m\n",
      "\u001b[0;32m~/.local/lib/python3.8/site-packages/seaborn/_decorators.py\u001b[0m in \u001b[0;36minner_f\u001b[0;34m(*args, **kwargs)\u001b[0m\n\u001b[1;32m     44\u001b[0m             )\n\u001b[1;32m     45\u001b[0m         \u001b[0mkwargs\u001b[0m\u001b[0;34m.\u001b[0m\u001b[0mupdate\u001b[0m\u001b[0;34m(\u001b[0m\u001b[0;34m{\u001b[0m\u001b[0mk\u001b[0m\u001b[0;34m:\u001b[0m \u001b[0marg\u001b[0m \u001b[0;32mfor\u001b[0m \u001b[0mk\u001b[0m\u001b[0;34m,\u001b[0m \u001b[0marg\u001b[0m \u001b[0;32min\u001b[0m \u001b[0mzip\u001b[0m\u001b[0;34m(\u001b[0m\u001b[0msig\u001b[0m\u001b[0;34m.\u001b[0m\u001b[0mparameters\u001b[0m\u001b[0;34m,\u001b[0m \u001b[0margs\u001b[0m\u001b[0;34m)\u001b[0m\u001b[0;34m}\u001b[0m\u001b[0;34m)\u001b[0m\u001b[0;34m\u001b[0m\u001b[0;34m\u001b[0m\u001b[0m\n\u001b[0;32m---> 46\u001b[0;31m         \u001b[0;32mreturn\u001b[0m \u001b[0mf\u001b[0m\u001b[0;34m(\u001b[0m\u001b[0;34m**\u001b[0m\u001b[0mkwargs\u001b[0m\u001b[0;34m)\u001b[0m\u001b[0;34m\u001b[0m\u001b[0;34m\u001b[0m\u001b[0m\n\u001b[0m\u001b[1;32m     47\u001b[0m     \u001b[0;32mreturn\u001b[0m \u001b[0minner_f\u001b[0m\u001b[0;34m\u001b[0m\u001b[0;34m\u001b[0m\u001b[0m\n\u001b[1;32m     48\u001b[0m \u001b[0;34m\u001b[0m\u001b[0m\n",
      "\u001b[0;32m~/.local/lib/python3.8/site-packages/seaborn/categorical.py\u001b[0m in \u001b[0;36mcatplot\u001b[0;34m(x, y, hue, data, row, col, col_wrap, estimator, ci, n_boot, units, seed, order, hue_order, row_order, col_order, kind, height, aspect, orient, color, palette, legend, legend_out, sharex, sharey, margin_titles, facet_kws, **kwargs)\u001b[0m\n\u001b[1;32m   3790\u001b[0m     \u001b[0mp\u001b[0m \u001b[0;34m=\u001b[0m \u001b[0m_CategoricalPlotter\u001b[0m\u001b[0;34m(\u001b[0m\u001b[0;34m)\u001b[0m\u001b[0;34m\u001b[0m\u001b[0;34m\u001b[0m\u001b[0m\n\u001b[1;32m   3791\u001b[0m     \u001b[0mp\u001b[0m\u001b[0;34m.\u001b[0m\u001b[0mrequire_numeric\u001b[0m \u001b[0;34m=\u001b[0m \u001b[0mplotter_class\u001b[0m\u001b[0;34m.\u001b[0m\u001b[0mrequire_numeric\u001b[0m\u001b[0;34m\u001b[0m\u001b[0;34m\u001b[0m\u001b[0m\n\u001b[0;32m-> 3792\u001b[0;31m     \u001b[0mp\u001b[0m\u001b[0;34m.\u001b[0m\u001b[0mestablish_variables\u001b[0m\u001b[0;34m(\u001b[0m\u001b[0mx_\u001b[0m\u001b[0;34m,\u001b[0m \u001b[0my_\u001b[0m\u001b[0;34m,\u001b[0m \u001b[0mhue\u001b[0m\u001b[0;34m,\u001b[0m \u001b[0mdata\u001b[0m\u001b[0;34m,\u001b[0m \u001b[0morient\u001b[0m\u001b[0;34m,\u001b[0m \u001b[0morder\u001b[0m\u001b[0;34m,\u001b[0m \u001b[0mhue_order\u001b[0m\u001b[0;34m)\u001b[0m\u001b[0;34m\u001b[0m\u001b[0;34m\u001b[0m\u001b[0m\n\u001b[0m\u001b[1;32m   3793\u001b[0m     if (\n\u001b[1;32m   3794\u001b[0m         \u001b[0morder\u001b[0m \u001b[0;32mis\u001b[0m \u001b[0;32mnot\u001b[0m \u001b[0;32mNone\u001b[0m\u001b[0;34m\u001b[0m\u001b[0;34m\u001b[0m\u001b[0m\n",
      "\u001b[0;32m~/.local/lib/python3.8/site-packages/seaborn/categorical.py\u001b[0m in \u001b[0;36mestablish_variables\u001b[0;34m(self, x, y, hue, data, orient, order, hue_order, units)\u001b[0m\n\u001b[1;32m    151\u001b[0m                 \u001b[0;32mif\u001b[0m \u001b[0misinstance\u001b[0m\u001b[0;34m(\u001b[0m\u001b[0mvar\u001b[0m\u001b[0;34m,\u001b[0m \u001b[0mstr\u001b[0m\u001b[0;34m)\u001b[0m\u001b[0;34m:\u001b[0m\u001b[0;34m\u001b[0m\u001b[0;34m\u001b[0m\u001b[0m\n\u001b[1;32m    152\u001b[0m                     \u001b[0merr\u001b[0m \u001b[0;34m=\u001b[0m \u001b[0;34m\"Could not interpret input '{}'\"\u001b[0m\u001b[0;34m.\u001b[0m\u001b[0mformat\u001b[0m\u001b[0;34m(\u001b[0m\u001b[0mvar\u001b[0m\u001b[0;34m)\u001b[0m\u001b[0;34m\u001b[0m\u001b[0;34m\u001b[0m\u001b[0m\n\u001b[0;32m--> 153\u001b[0;31m                     \u001b[0;32mraise\u001b[0m \u001b[0mValueError\u001b[0m\u001b[0;34m(\u001b[0m\u001b[0merr\u001b[0m\u001b[0;34m)\u001b[0m\u001b[0;34m\u001b[0m\u001b[0;34m\u001b[0m\u001b[0m\n\u001b[0m\u001b[1;32m    154\u001b[0m \u001b[0;34m\u001b[0m\u001b[0m\n\u001b[1;32m    155\u001b[0m             \u001b[0;31m# Figure out the plotting orientation\u001b[0m\u001b[0;34m\u001b[0m\u001b[0;34m\u001b[0m\u001b[0;34m\u001b[0m\u001b[0m\n",
      "\u001b[0;31mValueError\u001b[0m: Could not interpret input 'k'"
     ]
    }
   ],
   "source": [
    "### barplot aggregated by k\n",
    "## we call the function catplot() (cat: categorical)\n",
    "g = sns.catplot(x='k', y='quality_value', data=d,\n",
    "                kind='bar', ci='sd', color='#e34a33')\n",
    "\n",
    "\n",
    "g.set_ylabels('Quality')\n",
    "g.set_xlabels('Kontrast')\n",
    "g.set(ylim = (-3, 3))\n",
    "#plt.title(picname)"
   ]
  },
  {
   "cell_type": "code",
   "execution_count": 53,
   "id": "defensive-olive",
   "metadata": {},
   "outputs": [
    {
     "data": {
      "text/plain": [
       "Text(0.5, 1.0, 'H6_1.0_chroma.JPG')"
      ]
     },
     "execution_count": 53,
     "metadata": {},
     "output_type": "execute_result"
    },
    {
     "data": {
      "image/png": "[encoded data removed]",
      "text/plain": [
       "<Figure size 360x360 with 1 Axes>"
      ]
     },
     "metadata": {
      "needs_background": "light"
     },
     "output_type": "display_data"
    }
   ],
   "source": [
    "### barplot aggregated by g\n",
    "g = sns.catplot(x='test_image', y='response', data=d, kind='bar', color='#3182bd',\n",
    "            ci='sd')\n",
    "g.set_ylabels('Quality')\n",
    "g.set_xlabels('Gamma')\n",
    "g.set(ylim = (-3, 3))\n",
    "plt.title(current_image)"
   ]
  },
  {
   "cell_type": "code",
   "execution_count": 18,
   "id": "interpreted-mexican",
   "metadata": {},
   "outputs": [
    {
     "data": {
      "text/plain": [
       "<seaborn.axisgrid.FacetGrid at 0x7f63d04e7430>"
      ]
     },
     "execution_count": 18,
     "metadata": {},
     "output_type": "execute_result"
    },
    {
     "data": {
      "image/png": "[encoded data removed]",
      "text/plain": [
       "<Figure size 456.15x360 with 1 Axes>"
      ]
     },
     "metadata": {
      "needs_background": "light"
     },
     "output_type": "display_data"
    }
   ],
   "source": [
    "#### barplot aggregated by k and g\n",
    "g = sns.catplot(x='k', y='quality_value', data=d, hue='g', palette='Greens',\n",
    "                kind='bar', ci='sd')\n",
    "g.set_ylabels('Quality')\n",
    "g.set_xlabels('Kontrast')\n",
    "g.set(ylim = (-3, 3))"
   ]
  },
  {
   "cell_type": "markdown",
   "id": "charitable-merit",
   "metadata": {},
   "source": [
    "## Visualizing data from all pictures"
   ]
  },
  {
   "cell_type": "code",
   "execution_count": 19,
   "id": "super-firewall",
   "metadata": {},
   "outputs": [
    {
     "data": {
      "image/png": "[encoded data removed]",
      "text/plain": [
       "<Figure size 1176.15x1800 with 15 Axes>"
      ]
     },
     "metadata": {
      "needs_background": "light"
     },
     "output_type": "display_data"
    }
   ],
   "source": [
    "# %%  Using small multiples to visualize data from all pictures in one figure \n",
    "g = sns.catplot(x='k', y='quality_value', data=df, hue='g',\n",
    "                col='picture', \n",
    "                col_wrap = 3, \n",
    "                kind='bar', ci='sd', \n",
    "                #height=4,\n",
    "                palette='Greens')\n",
    "\n",
    "\n",
    "\n",
    "g.set_ylabels('Quality')\n",
    "g.set_xlabels('Kontrast')\n",
    "g.set_titles('{col_name}')\n",
    "g.set(ylim = (-3, 3))\n",
    "g.savefig('allpictures_in_different_panels.pdf')\n"
   ]
  },
  {
   "cell_type": "code",
   "execution_count": 20,
   "id": "lonely-details",
   "metadata": {},
   "outputs": [
    {
     "data": {
      "image/png": "[encoded data removed]",
      "text/plain": [
       "<Figure size 456.15x360 with 1 Axes>"
      ]
     },
     "metadata": {
      "needs_background": "light"
     },
     "output_type": "display_data"
    }
   ],
   "source": [
    "# %% collapsing all pictures into one visualization\n",
    "g = sns.catplot(x='k', y='quality_value', data=df, hue='g',\n",
    "                kind='bar', ci='sd', errwidth=2,\n",
    "                palette='Greens')\n",
    "g.set_ylabels('Quality')\n",
    "g.set_xlabels('Kontrast')\n",
    "g.set(ylim = (-3, 3))\n",
    "\n",
    "plt.title('all pictures aggregated')\n",
    "g.savefig('allpictures_aggregated.pdf')\n"
   ]
  },
  {
   "cell_type": "markdown",
   "id": "educational-split",
   "metadata": {},
   "source": [
    "## Some statistical analysis"
   ]
  },
  {
   "cell_type": "code",
   "execution_count": 21,
   "id": "super-clerk",
   "metadata": {},
   "outputs": [],
   "source": [
    "# we load scipy\n",
    "import scipy"
   ]
  },
  {
   "cell_type": "markdown",
   "id": "latin-education",
   "metadata": {},
   "source": [
    "### t-test \n",
    "With a t-test we can test whether the values of two groups have the same mean. The null-hypothesis states that the mean difference between the two samples is zero. \n",
    "The test gives us a 'p-value', the conditional probability for the observed difference between means under the assumption (condition) that the null-hypothesis is true. When the p-value is smaller than a criterion value (0.05 for 95 % confidence by convention), we say we *reject* the null-hypothesis. In other words, a p value <.05 indicates that the difference between the two samples is unlikely to be truly zero."
   ]
  },
  {
   "cell_type": "code",
   "execution_count": 22,
   "id": "logical-basic",
   "metadata": {},
   "outputs": [],
   "source": [
    "# we select the data we want to compare. We select the data for k=0.5 and k=1.5 \n",
    "# and assign them to two vectors, k1 and k2\n",
    "k1 = df[df['k']==0.5]\n",
    "k2 = df[df['k']==1.0]\n",
    "\n",
    "#k1['quality_value']\n",
    "#k2['quality_value']\n"
   ]
  },
  {
   "cell_type": "code",
   "execution_count": 23,
   "id": "applicable-record",
   "metadata": {},
   "outputs": [
    {
     "name": "stdout",
     "output_type": "stream",
     "text": [
      "p-value: 2.606247110907521e-21\n"
     ]
    }
   ],
   "source": [
    "# we call a t-test for two independent samples \n",
    "tstat, pvalue = scipy.stats.ttest_ind(k1['quality_value'], \n",
    "                                      k2['quality_value']) \n",
    "\n",
    "print('p-value:', pvalue)"
   ]
  },
  {
   "cell_type": "markdown",
   "id": "flying-branch",
   "metadata": {},
   "source": [
    "The p-value is << 0.05, so we reject the null hypothesis and say that the difference is significant."
   ]
  },
  {
   "cell_type": "markdown",
   "id": "ordinary-europe",
   "metadata": {},
   "source": [
    "### ANOVA\n",
    "If we want to compare the means of more than 2 groups, we need to perform an Analysis of Variance (ANOVA). The null-hypothesis in the ANOVA states that there is no difference between the means of the groups. A p-value less than 0.05 (at 95 %) rejects this general hypothesis without indicating which groups are different from one another."
   ]
  },
  {
   "cell_type": "code",
   "execution_count": 24,
   "id": "expressed-determination",
   "metadata": {},
   "outputs": [],
   "source": [
    "# for an ANOVA we need the python module statsmodels (statistical models)\n",
    "import statsmodels.api as sm  \n",
    "\n",
    "# the particular function we need is called ols()\n",
    "# (ols: ordinary least squares, that is the type of fitting)\n",
    "from statsmodels.formula.api import ols   "
   ]
  },
  {
   "cell_type": "code",
   "execution_count": 25,
   "id": "renewable-straight",
   "metadata": {},
   "outputs": [
    {
     "data": {
      "text/html": [
       "<div>\n",
       "<style scoped>\n",
       "    .dataframe tbody tr th:only-of-type {\n",
       "        vertical-align: middle;\n",
       "    }\n",
       "\n",
       "    .dataframe tbody tr th {\n",
       "        vertical-align: top;\n",
       "    }\n",
       "\n",
       "    .dataframe thead th {\n",
       "        text-align: right;\n",
       "    }\n",
       "</style>\n",
       "<table border=\"1\" class=\"dataframe\">\n",
       "  <thead>\n",
       "    <tr style=\"text-align: right;\">\n",
       "      <th></th>\n",
       "      <th>df</th>\n",
       "      <th>sum_sq</th>\n",
       "      <th>mean_sq</th>\n",
       "      <th>F</th>\n",
       "      <th>PR(&gt;F)</th>\n",
       "    </tr>\n",
       "  </thead>\n",
       "  <tbody>\n",
       "    <tr>\n",
       "      <th>C(k)</th>\n",
       "      <td>4.0</td>\n",
       "      <td>121.098479</td>\n",
       "      <td>30.274620</td>\n",
       "      <td>40.554424</td>\n",
       "      <td>6.241619e-28</td>\n",
       "    </tr>\n",
       "    <tr>\n",
       "      <th>C(g)</th>\n",
       "      <td>4.0</td>\n",
       "      <td>59.353084</td>\n",
       "      <td>14.838271</td>\n",
       "      <td>19.876634</td>\n",
       "      <td>9.159041e-15</td>\n",
       "    </tr>\n",
       "    <tr>\n",
       "      <th>Residual</th>\n",
       "      <td>351.0</td>\n",
       "      <td>262.027924</td>\n",
       "      <td>0.746518</td>\n",
       "      <td>NaN</td>\n",
       "      <td>NaN</td>\n",
       "    </tr>\n",
       "  </tbody>\n",
       "</table>\n",
       "</div>"
      ],
      "text/plain": [
       "             df      sum_sq    mean_sq          F        PR(>F)\n",
       "C(k)        4.0  121.098479  30.274620  40.554424  6.241619e-28\n",
       "C(g)        4.0   59.353084  14.838271  19.876634  9.159041e-15\n",
       "Residual  351.0  262.027924   0.746518        NaN           NaN"
      ]
     },
     "execution_count": 25,
     "metadata": {},
     "output_type": "execute_result"
    }
   ],
   "source": [
    "# we need to set up a 'formula' for the model. This formula is similar to the syntax in R.\n",
    "\n",
    "# on the left side of the tilde we put the dependent variable\n",
    "# on the right side of the tilde we state the independent variables \n",
    "# the C( )  indicates that we consider the variable as a categorical variable (and not continuous)\n",
    "# the sign + is not a sum, it is to indicate more than one variable.\n",
    "# the sign * is not a multiplication, it is to indicate we want to also model interactions between the variables\n",
    "\n",
    "# we call ols() passing the model 'formula'\n",
    "mod = ols('quality_value ~ C(k) + C(g)', data=df)\n",
    "\n",
    "# we fit the model\n",
    "fit = mod.fit()\n",
    "\n",
    "# we show the ANOVA table\n",
    "sm.stats.anova_lm(fit)"
   ]
  },
  {
   "cell_type": "markdown",
   "id": "capable-elephant",
   "metadata": {},
   "source": [
    "The ANOVA table shows that for both variables k and g there is a signifficant effect (p-values < 0.05 for 95 % confidence). There is also a signifficant interaction term ('C(k):C(g)').\n",
    "\n",
    "\n",
    "The p-values reject the null hypothesis, meaning that there is a significant difference between the means. But which ones? To answer that we need to perform a so-called post-hoc test. "
   ]
  },
  {
   "cell_type": "markdown",
   "id": "roman-possibility",
   "metadata": {},
   "source": [
    "Post-hoc tests do all the pairwise comparisons (like a t-test), but correcting the p-value for multiple comparisons. This correction is needed because of statistical reasons. The risk of not correcting is that we will be detecting differences that are not there. (https://en.wikipedia.org/wiki/Multiple_comparisons_problem)."
   ]
  },
  {
   "cell_type": "code",
   "execution_count": 26,
   "id": "published-butterfly",
   "metadata": {},
   "outputs": [
    {
     "data": {
      "text/html": [
       "<table class=\"simpletable\">\n",
       "<caption>Test Multiple Comparison ttest_ind \n",
       "FWER=0.05 method=bonf\n",
       "alphacSidak=0.01, alphacBonf=0.005</caption>\n",
       "<tr>\n",
       "  <th>group1</th> <th>group2</th>   <th>stat</th>    <th>pval</th>  <th>pval_corr</th> <th>reject</th>\n",
       "</tr>\n",
       "<tr>\n",
       "    <td>0.5</td>   <td>0.75</td>   <td>-9.0713</td>   <td>0.0</td>     <td>0.0</td>     <td>True</td> \n",
       "</tr>\n",
       "<tr>\n",
       "    <td>0.5</td>    <td>1.0</td>   <td>-11.355</td>   <td>0.0</td>     <td>0.0</td>     <td>True</td> \n",
       "</tr>\n",
       "<tr>\n",
       "    <td>0.5</td>   <td>1.25</td>  <td>-11.0697</td>   <td>0.0</td>     <td>0.0</td>     <td>True</td> \n",
       "</tr>\n",
       "<tr>\n",
       "    <td>0.5</td>    <td>1.5</td>   <td>-7.3893</td>   <td>0.0</td>     <td>0.0</td>     <td>True</td> \n",
       "</tr>\n",
       "<tr>\n",
       "   <td>0.75</td>    <td>1.0</td>   <td>-4.4619</td>   <td>0.0</td>   <td>0.0002</td>    <td>True</td> \n",
       "</tr>\n",
       "<tr>\n",
       "   <td>0.75</td>   <td>1.25</td>   <td>-4.9838</td>   <td>0.0</td>     <td>0.0</td>     <td>True</td> \n",
       "</tr>\n",
       "<tr>\n",
       "   <td>0.75</td>    <td>1.5</td>   <td>-1.6373</td> <td>0.1037</td>    <td>1.0</td>     <td>False</td>\n",
       "</tr>\n",
       "<tr>\n",
       "    <td>1.0</td>   <td>1.25</td>   <td>-0.6897</td> <td>0.4916</td>    <td>1.0</td>     <td>False</td>\n",
       "</tr>\n",
       "<tr>\n",
       "    <td>1.0</td>    <td>1.5</td>   <td>1.9879</td>  <td>0.0489</td>  <td>0.4888</td>    <td>False</td>\n",
       "</tr>\n",
       "<tr>\n",
       "   <td>1.25</td>    <td>1.5</td>   <td>2.6678</td>  <td>0.0085</td>  <td>0.0849</td>    <td>False</td>\n",
       "</tr>\n",
       "</table>"
      ],
      "text/plain": [
       "<class 'statsmodels.iolib.table.SimpleTable'>"
      ]
     },
     "execution_count": 26,
     "metadata": {},
     "output_type": "execute_result"
    }
   ],
   "source": [
    "# perform multiple pairwise comparison\n",
    "from statsmodels.stats.multicomp import MultiComparison\n",
    "\n",
    "# here we set-up the multiple comparison problem. \n",
    "# First argument: response variable, in this case the dependent variable: quality_value\n",
    "# Second argument: groups. All groups to be compared\n",
    "# Third argument (optional): significance level for test. Normally 0.05 for 95% confidence.\n",
    "\n",
    "MultiComp = MultiComparison(df['quality_value'],\n",
    "                             df['k'])\n",
    "# here we compare the effect of 'k'. We also can change it and do 'g'.\n",
    "\n",
    "# Call for multiple comparison: \n",
    "# the first argument is the test we will do, a t-test (same function as above)\n",
    "# the second argument is the type of correction, in this case Bonferroni correction.\n",
    "comp = MultiComp.allpairtest(scipy.stats.ttest_ind, method='bonf')\n",
    "comp[0]"
   ]
  },
  {
   "cell_type": "markdown",
   "id": "comparable-hardware",
   "metadata": {},
   "source": [
    "The table shows all comparisons for k. The rightmost column says whether there is a significant difference between the groups tested (reject = True).\n",
    "\n",
    "-------------------------------"
   ]
  },
  {
   "cell_type": "markdown",
   "id": "obvious-forest",
   "metadata": {},
   "source": [
    "----\n"
   ]
  },
  {
   "cell_type": "markdown",
   "id": "systematic-lesbian",
   "metadata": {},
   "source": [
    "## Extra example about Linear regression\n",
    "\n",
    "Let's imagine we have a continuous x-variable, we measured a continous y-variable, in two experimental conditions. The file 'fictional_data.csv' provide such an example. We want to analyse if there is a linear relationship between x and y, and if there is a difference between conditions."
   ]
  },
  {
   "cell_type": "code",
   "execution_count": 27,
   "id": "bearing-serbia",
   "metadata": {},
   "outputs": [
    {
     "data": {
      "image/png": "[encoded data removed]",
      "text/plain": [
       "<Figure size 456.45x360 with 1 Axes>"
      ]
     },
     "metadata": {
      "needs_background": "light"
     },
     "output_type": "display_data"
    }
   ],
   "source": [
    "# we load a fictional dataset\n",
    "df2 = pd.read_csv('fictional_data.csv')\n",
    "\n",
    "\n",
    "# to make a scatter plot we use relplot() (rel: relationship)\n",
    "g = sns.relplot(x='x', y='y', data=df2, hue='condition', kind='scatter')"
   ]
  },
  {
   "cell_type": "code",
   "execution_count": 28,
   "id": "dying-scanning",
   "metadata": {},
   "outputs": [
    {
     "data": {
      "image/png": "[encoded data removed]",
      "text/plain": [
       "<Figure size 456.45x360 with 1 Axes>"
      ]
     },
     "metadata": {
      "needs_background": "light"
     },
     "output_type": "display_data"
    }
   ],
   "source": [
    "# or a line plot\n",
    "g = sns.relplot(x='x', y='y', data=df2, hue='condition', kind='line')"
   ]
  },
  {
   "cell_type": "code",
   "execution_count": 29,
   "id": "major-night",
   "metadata": {},
   "outputs": [
    {
     "data": {
      "text/plain": [
       "<seaborn.axisgrid.FacetGrid at 0x7f63c6735580>"
      ]
     },
     "execution_count": 29,
     "metadata": {},
     "output_type": "execute_result"
    },
    {
     "data": {
      "image/png": "[encoded data removed]",
      "text/plain": [
       "<Figure size 456.45x360 with 1 Axes>"
      ]
     },
     "metadata": {
      "needs_background": "light"
     },
     "output_type": "display_data"
    }
   ],
   "source": [
    "sns.lmplot(x='x', y='y', hue=\"condition\", data=df2, \n",
    "           ci=None,\n",
    "           scatter_kws={\"s\": 50, \"alpha\": 1})\n"
   ]
  },
  {
   "cell_type": "markdown",
   "id": "chinese-costs",
   "metadata": {},
   "source": [
    "### Statistical analysis: linear regression"
   ]
  },
  {
   "cell_type": "code",
   "execution_count": 33,
   "id": "burning-generator",
   "metadata": {},
   "outputs": [
    {
     "data": {
      "text/html": [
       "<table class=\"simpletable\">\n",
       "<caption>OLS Regression Results</caption>\n",
       "<tr>\n",
       "  <th>Dep. Variable:</th>            <td>y</td>        <th>  R-squared:         </th> <td>   0.115</td>\n",
       "</tr>\n",
       "<tr>\n",
       "  <th>Model:</th>                   <td>OLS</td>       <th>  Adj. R-squared:    </th> <td>   0.097</td>\n",
       "</tr>\n",
       "<tr>\n",
       "  <th>Method:</th>             <td>Least Squares</td>  <th>  F-statistic:       </th> <td>   6.256</td>\n",
       "</tr>\n",
       "<tr>\n",
       "  <th>Date:</th>             <td>Thu, 13 Jan 2022</td> <th>  Prob (F-statistic):</th>  <td>0.0158</td> \n",
       "</tr>\n",
       "<tr>\n",
       "  <th>Time:</th>                 <td>17:15:32</td>     <th>  Log-Likelihood:    </th> <td> -157.88</td>\n",
       "</tr>\n",
       "<tr>\n",
       "  <th>No. Observations:</th>      <td>    50</td>      <th>  AIC:               </th> <td>   319.8</td>\n",
       "</tr>\n",
       "<tr>\n",
       "  <th>Df Residuals:</th>          <td>    48</td>      <th>  BIC:               </th> <td>   323.6</td>\n",
       "</tr>\n",
       "<tr>\n",
       "  <th>Df Model:</th>              <td>     1</td>      <th>                     </th>     <td> </td>   \n",
       "</tr>\n",
       "<tr>\n",
       "  <th>Covariance Type:</th>      <td>nonrobust</td>    <th>                     </th>     <td> </td>   \n",
       "</tr>\n",
       "</table>\n",
       "<table class=\"simpletable\">\n",
       "<tr>\n",
       "      <td></td>         <th>coef</th>     <th>std err</th>      <th>t</th>      <th>P>|t|</th>  <th>[0.025</th>    <th>0.975]</th>  \n",
       "</tr>\n",
       "<tr>\n",
       "  <th>Intercept</th> <td>    4.4193</td> <td>    1.594</td> <td>    2.772</td> <td> 0.008</td> <td>    1.214</td> <td>    7.625</td>\n",
       "</tr>\n",
       "<tr>\n",
       "  <th>x</th>         <td>    0.6836</td> <td>    0.273</td> <td>    2.501</td> <td> 0.016</td> <td>    0.134</td> <td>    1.233</td>\n",
       "</tr>\n",
       "</table>\n",
       "<table class=\"simpletable\">\n",
       "<tr>\n",
       "  <th>Omnibus:</th>       <td> 0.278</td> <th>  Durbin-Watson:     </th> <td>   0.887</td>\n",
       "</tr>\n",
       "<tr>\n",
       "  <th>Prob(Omnibus):</th> <td> 0.870</td> <th>  Jarque-Bera (JB):  </th> <td>   0.466</td>\n",
       "</tr>\n",
       "<tr>\n",
       "  <th>Skew:</th>          <td>-0.016</td> <th>  Prob(JB):          </th> <td>   0.792</td>\n",
       "</tr>\n",
       "<tr>\n",
       "  <th>Kurtosis:</th>      <td> 2.528</td> <th>  Cond. No.          </th> <td>    11.6</td>\n",
       "</tr>\n",
       "</table><br/><br/>Notes:<br/>[1] Standard Errors assume that the covariance matrix of the errors is correctly specified."
      ],
      "text/plain": [
       "<class 'statsmodels.iolib.summary.Summary'>\n",
       "\"\"\"\n",
       "                            OLS Regression Results                            \n",
       "==============================================================================\n",
       "Dep. Variable:                      y   R-squared:                       0.115\n",
       "Model:                            OLS   Adj. R-squared:                  0.097\n",
       "Method:                 Least Squares   F-statistic:                     6.256\n",
       "Date:                Thu, 13 Jan 2022   Prob (F-statistic):             0.0158\n",
       "Time:                        17:15:32   Log-Likelihood:                -157.88\n",
       "No. Observations:                  50   AIC:                             319.8\n",
       "Df Residuals:                      48   BIC:                             323.6\n",
       "Df Model:                           1                                         \n",
       "Covariance Type:            nonrobust                                         \n",
       "==============================================================================\n",
       "                 coef    std err          t      P>|t|      [0.025      0.975]\n",
       "------------------------------------------------------------------------------\n",
       "Intercept      4.4193      1.594      2.772      0.008       1.214       7.625\n",
       "x              0.6836      0.273      2.501      0.016       0.134       1.233\n",
       "==============================================================================\n",
       "Omnibus:                        0.278   Durbin-Watson:                   0.887\n",
       "Prob(Omnibus):                  0.870   Jarque-Bera (JB):                0.466\n",
       "Skew:                          -0.016   Prob(JB):                        0.792\n",
       "Kurtosis:                       2.528   Cond. No.                         11.6\n",
       "==============================================================================\n",
       "\n",
       "Notes:\n",
       "[1] Standard Errors assume that the covariance matrix of the errors is correctly specified.\n",
       "\"\"\""
      ]
     },
     "execution_count": 33,
     "metadata": {},
     "output_type": "execute_result"
    }
   ],
   "source": [
    "# Model 1: all data included, not separated by condition\n",
    "mod = ols('y ~ x', data=df2)\n",
    "\n",
    "# we fit the model\n",
    "fit = mod.fit()\n",
    "\n",
    "# we show the summary of the statistical analysis\n",
    "fit.summary()"
   ]
  },
  {
   "cell_type": "markdown",
   "id": "vietnamese-dover",
   "metadata": {},
   "source": [
    "**The table is full of details, what is important is the following.**\n",
    "The model was $ y = slope \\cdot x + intercept$, so we should get two estimated values... the slope and the intercept. \n",
    "These two values are the second table, the column 'coef', the slope is 0.6836 and intercept = 4.4193.\n",
    "\n",
    "The same table also show us if these values are significantly different than zero (column \"P>|t|\"), which in case it is true for both the slope and the intercept (both p < 0.05).\n",
    "\n",
    "So we can say that there is a significant linear relationship between the two variables.\n"
   ]
  },
  {
   "cell_type": "markdown",
   "id": "criminal-official",
   "metadata": {},
   "source": [
    "Now we can do the same analysis but separated for each condition, A and B."
   ]
  },
  {
   "cell_type": "code",
   "execution_count": 34,
   "id": "formal-universal",
   "metadata": {},
   "outputs": [
    {
     "data": {
      "text/plain": [
       "Intercept    1.071696\n",
       "x            0.608308\n",
       "dtype: float64"
      ]
     },
     "execution_count": 34,
     "metadata": {},
     "output_type": "execute_result"
    }
   ],
   "source": [
    "# Model 2: data separated by condition\n",
    "mod1 = ols('y ~ x', data=df2[df2['condition']=='A'])\n",
    "mod2 = ols('y ~ x', data=df2[df2['condition']=='B'])\n",
    "\n",
    "# we fit the model\n",
    "fit1 = mod1.fit()\n",
    "fit2 = mod2.fit()\n",
    "\n",
    "# we can use fit1.summary()..... \n",
    "# or instead of printing the big table, only get the parameters with...\n",
    "fit1.params"
   ]
  },
  {
   "cell_type": "code",
   "execution_count": 35,
   "id": "funky-public",
   "metadata": {},
   "outputs": [
    {
     "data": {
      "text/plain": [
       "Intercept    7.766852\n",
       "x            0.758866\n",
       "dtype: float64"
      ]
     },
     "execution_count": 35,
     "metadata": {},
     "output_type": "execute_result"
    }
   ],
   "source": [
    "fit2.params"
   ]
  },
  {
   "cell_type": "markdown",
   "id": "worth-runner",
   "metadata": {},
   "source": [
    "Here we see that the slopes are not so different (0.6 and 0.76), but that the intercepts are very different (1.1 and 7.8). This observation also correspond with what we see in the visualization above.\n",
    "\n",
    "We conclude that there is a linear relationship between variable x and y, and that it is different between conditions, specifically, there is a change in intercept."
   ]
  },
  {
   "cell_type": "code",
   "execution_count": null,
   "id": "introductory-rebound",
   "metadata": {},
   "outputs": [],
   "source": []
  }
 ],
 "metadata": {
  "kernelspec": {
   "display_name": "Python 3 (ipykernel)",
   "language": "python",
   "name": "python3"
  },
  "language_info": {
   "codemirror_mode": {
    "name": "ipython",
    "version": 3
   },
   "file_extension": ".py",
   "mimetype": "text/x-python",
   "name": "python",
   "nbconvert_exporter": "python",
   "pygments_lexer": "ipython3",
   "version": "3.8.10"
  }
 },
 "nbformat": 4,
 "nbformat_minor": 5
}
