{
 "cells": [
  {
   "cell_type": "markdown",
   "id": "hydraulic-flooring",
   "metadata": {},
   "source": [
    "# Analysis"
   ]
  },
  {
   "cell_type": "code",
   "execution_count": 1,
   "id": "prospective-monthly",
   "metadata": {
    "scrolled": true
   },
   "outputs": [],
   "source": [
    "import os, pickle\n",
    "import numpy as np\n",
    "import pandas as pd   # module to work with data in DataFrames.\n",
    "import seaborn as sns  # module to plot DataFrames in an easy way\n",
    "import matplotlib.pyplot as plt\n",
    "from pathlib import Path\n",
    "from scipy import interpolate"
   ]
  },
  {
   "cell_type": "code",
   "execution_count": 2,
   "id": "technological-utilization",
   "metadata": {},
   "outputs": [],
   "source": [
    "# seaborn comes with default presets (called 'contents') for figure's aesthetics, \n",
    "# such as the font size, figure size etc. \n",
    "#sns.set_context('talk') # try: 'talk', 'poster', 'notebook'"
   ]
  },
  {
   "cell_type": "markdown",
   "id": "275d6c7f",
   "metadata": {},
   "source": [
    "## Get the result files"
   ]
  },
  {
   "cell_type": "code",
   "execution_count": 3,
   "id": "072de1e9",
   "metadata": {},
   "outputs": [
    {
     "data": {
      "text/plain": [
       "[WindowsPath('c:/Users/muehlefeldt/Documents/git/PerceptionAndImageQuality/analysis/../single_assessment/results/result_20220116-205338_max.csv'),\n",
       " WindowsPath('c:/Users/muehlefeldt/Documents/git/PerceptionAndImageQuality/analysis/../single_assessment/results/result_20220116-210153_marius.csv'),\n",
       " WindowsPath('c:/Users/muehlefeldt/Documents/git/PerceptionAndImageQuality/analysis/../single_assessment/results/result_20220116-224257_savas.csv'),\n",
       " WindowsPath('c:/Users/muehlefeldt/Documents/git/PerceptionAndImageQuality/analysis/../single_assessment/results/result_20220116-234052_erdem.csv'),\n",
       " WindowsPath('c:/Users/muehlefeldt/Documents/git/PerceptionAndImageQuality/analysis/../single_assessment/results/result_20220119-162805_cs.csv'),\n",
       " WindowsPath('c:/Users/muehlefeldt/Documents/git/PerceptionAndImageQuality/analysis/../single_assessment/results/result_20220119-175745_ack.csv')]"
      ]
     },
     "execution_count": 3,
     "metadata": {},
     "output_type": "execute_result"
    }
   ],
   "source": [
    "# Get current result files.\n",
    "single_result_dir = Path('../single_assessment/results').absolute()\n",
    "single_result_file_names = os.listdir(single_result_dir)\n",
    "single_result_file_names = list(filter(lambda name: str.startswith(name, 'result'), single_result_file_names))\n",
    "\n",
    "single_result_files_paths = []\n",
    "for name in single_result_file_names:\n",
    "    single_result_files_paths.append(single_result_dir / name)\n",
    "\n",
    "single_result_files_paths"
   ]
  },
  {
   "cell_type": "markdown",
   "id": "85a9a607",
   "metadata": {},
   "source": [
    "Write result files to dataframe"
   ]
  },
  {
   "cell_type": "code",
   "execution_count": 4,
   "id": "bulgarian-invite",
   "metadata": {},
   "outputs": [
    {
     "name": "stdout",
     "output_type": "stream",
     "text": [
      "0 c:\\Users\\muehlefeldt\\Documents\\git\\PerceptionAndImageQuality\\analysis\\..\\single_assessment\\results\\result_20220116-205338_max.csv\n",
      "1 c:\\Users\\muehlefeldt\\Documents\\git\\PerceptionAndImageQuality\\analysis\\..\\single_assessment\\results\\result_20220116-210153_marius.csv\n",
      "2 c:\\Users\\muehlefeldt\\Documents\\git\\PerceptionAndImageQuality\\analysis\\..\\single_assessment\\results\\result_20220116-224257_savas.csv\n",
      "3 c:\\Users\\muehlefeldt\\Documents\\git\\PerceptionAndImageQuality\\analysis\\..\\single_assessment\\results\\result_20220116-234052_erdem.csv\n",
      "4 c:\\Users\\muehlefeldt\\Documents\\git\\PerceptionAndImageQuality\\analysis\\..\\single_assessment\\results\\result_20220119-162805_cs.csv\n",
      "5 c:\\Users\\muehlefeldt\\Documents\\git\\PerceptionAndImageQuality\\analysis\\..\\single_assessment\\results\\result_20220119-175745_ack.csv\n"
     ]
    },
    {
     "data": {
      "text/html": [
       "<div>\n",
       "<style scoped>\n",
       "    .dataframe tbody tr th:only-of-type {\n",
       "        vertical-align: middle;\n",
       "    }\n",
       "\n",
       "    .dataframe tbody tr th {\n",
       "        vertical-align: top;\n",
       "    }\n",
       "\n",
       "    .dataframe thead th {\n",
       "        text-align: right;\n",
       "    }\n",
       "</style>\n",
       "<table border=\"1\" class=\"dataframe\">\n",
       "  <thead>\n",
       "    <tr style=\"text-align: right;\">\n",
       "      <th></th>\n",
       "      <th>test_image</th>\n",
       "      <th>response</th>\n",
       "      <th>resptime</th>\n",
       "      <th>observer</th>\n",
       "    </tr>\n",
       "  </thead>\n",
       "  <tbody>\n",
       "    <tr>\n",
       "      <th>0</th>\n",
       "      <td>H27_1.0_chroma.JPG</td>\n",
       "      <td>2</td>\n",
       "      <td>5.513590</td>\n",
       "      <td>0</td>\n",
       "    </tr>\n",
       "    <tr>\n",
       "      <th>1</th>\n",
       "      <td>H3_1.0_chroma.JPG</td>\n",
       "      <td>2</td>\n",
       "      <td>1.627123</td>\n",
       "      <td>0</td>\n",
       "    </tr>\n",
       "    <tr>\n",
       "      <th>2</th>\n",
       "      <td>I06_1.0_chroma.JPG</td>\n",
       "      <td>4</td>\n",
       "      <td>1.442398</td>\n",
       "      <td>0</td>\n",
       "    </tr>\n",
       "    <tr>\n",
       "      <th>3</th>\n",
       "      <td>H29_1.0_chroma.JPG</td>\n",
       "      <td>3</td>\n",
       "      <td>1.863524</td>\n",
       "      <td>0</td>\n",
       "    </tr>\n",
       "    <tr>\n",
       "      <th>4</th>\n",
       "      <td>H17_1.0_chroma.JPG</td>\n",
       "      <td>1</td>\n",
       "      <td>1.384707</td>\n",
       "      <td>0</td>\n",
       "    </tr>\n",
       "    <tr>\n",
       "      <th>...</th>\n",
       "      <td>...</td>\n",
       "      <td>...</td>\n",
       "      <td>...</td>\n",
       "      <td>...</td>\n",
       "    </tr>\n",
       "    <tr>\n",
       "      <th>40</th>\n",
       "      <td>H13_1.0_chroma.JPG</td>\n",
       "      <td>5</td>\n",
       "      <td>5.507720</td>\n",
       "      <td>5</td>\n",
       "    </tr>\n",
       "    <tr>\n",
       "      <th>41</th>\n",
       "      <td>I15_1.0_chroma.JPG</td>\n",
       "      <td>6</td>\n",
       "      <td>5.254045</td>\n",
       "      <td>5</td>\n",
       "    </tr>\n",
       "    <tr>\n",
       "      <th>42</th>\n",
       "      <td>H12_1.0_chroma.JPG</td>\n",
       "      <td>4</td>\n",
       "      <td>4.158997</td>\n",
       "      <td>5</td>\n",
       "    </tr>\n",
       "    <tr>\n",
       "      <th>43</th>\n",
       "      <td>I13_1.0_chroma.JPG</td>\n",
       "      <td>5</td>\n",
       "      <td>6.306448</td>\n",
       "      <td>5</td>\n",
       "    </tr>\n",
       "    <tr>\n",
       "      <th>44</th>\n",
       "      <td>I03_1.0_chroma.JPG</td>\n",
       "      <td>5</td>\n",
       "      <td>2.569777</td>\n",
       "      <td>5</td>\n",
       "    </tr>\n",
       "  </tbody>\n",
       "</table>\n",
       "<p>270 rows × 4 columns</p>\n",
       "</div>"
      ],
      "text/plain": [
       "            test_image  response  resptime  observer\n",
       "0   H27_1.0_chroma.JPG         2  5.513590         0\n",
       "1    H3_1.0_chroma.JPG         2  1.627123         0\n",
       "2   I06_1.0_chroma.JPG         4  1.442398         0\n",
       "3   H29_1.0_chroma.JPG         3  1.863524         0\n",
       "4   H17_1.0_chroma.JPG         1  1.384707         0\n",
       "..                 ...       ...       ...       ...\n",
       "40  H13_1.0_chroma.JPG         5  5.507720         5\n",
       "41  I15_1.0_chroma.JPG         6  5.254045         5\n",
       "42  H12_1.0_chroma.JPG         4  4.158997         5\n",
       "43  I13_1.0_chroma.JPG         5  6.306448         5\n",
       "44  I03_1.0_chroma.JPG         5  2.569777         5\n",
       "\n",
       "[270 rows x 4 columns]"
      ]
     },
     "execution_count": 4,
     "metadata": {},
     "output_type": "execute_result"
    }
   ],
   "source": [
    "df = pd.DataFrame()\n",
    "for index, path in enumerate(single_result_files_paths):\n",
    "    print(index, path)\n",
    "    df_tmp = pd.read_csv(path)\n",
    "    df_tmp['observer'] = index\n",
    "    df = pd.concat((df, df_tmp))\n",
    "\n",
    "df\n"
   ]
  },
  {
   "cell_type": "markdown",
   "id": "2545e1a0",
   "metadata": {},
   "source": [
    "# Sanity checks\n",
    "We expect 30 historic and 15 modern images used during tests.\n",
    "Only responses from [0, 9] accepted."
   ]
  },
  {
   "cell_type": "code",
   "execution_count": 16,
   "id": "acoustic-anger",
   "metadata": {},
   "outputs": [],
   "source": [
    "# sanity checks: how many groups do you expect per categorical variable?\n",
    "assert len(df['test_image'].unique()) == 30 + 15\n",
    "assert max(df['response'].unique()) <= 9\n",
    "assert min(df['response'].unique()) >= 0\n",
    "assert len(df) == (30 + 15) * len(single_result_file_names)\n",
    "# Check number of observers.\n",
    "assert len(df['observer'].unique()) == len(single_result_file_names)"
   ]
  },
  {
   "cell_type": "markdown",
   "id": "13c7712c",
   "metadata": {},
   "source": [
    "## Get average chroma values"
   ]
  },
  {
   "cell_type": "code",
   "execution_count": 17,
   "id": "268aa9aa",
   "metadata": {},
   "outputs": [
    {
     "data": {
      "text/html": [
       "<div>\n",
       "<style scoped>\n",
       "    .dataframe tbody tr th:only-of-type {\n",
       "        vertical-align: middle;\n",
       "    }\n",
       "\n",
       "    .dataframe tbody tr th {\n",
       "        vertical-align: top;\n",
       "    }\n",
       "\n",
       "    .dataframe thead th {\n",
       "        text-align: right;\n",
       "    }\n",
       "</style>\n",
       "<table border=\"1\" class=\"dataframe\">\n",
       "  <thead>\n",
       "    <tr style=\"text-align: right;\">\n",
       "      <th></th>\n",
       "      <th>test_image</th>\n",
       "      <th>chroma</th>\n",
       "    </tr>\n",
       "  </thead>\n",
       "  <tbody>\n",
       "    <tr>\n",
       "      <th>0</th>\n",
       "      <td>I08_1.0_chroma.JPG</td>\n",
       "      <td>4.712990</td>\n",
       "    </tr>\n",
       "    <tr>\n",
       "      <th>1</th>\n",
       "      <td>I15_1.0_chroma.JPG</td>\n",
       "      <td>17.972929</td>\n",
       "    </tr>\n",
       "    <tr>\n",
       "      <th>2</th>\n",
       "      <td>I23_1.0_chroma.JPG</td>\n",
       "      <td>26.400303</td>\n",
       "    </tr>\n",
       "    <tr>\n",
       "      <th>3</th>\n",
       "      <td>I14_1.0_chroma.JPG</td>\n",
       "      <td>5.698050</td>\n",
       "    </tr>\n",
       "    <tr>\n",
       "      <th>4</th>\n",
       "      <td>I07_1.0_chroma.JPG</td>\n",
       "      <td>12.970257</td>\n",
       "    </tr>\n",
       "    <tr>\n",
       "      <th>5</th>\n",
       "      <td>I12_1.0_chroma.JPG</td>\n",
       "      <td>3.252321</td>\n",
       "    </tr>\n",
       "    <tr>\n",
       "      <th>6</th>\n",
       "      <td>I01_1.0_chroma.JPG</td>\n",
       "      <td>6.860744</td>\n",
       "    </tr>\n",
       "    <tr>\n",
       "      <th>7</th>\n",
       "      <td>I21_1.0_chroma.JPG</td>\n",
       "      <td>19.162436</td>\n",
       "    </tr>\n",
       "    <tr>\n",
       "      <th>8</th>\n",
       "      <td>I06_1.0_chroma.JPG</td>\n",
       "      <td>6.287440</td>\n",
       "    </tr>\n",
       "    <tr>\n",
       "      <th>9</th>\n",
       "      <td>I16_1.0_chroma.JPG</td>\n",
       "      <td>13.866364</td>\n",
       "    </tr>\n",
       "    <tr>\n",
       "      <th>10</th>\n",
       "      <td>I22_1.0_chroma.JPG</td>\n",
       "      <td>6.402336</td>\n",
       "    </tr>\n",
       "    <tr>\n",
       "      <th>11</th>\n",
       "      <td>I04_1.0_chroma.JPG</td>\n",
       "      <td>14.469571</td>\n",
       "    </tr>\n",
       "    <tr>\n",
       "      <th>12</th>\n",
       "      <td>I20_1.0_chroma.JPG</td>\n",
       "      <td>0.588135</td>\n",
       "    </tr>\n",
       "    <tr>\n",
       "      <th>13</th>\n",
       "      <td>I13_1.0_chroma.JPG</td>\n",
       "      <td>6.622454</td>\n",
       "    </tr>\n",
       "    <tr>\n",
       "      <th>14</th>\n",
       "      <td>I03_1.0_chroma.JPG</td>\n",
       "      <td>14.988106</td>\n",
       "    </tr>\n",
       "    <tr>\n",
       "      <th>15</th>\n",
       "      <td>H21_1.0_chroma.JPG</td>\n",
       "      <td>3.813993</td>\n",
       "    </tr>\n",
       "    <tr>\n",
       "      <th>16</th>\n",
       "      <td>H16_1.0_chroma.JPG</td>\n",
       "      <td>3.863193</td>\n",
       "    </tr>\n",
       "    <tr>\n",
       "      <th>17</th>\n",
       "      <td>H1_1.0_chroma.JPG</td>\n",
       "      <td>5.007055</td>\n",
       "    </tr>\n",
       "    <tr>\n",
       "      <th>18</th>\n",
       "      <td>H20_1.0_chroma.JPG</td>\n",
       "      <td>11.663550</td>\n",
       "    </tr>\n",
       "    <tr>\n",
       "      <th>19</th>\n",
       "      <td>H23_1.0_chroma.JPG</td>\n",
       "      <td>12.835874</td>\n",
       "    </tr>\n",
       "    <tr>\n",
       "      <th>20</th>\n",
       "      <td>H17_1.0_chroma.JPG</td>\n",
       "      <td>10.871443</td>\n",
       "    </tr>\n",
       "    <tr>\n",
       "      <th>21</th>\n",
       "      <td>H0_1.0_chroma.JPG</td>\n",
       "      <td>6.526307</td>\n",
       "    </tr>\n",
       "    <tr>\n",
       "      <th>22</th>\n",
       "      <td>H19_1.0_chroma.JPG</td>\n",
       "      <td>17.070642</td>\n",
       "    </tr>\n",
       "    <tr>\n",
       "      <th>23</th>\n",
       "      <td>H27_1.0_chroma.JPG</td>\n",
       "      <td>3.364792</td>\n",
       "    </tr>\n",
       "    <tr>\n",
       "      <th>24</th>\n",
       "      <td>H29_1.0_chroma.JPG</td>\n",
       "      <td>10.240114</td>\n",
       "    </tr>\n",
       "    <tr>\n",
       "      <th>25</th>\n",
       "      <td>H3_1.0_chroma.JPG</td>\n",
       "      <td>4.756907</td>\n",
       "    </tr>\n",
       "    <tr>\n",
       "      <th>26</th>\n",
       "      <td>H26_1.0_chroma.JPG</td>\n",
       "      <td>7.169107</td>\n",
       "    </tr>\n",
       "    <tr>\n",
       "      <th>27</th>\n",
       "      <td>H2_1.0_chroma.JPG</td>\n",
       "      <td>12.007978</td>\n",
       "    </tr>\n",
       "    <tr>\n",
       "      <th>28</th>\n",
       "      <td>H25_1.0_chroma.JPG</td>\n",
       "      <td>12.369988</td>\n",
       "    </tr>\n",
       "    <tr>\n",
       "      <th>29</th>\n",
       "      <td>H6_1.0_chroma.JPG</td>\n",
       "      <td>3.194902</td>\n",
       "    </tr>\n",
       "    <tr>\n",
       "      <th>30</th>\n",
       "      <td>H7_1.0_chroma.JPG</td>\n",
       "      <td>9.183620</td>\n",
       "    </tr>\n",
       "    <tr>\n",
       "      <th>31</th>\n",
       "      <td>H28_1.0_chroma.JPG</td>\n",
       "      <td>4.383833</td>\n",
       "    </tr>\n",
       "    <tr>\n",
       "      <th>32</th>\n",
       "      <td>H15_1.0_chroma.JPG</td>\n",
       "      <td>5.648104</td>\n",
       "    </tr>\n",
       "    <tr>\n",
       "      <th>33</th>\n",
       "      <td>H22_1.0_chroma.JPG</td>\n",
       "      <td>8.920517</td>\n",
       "    </tr>\n",
       "    <tr>\n",
       "      <th>34</th>\n",
       "      <td>H8_1.0_chroma.JPG</td>\n",
       "      <td>6.218626</td>\n",
       "    </tr>\n",
       "    <tr>\n",
       "      <th>35</th>\n",
       "      <td>H11_1.0_chroma.JPG</td>\n",
       "      <td>6.433600</td>\n",
       "    </tr>\n",
       "    <tr>\n",
       "      <th>36</th>\n",
       "      <td>H9_1.0_chroma.JPG</td>\n",
       "      <td>7.199461</td>\n",
       "    </tr>\n",
       "    <tr>\n",
       "      <th>37</th>\n",
       "      <td>H10_1.0_chroma.JPG</td>\n",
       "      <td>5.901444</td>\n",
       "    </tr>\n",
       "    <tr>\n",
       "      <th>38</th>\n",
       "      <td>H14_1.0_chroma.JPG</td>\n",
       "      <td>5.545244</td>\n",
       "    </tr>\n",
       "    <tr>\n",
       "      <th>39</th>\n",
       "      <td>H18_1.0_chroma.JPG</td>\n",
       "      <td>14.709421</td>\n",
       "    </tr>\n",
       "    <tr>\n",
       "      <th>40</th>\n",
       "      <td>H5_1.0_chroma.JPG</td>\n",
       "      <td>5.159852</td>\n",
       "    </tr>\n",
       "    <tr>\n",
       "      <th>41</th>\n",
       "      <td>H4_1.0_chroma.JPG</td>\n",
       "      <td>7.028266</td>\n",
       "    </tr>\n",
       "    <tr>\n",
       "      <th>42</th>\n",
       "      <td>H12_1.0_chroma.JPG</td>\n",
       "      <td>6.505066</td>\n",
       "    </tr>\n",
       "    <tr>\n",
       "      <th>43</th>\n",
       "      <td>H13_1.0_chroma.JPG</td>\n",
       "      <td>4.509059</td>\n",
       "    </tr>\n",
       "    <tr>\n",
       "      <th>44</th>\n",
       "      <td>H24_1.0_chroma.JPG</td>\n",
       "      <td>12.740749</td>\n",
       "    </tr>\n",
       "  </tbody>\n",
       "</table>\n",
       "</div>"
      ],
      "text/plain": [
       "            test_image     chroma\n",
       "0   I08_1.0_chroma.JPG   4.712990\n",
       "1   I15_1.0_chroma.JPG  17.972929\n",
       "2   I23_1.0_chroma.JPG  26.400303\n",
       "3   I14_1.0_chroma.JPG   5.698050\n",
       "4   I07_1.0_chroma.JPG  12.970257\n",
       "5   I12_1.0_chroma.JPG   3.252321\n",
       "6   I01_1.0_chroma.JPG   6.860744\n",
       "7   I21_1.0_chroma.JPG  19.162436\n",
       "8   I06_1.0_chroma.JPG   6.287440\n",
       "9   I16_1.0_chroma.JPG  13.866364\n",
       "10  I22_1.0_chroma.JPG   6.402336\n",
       "11  I04_1.0_chroma.JPG  14.469571\n",
       "12  I20_1.0_chroma.JPG   0.588135\n",
       "13  I13_1.0_chroma.JPG   6.622454\n",
       "14  I03_1.0_chroma.JPG  14.988106\n",
       "15  H21_1.0_chroma.JPG   3.813993\n",
       "16  H16_1.0_chroma.JPG   3.863193\n",
       "17   H1_1.0_chroma.JPG   5.007055\n",
       "18  H20_1.0_chroma.JPG  11.663550\n",
       "19  H23_1.0_chroma.JPG  12.835874\n",
       "20  H17_1.0_chroma.JPG  10.871443\n",
       "21   H0_1.0_chroma.JPG   6.526307\n",
       "22  H19_1.0_chroma.JPG  17.070642\n",
       "23  H27_1.0_chroma.JPG   3.364792\n",
       "24  H29_1.0_chroma.JPG  10.240114\n",
       "25   H3_1.0_chroma.JPG   4.756907\n",
       "26  H26_1.0_chroma.JPG   7.169107\n",
       "27   H2_1.0_chroma.JPG  12.007978\n",
       "28  H25_1.0_chroma.JPG  12.369988\n",
       "29   H6_1.0_chroma.JPG   3.194902\n",
       "30   H7_1.0_chroma.JPG   9.183620\n",
       "31  H28_1.0_chroma.JPG   4.383833\n",
       "32  H15_1.0_chroma.JPG   5.648104\n",
       "33  H22_1.0_chroma.JPG   8.920517\n",
       "34   H8_1.0_chroma.JPG   6.218626\n",
       "35  H11_1.0_chroma.JPG   6.433600\n",
       "36   H9_1.0_chroma.JPG   7.199461\n",
       "37  H10_1.0_chroma.JPG   5.901444\n",
       "38  H14_1.0_chroma.JPG   5.545244\n",
       "39  H18_1.0_chroma.JPG  14.709421\n",
       "40   H5_1.0_chroma.JPG   5.159852\n",
       "41   H4_1.0_chroma.JPG   7.028266\n",
       "42  H12_1.0_chroma.JPG   6.505066\n",
       "43  H13_1.0_chroma.JPG   4.509059\n",
       "44  H24_1.0_chroma.JPG  12.740749"
      ]
     },
     "execution_count": 17,
     "metadata": {},
     "output_type": "execute_result"
    }
   ],
   "source": [
    "with open(Path('../image_generation/02_recolor/average_chroma_values.pkl'), mode='rb') as pkl_file:\n",
    "    average_chroma_values = pickle.load(pkl_file)\n",
    "\n",
    "df_average_chroma_values = pd.DataFrame(average_chroma_values)\n",
    "df_average_chroma_values.columns = ['test_image', 'chroma']\n",
    "df_average_chroma_values"
   ]
  },
  {
   "cell_type": "markdown",
   "id": "bc514153",
   "metadata": {},
   "source": [
    "Sanity checks of the average chroma values."
   ]
  },
  {
   "cell_type": "code",
   "execution_count": 7,
   "id": "c09fce4a",
   "metadata": {},
   "outputs": [],
   "source": [
    "assert len(df_average_chroma_values) == len(df['test_image'].unique())\n",
    "assert max(df_average_chroma_values['chroma']) <= 100\n",
    "assert max(df_average_chroma_values['chroma']) >= 0.0"
   ]
  },
  {
   "cell_type": "code",
   "execution_count": 8,
   "id": "2aa967a8",
   "metadata": {},
   "outputs": [
    {
     "data": {
      "text/html": [
       "<div>\n",
       "<style scoped>\n",
       "    .dataframe tbody tr th:only-of-type {\n",
       "        vertical-align: middle;\n",
       "    }\n",
       "\n",
       "    .dataframe tbody tr th {\n",
       "        vertical-align: top;\n",
       "    }\n",
       "\n",
       "    .dataframe thead th {\n",
       "        text-align: right;\n",
       "    }\n",
       "</style>\n",
       "<table border=\"1\" class=\"dataframe\">\n",
       "  <thead>\n",
       "    <tr style=\"text-align: right;\">\n",
       "      <th></th>\n",
       "      <th>test_image</th>\n",
       "      <th>response</th>\n",
       "      <th>resptime</th>\n",
       "      <th>observer</th>\n",
       "      <th>chroma</th>\n",
       "    </tr>\n",
       "  </thead>\n",
       "  <tbody>\n",
       "    <tr>\n",
       "      <th>0</th>\n",
       "      <td>H27_1.0_chroma.JPG</td>\n",
       "      <td>2</td>\n",
       "      <td>5.513590</td>\n",
       "      <td>0</td>\n",
       "      <td>3.364792</td>\n",
       "    </tr>\n",
       "    <tr>\n",
       "      <th>1</th>\n",
       "      <td>H3_1.0_chroma.JPG</td>\n",
       "      <td>2</td>\n",
       "      <td>1.627123</td>\n",
       "      <td>0</td>\n",
       "      <td>4.756907</td>\n",
       "    </tr>\n",
       "    <tr>\n",
       "      <th>2</th>\n",
       "      <td>I06_1.0_chroma.JPG</td>\n",
       "      <td>4</td>\n",
       "      <td>1.442398</td>\n",
       "      <td>0</td>\n",
       "      <td>6.287440</td>\n",
       "    </tr>\n",
       "    <tr>\n",
       "      <th>3</th>\n",
       "      <td>H29_1.0_chroma.JPG</td>\n",
       "      <td>3</td>\n",
       "      <td>1.863524</td>\n",
       "      <td>0</td>\n",
       "      <td>10.240114</td>\n",
       "    </tr>\n",
       "    <tr>\n",
       "      <th>4</th>\n",
       "      <td>H17_1.0_chroma.JPG</td>\n",
       "      <td>1</td>\n",
       "      <td>1.384707</td>\n",
       "      <td>0</td>\n",
       "      <td>10.871443</td>\n",
       "    </tr>\n",
       "    <tr>\n",
       "      <th>...</th>\n",
       "      <td>...</td>\n",
       "      <td>...</td>\n",
       "      <td>...</td>\n",
       "      <td>...</td>\n",
       "      <td>...</td>\n",
       "    </tr>\n",
       "    <tr>\n",
       "      <th>40</th>\n",
       "      <td>H13_1.0_chroma.JPG</td>\n",
       "      <td>5</td>\n",
       "      <td>5.507720</td>\n",
       "      <td>5</td>\n",
       "      <td>4.509059</td>\n",
       "    </tr>\n",
       "    <tr>\n",
       "      <th>41</th>\n",
       "      <td>I15_1.0_chroma.JPG</td>\n",
       "      <td>6</td>\n",
       "      <td>5.254045</td>\n",
       "      <td>5</td>\n",
       "      <td>17.972929</td>\n",
       "    </tr>\n",
       "    <tr>\n",
       "      <th>42</th>\n",
       "      <td>H12_1.0_chroma.JPG</td>\n",
       "      <td>4</td>\n",
       "      <td>4.158997</td>\n",
       "      <td>5</td>\n",
       "      <td>6.505066</td>\n",
       "    </tr>\n",
       "    <tr>\n",
       "      <th>43</th>\n",
       "      <td>I13_1.0_chroma.JPG</td>\n",
       "      <td>5</td>\n",
       "      <td>6.306448</td>\n",
       "      <td>5</td>\n",
       "      <td>6.622454</td>\n",
       "    </tr>\n",
       "    <tr>\n",
       "      <th>44</th>\n",
       "      <td>I03_1.0_chroma.JPG</td>\n",
       "      <td>5</td>\n",
       "      <td>2.569777</td>\n",
       "      <td>5</td>\n",
       "      <td>14.988106</td>\n",
       "    </tr>\n",
       "  </tbody>\n",
       "</table>\n",
       "<p>270 rows × 5 columns</p>\n",
       "</div>"
      ],
      "text/plain": [
       "            test_image  response  resptime  observer     chroma\n",
       "0   H27_1.0_chroma.JPG         2  5.513590         0   3.364792\n",
       "1    H3_1.0_chroma.JPG         2  1.627123         0   4.756907\n",
       "2   I06_1.0_chroma.JPG         4  1.442398         0   6.287440\n",
       "3   H29_1.0_chroma.JPG         3  1.863524         0  10.240114\n",
       "4   H17_1.0_chroma.JPG         1  1.384707         0  10.871443\n",
       "..                 ...       ...       ...       ...        ...\n",
       "40  H13_1.0_chroma.JPG         5  5.507720         5   4.509059\n",
       "41  I15_1.0_chroma.JPG         6  5.254045         5  17.972929\n",
       "42  H12_1.0_chroma.JPG         4  4.158997         5   6.505066\n",
       "43  I13_1.0_chroma.JPG         5  6.306448         5   6.622454\n",
       "44  I03_1.0_chroma.JPG         5  2.569777         5  14.988106\n",
       "\n",
       "[270 rows x 5 columns]"
      ]
     },
     "execution_count": 8,
     "metadata": {},
     "output_type": "execute_result"
    }
   ],
   "source": [
    "name = df_average_chroma_values['test_image'].unique()[0]\n",
    "chroma_list = []\n",
    "for image in df['test_image']:\n",
    "    s = df_average_chroma_values.loc[df_average_chroma_values['test_image'] == image, 'chroma']\n",
    "    chroma_list.append(s.iloc[0])\n",
    "\n",
    "list(chroma_list)\n",
    "df['chroma'] = chroma_list\n",
    "\n",
    "#df_average_chroma_values[df_average_chroma_values['test_image'] == 'H24_1.0_chroma.JPG']['chroma']\n",
    "df"
   ]
  },
  {
   "cell_type": "markdown",
   "id": "d1a33b83",
   "metadata": {},
   "source": [
    "Sanity check added chroma values to the original dataframe."
   ]
  },
  {
   "cell_type": "code",
   "execution_count": 9,
   "id": "a3e95393",
   "metadata": {},
   "outputs": [],
   "source": [
    "for row in df.index:\n",
    "    name = df.loc[df.index == row, 'test_image'].iloc[0]\n",
    "    test_value = df.loc[df['test_image'] == name, 'chroma'].iloc[0]\n",
    "    verified_value = df_average_chroma_values.loc[df_average_chroma_values['test_image'] == name, 'chroma'].iloc[0]\n",
    "    assert np.isclose(test_value, verified_value)"
   ]
  },
  {
   "cell_type": "markdown",
   "id": "0d293822",
   "metadata": {},
   "source": [
    "Scale chroma values to [0, 9] range. And assert result."
   ]
  },
  {
   "cell_type": "code",
   "execution_count": 10,
   "id": "282576af",
   "metadata": {},
   "outputs": [],
   "source": [
    "df['chroma'] = np.array(df['chroma'].tolist()) * (9/100)\n",
    "\n",
    "assert max(df['chroma']) <= 9\n",
    "assert min(df['chroma']) >= 0"
   ]
  },
  {
   "cell_type": "markdown",
   "id": "8fb16d29",
   "metadata": {},
   "source": [
    "Simplify image names: Remove suffix. Sort the dataframe by image name."
   ]
  },
  {
   "cell_type": "code",
   "execution_count": 11,
   "id": "2ae0ecd2",
   "metadata": {},
   "outputs": [],
   "source": [
    "df['test_image'] = [s.split('_')[0] for s in df['test_image'].tolist()]\n",
    "df = df.sort_values(by='test_image', ascending=True, key=lambda col: [int(img[1:]) for img in col])"
   ]
  },
  {
   "cell_type": "markdown",
   "id": "a42678d8",
   "metadata": {},
   "source": [
    "### Devide dataframe into historic and modern images"
   ]
  },
  {
   "cell_type": "code",
   "execution_count": 12,
   "id": "f8ace9ae",
   "metadata": {},
   "outputs": [
    {
     "data": {
      "text/html": [
       "<div>\n",
       "<style scoped>\n",
       "    .dataframe tbody tr th:only-of-type {\n",
       "        vertical-align: middle;\n",
       "    }\n",
       "\n",
       "    .dataframe tbody tr th {\n",
       "        vertical-align: top;\n",
       "    }\n",
       "\n",
       "    .dataframe thead th {\n",
       "        text-align: right;\n",
       "    }\n",
       "</style>\n",
       "<table border=\"1\" class=\"dataframe\">\n",
       "  <thead>\n",
       "    <tr style=\"text-align: right;\">\n",
       "      <th></th>\n",
       "      <th>test_image</th>\n",
       "      <th>response</th>\n",
       "      <th>resptime</th>\n",
       "      <th>observer</th>\n",
       "      <th>chroma</th>\n",
       "    </tr>\n",
       "  </thead>\n",
       "  <tbody>\n",
       "    <tr>\n",
       "      <th>17</th>\n",
       "      <td>H0</td>\n",
       "      <td>7</td>\n",
       "      <td>1.254718</td>\n",
       "      <td>2</td>\n",
       "      <td>0.587368</td>\n",
       "    </tr>\n",
       "    <tr>\n",
       "      <th>29</th>\n",
       "      <td>H0</td>\n",
       "      <td>1</td>\n",
       "      <td>1.570922</td>\n",
       "      <td>0</td>\n",
       "      <td>0.587368</td>\n",
       "    </tr>\n",
       "    <tr>\n",
       "      <th>11</th>\n",
       "      <td>H0</td>\n",
       "      <td>3</td>\n",
       "      <td>2.443140</td>\n",
       "      <td>3</td>\n",
       "      <td>0.587368</td>\n",
       "    </tr>\n",
       "    <tr>\n",
       "      <th>35</th>\n",
       "      <td>H0</td>\n",
       "      <td>3</td>\n",
       "      <td>21.669035</td>\n",
       "      <td>5</td>\n",
       "      <td>0.587368</td>\n",
       "    </tr>\n",
       "    <tr>\n",
       "      <th>42</th>\n",
       "      <td>H0</td>\n",
       "      <td>3</td>\n",
       "      <td>2.372330</td>\n",
       "      <td>4</td>\n",
       "      <td>0.587368</td>\n",
       "    </tr>\n",
       "    <tr>\n",
       "      <th>...</th>\n",
       "      <td>...</td>\n",
       "      <td>...</td>\n",
       "      <td>...</td>\n",
       "      <td>...</td>\n",
       "      <td>...</td>\n",
       "    </tr>\n",
       "    <tr>\n",
       "      <th>32</th>\n",
       "      <td>H29</td>\n",
       "      <td>4</td>\n",
       "      <td>1.341959</td>\n",
       "      <td>2</td>\n",
       "      <td>0.921610</td>\n",
       "    </tr>\n",
       "    <tr>\n",
       "      <th>43</th>\n",
       "      <td>H29</td>\n",
       "      <td>3</td>\n",
       "      <td>1.139548</td>\n",
       "      <td>4</td>\n",
       "      <td>0.921610</td>\n",
       "    </tr>\n",
       "    <tr>\n",
       "      <th>19</th>\n",
       "      <td>H29</td>\n",
       "      <td>2</td>\n",
       "      <td>1.930111</td>\n",
       "      <td>3</td>\n",
       "      <td>0.921610</td>\n",
       "    </tr>\n",
       "    <tr>\n",
       "      <th>42</th>\n",
       "      <td>H29</td>\n",
       "      <td>3</td>\n",
       "      <td>3.868548</td>\n",
       "      <td>1</td>\n",
       "      <td>0.921610</td>\n",
       "    </tr>\n",
       "    <tr>\n",
       "      <th>3</th>\n",
       "      <td>H29</td>\n",
       "      <td>3</td>\n",
       "      <td>1.863524</td>\n",
       "      <td>0</td>\n",
       "      <td>0.921610</td>\n",
       "    </tr>\n",
       "  </tbody>\n",
       "</table>\n",
       "<p>180 rows × 5 columns</p>\n",
       "</div>"
      ],
      "text/plain": [
       "   test_image  response   resptime  observer    chroma\n",
       "17         H0         7   1.254718         2  0.587368\n",
       "29         H0         1   1.570922         0  0.587368\n",
       "11         H0         3   2.443140         3  0.587368\n",
       "35         H0         3  21.669035         5  0.587368\n",
       "42         H0         3   2.372330         4  0.587368\n",
       "..        ...       ...        ...       ...       ...\n",
       "32        H29         4   1.341959         2  0.921610\n",
       "43        H29         3   1.139548         4  0.921610\n",
       "19        H29         2   1.930111         3  0.921610\n",
       "42        H29         3   3.868548         1  0.921610\n",
       "3         H29         3   1.863524         0  0.921610\n",
       "\n",
       "[180 rows x 5 columns]"
      ]
     },
     "execution_count": 12,
     "metadata": {},
     "output_type": "execute_result"
    }
   ],
   "source": [
    "df_historic = df[df['test_image'].str.startswith('H')]\n",
    "df_modern = df[df['test_image'].str.startswith('I')]\n",
    "\n",
    "df_historic"
   ]
  },
  {
   "cell_type": "code",
   "execution_count": 13,
   "metadata": {},
   "outputs": [
    {
     "data": {
      "text/html": [
       "<div>\n",
       "<style scoped>\n",
       "    .dataframe tbody tr th:only-of-type {\n",
       "        vertical-align: middle;\n",
       "    }\n",
       "\n",
       "    .dataframe tbody tr th {\n",
       "        vertical-align: top;\n",
       "    }\n",
       "\n",
       "    .dataframe thead th {\n",
       "        text-align: right;\n",
       "    }\n",
       "</style>\n",
       "<table border=\"1\" class=\"dataframe\">\n",
       "  <thead>\n",
       "    <tr style=\"text-align: right;\">\n",
       "      <th></th>\n",
       "      <th>test_image</th>\n",
       "      <th>mean</th>\n",
       "      <th>chroma</th>\n",
       "    </tr>\n",
       "  </thead>\n",
       "  <tbody>\n",
       "    <tr>\n",
       "      <th>0</th>\n",
       "      <td>H0</td>\n",
       "      <td>3.166667</td>\n",
       "      <td>0.587368</td>\n",
       "    </tr>\n",
       "    <tr>\n",
       "      <th>1</th>\n",
       "      <td>H1</td>\n",
       "      <td>4.166667</td>\n",
       "      <td>0.450635</td>\n",
       "    </tr>\n",
       "    <tr>\n",
       "      <th>2</th>\n",
       "      <td>H2</td>\n",
       "      <td>4.500000</td>\n",
       "      <td>1.080718</td>\n",
       "    </tr>\n",
       "    <tr>\n",
       "      <th>3</th>\n",
       "      <td>H3</td>\n",
       "      <td>1.833333</td>\n",
       "      <td>0.428122</td>\n",
       "    </tr>\n",
       "    <tr>\n",
       "      <th>4</th>\n",
       "      <td>H4</td>\n",
       "      <td>3.000000</td>\n",
       "      <td>0.632544</td>\n",
       "    </tr>\n",
       "    <tr>\n",
       "      <th>5</th>\n",
       "      <td>H5</td>\n",
       "      <td>2.500000</td>\n",
       "      <td>0.464387</td>\n",
       "    </tr>\n",
       "    <tr>\n",
       "      <th>6</th>\n",
       "      <td>H6</td>\n",
       "      <td>3.500000</td>\n",
       "      <td>0.287541</td>\n",
       "    </tr>\n",
       "    <tr>\n",
       "      <th>7</th>\n",
       "      <td>H7</td>\n",
       "      <td>3.000000</td>\n",
       "      <td>0.826526</td>\n",
       "    </tr>\n",
       "    <tr>\n",
       "      <th>8</th>\n",
       "      <td>H8</td>\n",
       "      <td>3.333333</td>\n",
       "      <td>0.559676</td>\n",
       "    </tr>\n",
       "    <tr>\n",
       "      <th>9</th>\n",
       "      <td>H9</td>\n",
       "      <td>2.833333</td>\n",
       "      <td>0.647951</td>\n",
       "    </tr>\n",
       "    <tr>\n",
       "      <th>10</th>\n",
       "      <td>H10</td>\n",
       "      <td>3.333333</td>\n",
       "      <td>0.531130</td>\n",
       "    </tr>\n",
       "    <tr>\n",
       "      <th>11</th>\n",
       "      <td>H11</td>\n",
       "      <td>3.500000</td>\n",
       "      <td>0.579024</td>\n",
       "    </tr>\n",
       "    <tr>\n",
       "      <th>12</th>\n",
       "      <td>H12</td>\n",
       "      <td>3.000000</td>\n",
       "      <td>0.585456</td>\n",
       "    </tr>\n",
       "    <tr>\n",
       "      <th>13</th>\n",
       "      <td>H13</td>\n",
       "      <td>4.333333</td>\n",
       "      <td>0.405815</td>\n",
       "    </tr>\n",
       "    <tr>\n",
       "      <th>14</th>\n",
       "      <td>H14</td>\n",
       "      <td>3.833333</td>\n",
       "      <td>0.499072</td>\n",
       "    </tr>\n",
       "    <tr>\n",
       "      <th>15</th>\n",
       "      <td>H15</td>\n",
       "      <td>5.166667</td>\n",
       "      <td>0.508329</td>\n",
       "    </tr>\n",
       "    <tr>\n",
       "      <th>16</th>\n",
       "      <td>H16</td>\n",
       "      <td>2.833333</td>\n",
       "      <td>0.347687</td>\n",
       "    </tr>\n",
       "    <tr>\n",
       "      <th>17</th>\n",
       "      <td>H17</td>\n",
       "      <td>1.500000</td>\n",
       "      <td>0.978430</td>\n",
       "    </tr>\n",
       "    <tr>\n",
       "      <th>18</th>\n",
       "      <td>H18</td>\n",
       "      <td>4.166667</td>\n",
       "      <td>1.323848</td>\n",
       "    </tr>\n",
       "    <tr>\n",
       "      <th>19</th>\n",
       "      <td>H19</td>\n",
       "      <td>2.666667</td>\n",
       "      <td>1.536358</td>\n",
       "    </tr>\n",
       "    <tr>\n",
       "      <th>20</th>\n",
       "      <td>H20</td>\n",
       "      <td>3.000000</td>\n",
       "      <td>1.049720</td>\n",
       "    </tr>\n",
       "    <tr>\n",
       "      <th>21</th>\n",
       "      <td>H21</td>\n",
       "      <td>1.833333</td>\n",
       "      <td>0.343259</td>\n",
       "    </tr>\n",
       "    <tr>\n",
       "      <th>22</th>\n",
       "      <td>H22</td>\n",
       "      <td>4.000000</td>\n",
       "      <td>0.802847</td>\n",
       "    </tr>\n",
       "    <tr>\n",
       "      <th>23</th>\n",
       "      <td>H23</td>\n",
       "      <td>4.666667</td>\n",
       "      <td>1.155229</td>\n",
       "    </tr>\n",
       "    <tr>\n",
       "      <th>24</th>\n",
       "      <td>H24</td>\n",
       "      <td>1.666667</td>\n",
       "      <td>1.146667</td>\n",
       "    </tr>\n",
       "    <tr>\n",
       "      <th>25</th>\n",
       "      <td>H25</td>\n",
       "      <td>4.666667</td>\n",
       "      <td>1.113299</td>\n",
       "    </tr>\n",
       "    <tr>\n",
       "      <th>26</th>\n",
       "      <td>H26</td>\n",
       "      <td>3.500000</td>\n",
       "      <td>0.645220</td>\n",
       "    </tr>\n",
       "    <tr>\n",
       "      <th>27</th>\n",
       "      <td>H27</td>\n",
       "      <td>2.000000</td>\n",
       "      <td>0.302831</td>\n",
       "    </tr>\n",
       "    <tr>\n",
       "      <th>28</th>\n",
       "      <td>H28</td>\n",
       "      <td>3.833333</td>\n",
       "      <td>0.394545</td>\n",
       "    </tr>\n",
       "    <tr>\n",
       "      <th>29</th>\n",
       "      <td>H29</td>\n",
       "      <td>3.000000</td>\n",
       "      <td>0.921610</td>\n",
       "    </tr>\n",
       "  </tbody>\n",
       "</table>\n",
       "</div>"
      ],
      "text/plain": [
       "   test_image      mean    chroma\n",
       "0          H0  3.166667  0.587368\n",
       "1          H1  4.166667  0.450635\n",
       "2          H2  4.500000  1.080718\n",
       "3          H3  1.833333  0.428122\n",
       "4          H4  3.000000  0.632544\n",
       "5          H5  2.500000  0.464387\n",
       "6          H6  3.500000  0.287541\n",
       "7          H7  3.000000  0.826526\n",
       "8          H8  3.333333  0.559676\n",
       "9          H9  2.833333  0.647951\n",
       "10        H10  3.333333  0.531130\n",
       "11        H11  3.500000  0.579024\n",
       "12        H12  3.000000  0.585456\n",
       "13        H13  4.333333  0.405815\n",
       "14        H14  3.833333  0.499072\n",
       "15        H15  5.166667  0.508329\n",
       "16        H16  2.833333  0.347687\n",
       "17        H17  1.500000  0.978430\n",
       "18        H18  4.166667  1.323848\n",
       "19        H19  2.666667  1.536358\n",
       "20        H20  3.000000  1.049720\n",
       "21        H21  1.833333  0.343259\n",
       "22        H22  4.000000  0.802847\n",
       "23        H23  4.666667  1.155229\n",
       "24        H24  1.666667  1.146667\n",
       "25        H25  4.666667  1.113299\n",
       "26        H26  3.500000  0.645220\n",
       "27        H27  2.000000  0.302831\n",
       "28        H28  3.833333  0.394545\n",
       "29        H29  3.000000  0.921610"
      ]
     },
     "execution_count": 13,
     "metadata": {},
     "output_type": "execute_result"
    }
   ],
   "source": [
    "mean_lists = []\n",
    "for img_name in df_historic['test_image'].unique():\n",
    "    mean = np.mean(df_historic.loc[df_historic['test_image'] == img_name, 'response'].tolist())\n",
    "    chroma = df_historic.loc[df_historic['test_image'] == img_name, 'chroma'].iloc[0]\n",
    "    mean_lists.append([img_name, mean, chroma])\n",
    "\n",
    "df_historic_mean = pd.DataFrame(mean_lists)\n",
    "df_historic_mean.columns = ['test_image', 'mean', 'chroma']\n",
    "df_historic_mean"
   ]
  },
  {
   "cell_type": "code",
   "execution_count": 14,
   "id": "51421fcf",
   "metadata": {},
   "outputs": [],
   "source": [
    "mean_func = interpolate.interp1d(x=np.arange(len(df_historic_mean['mean'])), y=df_historic_mean['mean'])\n",
    "chroma_func = interpolate.interp1d(x=np.arange(len(df_historic_mean['chroma'])), y=df_historic_mean['chroma'])"
   ]
  },
  {
   "cell_type": "markdown",
   "id": "f1fb6474",
   "metadata": {},
   "source": [
    "### Historic plots"
   ]
  },
  {
   "cell_type": "code",
   "execution_count": 18,
   "id": "digital-declaration",
   "metadata": {},
   "outputs": [
    {
     "data": {
      "image/png": "[encoded data removed]",
      "text/plain": [
       "<Figure size 842.4x595.44 with 1 Axes>"
      ]
     },
     "metadata": {
      "needs_background": "light"
     },
     "output_type": "display_data"
    }
   ],
   "source": [
    "g = sns.catplot(x='test_image', y='response', data=df_historic,\n",
    "                kind='bar', ci='sd', color='#e34a33')\n",
    "\n",
    "g.fig.set_size_inches(11.7, 8.27)\n",
    "\n",
    "g.set(ylim = (0,9))\n",
    "sns.despine()\n"
   ]
  },
  {
   "cell_type": "code",
   "execution_count": 26,
   "id": "cf305e65",
   "metadata": {},
   "outputs": [],
   "source": [
    "def diff_func(x):\n",
    "    return mean_func(x) - chroma_func(x)"
   ]
  },
  {
   "cell_type": "code",
   "execution_count": 27,
   "id": "23a0549f",
   "metadata": {},
   "outputs": [
    {
     "data": {
      "image/png": "[encoded data removed]",
      "text/plain": [
       "<Figure size 432x288 with 1 Axes>"
      ]
     },
     "metadata": {
      "needs_background": "light"
     },
     "output_type": "display_data"
    }
   ],
   "source": [
    "\n",
    "sns.scatterplot(x='test_image', y='mean', data=df_historic_mean)\n",
    "sns.scatterplot(x='test_image', y='chroma', data=df_historic_mean)\n",
    "sns.lineplot(x=np.arange(len(df_historic_mean)), y=mean_func(np.arange(len(df_historic_mean))))\n",
    "sns.lineplot(x=np.arange(len(df_historic_mean)), y=chroma_func(np.arange(len(df_historic_mean))))\n",
    "sns.lineplot(x=np.arange(len(df_historic_mean)), y=diff_func(np.arange(len(df_historic_mean))))\n",
    "#g.fig.set_size_inches(11.7, 8.27)\n",
    "\n",
    "#g.set(ylim = (0,9))\n",
    "sns.despine()"
   ]
  },
  {
   "cell_type": "code",
   "execution_count": 19,
   "id": "eb96e17c",
   "metadata": {},
   "outputs": [
    {
     "data": {
      "text/plain": [
       "<seaborn.axisgrid.FacetGrid at 0x2dc441c8400>"
      ]
     },
     "execution_count": 19,
     "metadata": {},
     "output_type": "execute_result"
    },
    {
     "data": {
      "image/png": "[encoded data removed]",
      "text/plain": [
       "<Figure size 842.4x595.44 with 1 Axes>"
      ]
     },
     "metadata": {
      "needs_background": "light"
     },
     "output_type": "display_data"
    }
   ],
   "source": [
    "### barplot aggregated by k\n",
    "## we call the function catplot() (cat: categorical)\n",
    "#fig, ax = plt.subplots()\n",
    "#fig, ax = plt.subplots()\n",
    "# the size of A4 paper\n",
    "#fig.set_size_inches(11.7, 8.27)\n",
    "#sns.set(rc={'figure.figsize':(28,10)})\n",
    "\n",
    "g = sns.catplot(\n",
    "    x='test_image', y='response', data=df_modern,\n",
    "    kind='bar', ci='sd', color='#e34a33')\n",
    "g.fig.set_size_inches(11.7, 8.27)\n",
    "g.set(ylim = (0,9))"
   ]
  },
  {
   "cell_type": "code",
   "execution_count": 144,
   "id": "defensive-olive",
   "metadata": {},
   "outputs": [
    {
     "data": {
      "text/plain": [
       "Text(0.5, 1.0, 'H27_1.0_chroma.JPG')"
      ]
     },
     "execution_count": 144,
     "metadata": {},
     "output_type": "execute_result"
    },
    {
     "data": {
      "image/png": "[encoded data removed]",
      "text/plain": [
       "<Figure size 360x360 with 1 Axes>"
      ]
     },
     "metadata": {
      "needs_background": "light"
     },
     "output_type": "display_data"
    }
   ],
   "source": [
    "### barplot aggregated by g\n",
    "g = sns.catplot(x='test_image', y='response', data=d, kind='bar', color='#3182bd',\n",
    "            ci='sd')\n",
    "g.set_ylabels('Quality')\n",
    "g.set_xlabels('Gamma')\n",
    "g.set(ylim = (-3, 3))\n",
    "plt.title(current_image)"
   ]
  },
  {
   "cell_type": "code",
   "execution_count": 145,
   "id": "interpreted-mexican",
   "metadata": {},
   "outputs": [
    {
     "ename": "ValueError",
     "evalue": "Could not interpret input 'k'",
     "output_type": "error",
     "traceback": [
      "\u001b[0;31m---------------------------------------------------------------------------\u001b[0m",
      "\u001b[0;31mValueError\u001b[0m                                Traceback (most recent call last)",
      "\u001b[0;32m/tmp/ipykernel_47238/994870499.py\u001b[0m in \u001b[0;36m<module>\u001b[0;34m\u001b[0m\n\u001b[1;32m      1\u001b[0m \u001b[0;31m#### barplot aggregated by k and g\u001b[0m\u001b[0;34m\u001b[0m\u001b[0;34m\u001b[0m\u001b[0;34m\u001b[0m\u001b[0m\n\u001b[0;32m----> 2\u001b[0;31m g = sns.catplot(x='k', y='quality_value', data=d, hue='g', palette='Greens',\n\u001b[0m\u001b[1;32m      3\u001b[0m                 kind='bar', ci='sd')\n\u001b[1;32m      4\u001b[0m \u001b[0mg\u001b[0m\u001b[0;34m.\u001b[0m\u001b[0mset_ylabels\u001b[0m\u001b[0;34m(\u001b[0m\u001b[0;34m'Quality'\u001b[0m\u001b[0;34m)\u001b[0m\u001b[0;34m\u001b[0m\u001b[0;34m\u001b[0m\u001b[0m\n\u001b[1;32m      5\u001b[0m \u001b[0mg\u001b[0m\u001b[0;34m.\u001b[0m\u001b[0mset_xlabels\u001b[0m\u001b[0;34m(\u001b[0m\u001b[0;34m'Kontrast'\u001b[0m\u001b[0;34m)\u001b[0m\u001b[0;34m\u001b[0m\u001b[0;34m\u001b[0m\u001b[0m\n",
      "\u001b[0;32m~/.local/lib/python3.8/site-packages/seaborn/_decorators.py\u001b[0m in \u001b[0;36minner_f\u001b[0;34m(*args, **kwargs)\u001b[0m\n\u001b[1;32m     44\u001b[0m             )\n\u001b[1;32m     45\u001b[0m         \u001b[0mkwargs\u001b[0m\u001b[0;34m.\u001b[0m\u001b[0mupdate\u001b[0m\u001b[0;34m(\u001b[0m\u001b[0;34m{\u001b[0m\u001b[0mk\u001b[0m\u001b[0;34m:\u001b[0m \u001b[0marg\u001b[0m \u001b[0;32mfor\u001b[0m \u001b[0mk\u001b[0m\u001b[0;34m,\u001b[0m \u001b[0marg\u001b[0m \u001b[0;32min\u001b[0m \u001b[0mzip\u001b[0m\u001b[0;34m(\u001b[0m\u001b[0msig\u001b[0m\u001b[0;34m.\u001b[0m\u001b[0mparameters\u001b[0m\u001b[0;34m,\u001b[0m \u001b[0margs\u001b[0m\u001b[0;34m)\u001b[0m\u001b[0;34m}\u001b[0m\u001b[0;34m)\u001b[0m\u001b[0;34m\u001b[0m\u001b[0;34m\u001b[0m\u001b[0m\n\u001b[0;32m---> 46\u001b[0;31m         \u001b[0;32mreturn\u001b[0m \u001b[0mf\u001b[0m\u001b[0;34m(\u001b[0m\u001b[0;34m**\u001b[0m\u001b[0mkwargs\u001b[0m\u001b[0;34m)\u001b[0m\u001b[0;34m\u001b[0m\u001b[0;34m\u001b[0m\u001b[0m\n\u001b[0m\u001b[1;32m     47\u001b[0m     \u001b[0;32mreturn\u001b[0m \u001b[0minner_f\u001b[0m\u001b[0;34m\u001b[0m\u001b[0;34m\u001b[0m\u001b[0m\n\u001b[1;32m     48\u001b[0m \u001b[0;34m\u001b[0m\u001b[0m\n",
      "\u001b[0;32m~/.local/lib/python3.8/site-packages/seaborn/categorical.py\u001b[0m in \u001b[0;36mcatplot\u001b[0;34m(x, y, hue, data, row, col, col_wrap, estimator, ci, n_boot, units, seed, order, hue_order, row_order, col_order, kind, height, aspect, orient, color, palette, legend, legend_out, sharex, sharey, margin_titles, facet_kws, **kwargs)\u001b[0m\n\u001b[1;32m   3790\u001b[0m     \u001b[0mp\u001b[0m \u001b[0;34m=\u001b[0m \u001b[0m_CategoricalPlotter\u001b[0m\u001b[0;34m(\u001b[0m\u001b[0;34m)\u001b[0m\u001b[0;34m\u001b[0m\u001b[0;34m\u001b[0m\u001b[0m\n\u001b[1;32m   3791\u001b[0m     \u001b[0mp\u001b[0m\u001b[0;34m.\u001b[0m\u001b[0mrequire_numeric\u001b[0m \u001b[0;34m=\u001b[0m \u001b[0mplotter_class\u001b[0m\u001b[0;34m.\u001b[0m\u001b[0mrequire_numeric\u001b[0m\u001b[0;34m\u001b[0m\u001b[0;34m\u001b[0m\u001b[0m\n\u001b[0;32m-> 3792\u001b[0;31m     \u001b[0mp\u001b[0m\u001b[0;34m.\u001b[0m\u001b[0mestablish_variables\u001b[0m\u001b[0;34m(\u001b[0m\u001b[0mx_\u001b[0m\u001b[0;34m,\u001b[0m \u001b[0my_\u001b[0m\u001b[0;34m,\u001b[0m \u001b[0mhue\u001b[0m\u001b[0;34m,\u001b[0m \u001b[0mdata\u001b[0m\u001b[0;34m,\u001b[0m \u001b[0morient\u001b[0m\u001b[0;34m,\u001b[0m \u001b[0morder\u001b[0m\u001b[0;34m,\u001b[0m \u001b[0mhue_order\u001b[0m\u001b[0;34m)\u001b[0m\u001b[0;34m\u001b[0m\u001b[0;34m\u001b[0m\u001b[0m\n\u001b[0m\u001b[1;32m   3793\u001b[0m     if (\n\u001b[1;32m   3794\u001b[0m         \u001b[0morder\u001b[0m \u001b[0;32mis\u001b[0m \u001b[0;32mnot\u001b[0m \u001b[0;32mNone\u001b[0m\u001b[0;34m\u001b[0m\u001b[0;34m\u001b[0m\u001b[0m\n",
      "\u001b[0;32m~/.local/lib/python3.8/site-packages/seaborn/categorical.py\u001b[0m in \u001b[0;36mestablish_variables\u001b[0;34m(self, x, y, hue, data, orient, order, hue_order, units)\u001b[0m\n\u001b[1;32m    151\u001b[0m                 \u001b[0;32mif\u001b[0m \u001b[0misinstance\u001b[0m\u001b[0;34m(\u001b[0m\u001b[0mvar\u001b[0m\u001b[0;34m,\u001b[0m \u001b[0mstr\u001b[0m\u001b[0;34m)\u001b[0m\u001b[0;34m:\u001b[0m\u001b[0;34m\u001b[0m\u001b[0;34m\u001b[0m\u001b[0m\n\u001b[1;32m    152\u001b[0m                     \u001b[0merr\u001b[0m \u001b[0;34m=\u001b[0m \u001b[0;34m\"Could not interpret input '{}'\"\u001b[0m\u001b[0;34m.\u001b[0m\u001b[0mformat\u001b[0m\u001b[0;34m(\u001b[0m\u001b[0mvar\u001b[0m\u001b[0;34m)\u001b[0m\u001b[0;34m\u001b[0m\u001b[0;34m\u001b[0m\u001b[0m\n\u001b[0;32m--> 153\u001b[0;31m                     \u001b[0;32mraise\u001b[0m \u001b[0mValueError\u001b[0m\u001b[0;34m(\u001b[0m\u001b[0merr\u001b[0m\u001b[0;34m)\u001b[0m\u001b[0;34m\u001b[0m\u001b[0;34m\u001b[0m\u001b[0m\n\u001b[0m\u001b[1;32m    154\u001b[0m \u001b[0;34m\u001b[0m\u001b[0m\n\u001b[1;32m    155\u001b[0m             \u001b[0;31m# Figure out the plotting orientation\u001b[0m\u001b[0;34m\u001b[0m\u001b[0;34m\u001b[0m\u001b[0;34m\u001b[0m\u001b[0m\n",
      "\u001b[0;31mValueError\u001b[0m: Could not interpret input 'k'"
     ]
    }
   ],
   "source": [
    "#### barplot aggregated by k and g\n",
    "g = sns.catplot(x='k', y='quality_value', data=d, hue='g', palette='Greens',\n",
    "                kind='bar', ci='sd')\n",
    "g.set_ylabels('Quality')\n",
    "g.set_xlabels('Kontrast')\n",
    "g.set(ylim = (-3, 3))"
   ]
  },
  {
   "cell_type": "markdown",
   "id": "charitable-merit",
   "metadata": {},
   "source": [
    "## Visualizing data from all pictures"
   ]
  },
  {
   "cell_type": "code",
   "execution_count": null,
   "id": "super-firewall",
   "metadata": {},
   "outputs": [
    {
     "data": {
      "image/png": "[encoded data removed]",
      "text/plain": [
       "<Figure size 1176.15x1800 with 15 Axes>"
      ]
     },
     "metadata": {
      "needs_background": "light"
     },
     "output_type": "display_data"
    }
   ],
   "source": [
    "# %%  Using small multiples to visualize data from all pictures in one figure \n",
    "g = sns.catplot(x='k', y='quality_value', data=df, hue='g',\n",
    "                col='picture', \n",
    "                col_wrap = 3, \n",
    "                kind='bar', ci='sd', \n",
    "                #height=4,\n",
    "                palette='Greens')\n",
    "\n",
    "\n",
    "\n",
    "g.set_ylabels('Quality')\n",
    "g.set_xlabels('Kontrast')\n",
    "g.set_titles('{col_name}')\n",
    "g.set(ylim = (-3, 3))\n",
    "g.savefig('allpictures_in_different_panels.pdf')\n"
   ]
  },
  {
   "cell_type": "code",
   "execution_count": null,
   "id": "lonely-details",
   "metadata": {},
   "outputs": [
    {
     "data": {
      "image/png": "[encoded data removed]",
      "text/plain": [
       "<Figure size 456.15x360 with 1 Axes>"
      ]
     },
     "metadata": {
      "needs_background": "light"
     },
     "output_type": "display_data"
    }
   ],
   "source": [
    "# %% collapsing all pictures into one visualization\n",
    "g = sns.catplot(x='k', y='quality_value', data=df, hue='g',\n",
    "                kind='bar', ci='sd', errwidth=2,\n",
    "                palette='Greens')\n",
    "g.set_ylabels('Quality')\n",
    "g.set_xlabels('Kontrast')\n",
    "g.set(ylim = (-3, 3))\n",
    "\n",
    "plt.title('all pictures aggregated')\n",
    "g.savefig('allpictures_aggregated.pdf')\n"
   ]
  },
  {
   "cell_type": "markdown",
   "id": "educational-split",
   "metadata": {},
   "source": [
    "## Some statistical analysis"
   ]
  },
  {
   "cell_type": "code",
   "execution_count": null,
   "id": "super-clerk",
   "metadata": {},
   "outputs": [],
   "source": [
    "# we load scipy\n",
    "import scipy"
   ]
  },
  {
   "cell_type": "markdown",
   "id": "latin-education",
   "metadata": {},
   "source": [
    "### t-test \n",
    "With a t-test we can test whether the values of two groups have the same mean. The null-hypothesis states that the mean difference between the two samples is zero. \n",
    "The test gives us a 'p-value', the conditional probability for the observed difference between means under the assumption (condition) that the null-hypothesis is true. When the p-value is smaller than a criterion value (0.05 for 95 % confidence by convention), we say we *reject* the null-hypothesis. In other words, a p value <.05 indicates that the difference between the two samples is unlikely to be truly zero."
   ]
  },
  {
   "cell_type": "code",
   "execution_count": null,
   "id": "logical-basic",
   "metadata": {},
   "outputs": [],
   "source": [
    "# we select the data we want to compare. We select the data for k=0.5 and k=1.5 \n",
    "# and assign them to two vectors, k1 and k2\n",
    "k1 = df[df['k']==0.5]\n",
    "k2 = df[df['k']==1.0]\n",
    "\n",
    "#k1['quality_value']\n",
    "#k2['quality_value']\n"
   ]
  },
  {
   "cell_type": "code",
   "execution_count": null,
   "id": "applicable-record",
   "metadata": {},
   "outputs": [
    {
     "name": "stdout",
     "output_type": "stream",
     "text": [
      "p-value: 2.606247110907521e-21\n"
     ]
    }
   ],
   "source": [
    "# we call a t-test for two independent samples \n",
    "tstat, pvalue = scipy.stats.ttest_ind(k1['quality_value'], \n",
    "                                      k2['quality_value']) \n",
    "\n",
    "print('p-value:', pvalue)"
   ]
  },
  {
   "cell_type": "markdown",
   "id": "flying-branch",
   "metadata": {},
   "source": [
    "The p-value is << 0.05, so we reject the null hypothesis and say that the difference is significant."
   ]
  },
  {
   "cell_type": "markdown",
   "id": "ordinary-europe",
   "metadata": {},
   "source": [
    "### ANOVA\n",
    "If we want to compare the means of more than 2 groups, we need to perform an Analysis of Variance (ANOVA). The null-hypothesis in the ANOVA states that there is no difference between the means of the groups. A p-value less than 0.05 (at 95 %) rejects this general hypothesis without indicating which groups are different from one another."
   ]
  },
  {
   "cell_type": "code",
   "execution_count": null,
   "id": "expressed-determination",
   "metadata": {},
   "outputs": [],
   "source": [
    "# for an ANOVA we need the python module statsmodels (statistical models)\n",
    "import statsmodels.api as sm  \n",
    "\n",
    "# the particular function we need is called ols()\n",
    "# (ols: ordinary least squares, that is the type of fitting)\n",
    "from statsmodels.formula.api import ols   "
   ]
  },
  {
   "cell_type": "code",
   "execution_count": null,
   "id": "renewable-straight",
   "metadata": {},
   "outputs": [
    {
     "data": {
      "text/html": [
       "<div>\n",
       "<style scoped>\n",
       "    .dataframe tbody tr th:only-of-type {\n",
       "        vertical-align: middle;\n",
       "    }\n",
       "\n",
       "    .dataframe tbody tr th {\n",
       "        vertical-align: top;\n",
       "    }\n",
       "\n",
       "    .dataframe thead th {\n",
       "        text-align: right;\n",
       "    }\n",
       "</style>\n",
       "<table border=\"1\" class=\"dataframe\">\n",
       "  <thead>\n",
       "    <tr style=\"text-align: right;\">\n",
       "      <th></th>\n",
       "      <th>df</th>\n",
       "      <th>sum_sq</th>\n",
       "      <th>mean_sq</th>\n",
       "      <th>F</th>\n",
       "      <th>PR(&gt;F)</th>\n",
       "    </tr>\n",
       "  </thead>\n",
       "  <tbody>\n",
       "    <tr>\n",
       "      <th>C(k)</th>\n",
       "      <td>4.0</td>\n",
       "      <td>121.098479</td>\n",
       "      <td>30.274620</td>\n",
       "      <td>40.554424</td>\n",
       "      <td>6.241619e-28</td>\n",
       "    </tr>\n",
       "    <tr>\n",
       "      <th>C(g)</th>\n",
       "      <td>4.0</td>\n",
       "      <td>59.353084</td>\n",
       "      <td>14.838271</td>\n",
       "      <td>19.876634</td>\n",
       "      <td>9.159041e-15</td>\n",
       "    </tr>\n",
       "    <tr>\n",
       "      <th>Residual</th>\n",
       "      <td>351.0</td>\n",
       "      <td>262.027924</td>\n",
       "      <td>0.746518</td>\n",
       "      <td>NaN</td>\n",
       "      <td>NaN</td>\n",
       "    </tr>\n",
       "  </tbody>\n",
       "</table>\n",
       "</div>"
      ],
      "text/plain": [
       "             df      sum_sq    mean_sq          F        PR(>F)\n",
       "C(k)        4.0  121.098479  30.274620  40.554424  6.241619e-28\n",
       "C(g)        4.0   59.353084  14.838271  19.876634  9.159041e-15\n",
       "Residual  351.0  262.027924   0.746518        NaN           NaN"
      ]
     },
     "execution_count": 25,
     "metadata": {},
     "output_type": "execute_result"
    }
   ],
   "source": [
    "# we need to set up a 'formula' for the model. This formula is similar to the syntax in R.\n",
    "\n",
    "# on the left side of the tilde we put the dependent variable\n",
    "# on the right side of the tilde we state the independent variables \n",
    "# the C( )  indicates that we consider the variable as a categorical variable (and not continuous)\n",
    "# the sign + is not a sum, it is to indicate more than one variable.\n",
    "# the sign * is not a multiplication, it is to indicate we want to also model interactions between the variables\n",
    "\n",
    "# we call ols() passing the model 'formula'\n",
    "mod = ols('quality_value ~ C(k) + C(g)', data=df)\n",
    "\n",
    "# we fit the model\n",
    "fit = mod.fit()\n",
    "\n",
    "# we show the ANOVA table\n",
    "sm.stats.anova_lm(fit)"
   ]
  },
  {
   "cell_type": "markdown",
   "id": "capable-elephant",
   "metadata": {},
   "source": [
    "The ANOVA table shows that for both variables k and g there is a signifficant effect (p-values < 0.05 for 95 % confidence). There is also a signifficant interaction term ('C(k):C(g)').\n",
    "\n",
    "\n",
    "The p-values reject the null hypothesis, meaning that there is a significant difference between the means. But which ones? To answer that we need to perform a so-called post-hoc test. "
   ]
  },
  {
   "cell_type": "markdown",
   "id": "roman-possibility",
   "metadata": {},
   "source": [
    "Post-hoc tests do all the pairwise comparisons (like a t-test), but correcting the p-value for multiple comparisons. This correction is needed because of statistical reasons. The risk of not correcting is that we will be detecting differences that are not there. (https://en.wikipedia.org/wiki/Multiple_comparisons_problem)."
   ]
  },
  {
   "cell_type": "code",
   "execution_count": null,
   "id": "published-butterfly",
   "metadata": {},
   "outputs": [
    {
     "data": {
      "text/html": [
       "<table class=\"simpletable\">\n",
       "<caption>Test Multiple Comparison ttest_ind \n",
       "FWER=0.05 method=bonf\n",
       "alphacSidak=0.01, alphacBonf=0.005</caption>\n",
       "<tr>\n",
       "  <th>group1</th> <th>group2</th>   <th>stat</th>    <th>pval</th>  <th>pval_corr</th> <th>reject</th>\n",
       "</tr>\n",
       "<tr>\n",
       "    <td>0.5</td>   <td>0.75</td>   <td>-9.0713</td>   <td>0.0</td>     <td>0.0</td>     <td>True</td> \n",
       "</tr>\n",
       "<tr>\n",
       "    <td>0.5</td>    <td>1.0</td>   <td>-11.355</td>   <td>0.0</td>     <td>0.0</td>     <td>True</td> \n",
       "</tr>\n",
       "<tr>\n",
       "    <td>0.5</td>   <td>1.25</td>  <td>-11.0697</td>   <td>0.0</td>     <td>0.0</td>     <td>True</td> \n",
       "</tr>\n",
       "<tr>\n",
       "    <td>0.5</td>    <td>1.5</td>   <td>-7.3893</td>   <td>0.0</td>     <td>0.0</td>     <td>True</td> \n",
       "</tr>\n",
       "<tr>\n",
       "   <td>0.75</td>    <td>1.0</td>   <td>-4.4619</td>   <td>0.0</td>   <td>0.0002</td>    <td>True</td> \n",
       "</tr>\n",
       "<tr>\n",
       "   <td>0.75</td>   <td>1.25</td>   <td>-4.9838</td>   <td>0.0</td>     <td>0.0</td>     <td>True</td> \n",
       "</tr>\n",
       "<tr>\n",
       "   <td>0.75</td>    <td>1.5</td>   <td>-1.6373</td> <td>0.1037</td>    <td>1.0</td>     <td>False</td>\n",
       "</tr>\n",
       "<tr>\n",
       "    <td>1.0</td>   <td>1.25</td>   <td>-0.6897</td> <td>0.4916</td>    <td>1.0</td>     <td>False</td>\n",
       "</tr>\n",
       "<tr>\n",
       "    <td>1.0</td>    <td>1.5</td>   <td>1.9879</td>  <td>0.0489</td>  <td>0.4888</td>    <td>False</td>\n",
       "</tr>\n",
       "<tr>\n",
       "   <td>1.25</td>    <td>1.5</td>   <td>2.6678</td>  <td>0.0085</td>  <td>0.0849</td>    <td>False</td>\n",
       "</tr>\n",
       "</table>"
      ],
      "text/plain": [
       "<class 'statsmodels.iolib.table.SimpleTable'>"
      ]
     },
     "execution_count": 26,
     "metadata": {},
     "output_type": "execute_result"
    }
   ],
   "source": [
    "# perform multiple pairwise comparison\n",
    "from statsmodels.stats.multicomp import MultiComparison\n",
    "\n",
    "# here we set-up the multiple comparison problem. \n",
    "# First argument: response variable, in this case the dependent variable: quality_value\n",
    "# Second argument: groups. All groups to be compared\n",
    "# Third argument (optional): significance level for test. Normally 0.05 for 95% confidence.\n",
    "\n",
    "MultiComp = MultiComparison(df['quality_value'],\n",
    "                             df['k'])\n",
    "# here we compare the effect of 'k'. We also can change it and do 'g'.\n",
    "\n",
    "# Call for multiple comparison: \n",
    "# the first argument is the test we will do, a t-test (same function as above)\n",
    "# the second argument is the type of correction, in this case Bonferroni correction.\n",
    "comp = MultiComp.allpairtest(scipy.stats.ttest_ind, method='bonf')\n",
    "comp[0]"
   ]
  },
  {
   "cell_type": "markdown",
   "id": "comparable-hardware",
   "metadata": {},
   "source": [
    "The table shows all comparisons for k. The rightmost column says whether there is a significant difference between the groups tested (reject = True).\n",
    "\n",
    "-------------------------------"
   ]
  },
  {
   "cell_type": "markdown",
   "id": "obvious-forest",
   "metadata": {},
   "source": [
    "----\n"
   ]
  },
  {
   "cell_type": "markdown",
   "id": "systematic-lesbian",
   "metadata": {},
   "source": [
    "## Extra example about Linear regression\n",
    "\n",
    "Let's imagine we have a continuous x-variable, we measured a continous y-variable, in two experimental conditions. The file 'fictional_data.csv' provide such an example. We want to analyse if there is a linear relationship between x and y, and if there is a difference between conditions."
   ]
  },
  {
   "cell_type": "code",
   "execution_count": null,
   "id": "bearing-serbia",
   "metadata": {},
   "outputs": [
    {
     "data": {
      "image/png": "[encoded data removed]",
      "text/plain": [
       "<Figure size 456.45x360 with 1 Axes>"
      ]
     },
     "metadata": {
      "needs_background": "light"
     },
     "output_type": "display_data"
    }
   ],
   "source": [
    "# we load a fictional dataset\n",
    "df2 = pd.read_csv('fictional_data.csv')\n",
    "\n",
    "\n",
    "# to make a scatter plot we use relplot() (rel: relationship)\n",
    "g = sns.relplot(x='x', y='y', data=df2, hue='condition', kind='scatter')"
   ]
  },
  {
   "cell_type": "code",
   "execution_count": null,
   "id": "dying-scanning",
   "metadata": {},
   "outputs": [
    {
     "data": {
      "image/png": "[encoded data removed]",
      "text/plain": [
       "<Figure size 456.45x360 with 1 Axes>"
      ]
     },
     "metadata": {
      "needs_background": "light"
     },
     "output_type": "display_data"
    }
   ],
   "source": [
    "# or a line plot\n",
    "g = sns.relplot(x='x', y='y', data=df2, hue='condition', kind='line')"
   ]
  },
  {
   "cell_type": "code",
   "execution_count": null,
   "id": "major-night",
   "metadata": {},
   "outputs": [
    {
     "data": {
      "text/plain": [
       "<seaborn.axisgrid.FacetGrid at 0x7f63c6735580>"
      ]
     },
     "execution_count": 29,
     "metadata": {},
     "output_type": "execute_result"
    },
    {
     "data": {
      "image/png": "[encoded data removed]",
      "text/plain": [
       "<Figure size 456.45x360 with 1 Axes>"
      ]
     },
     "metadata": {
      "needs_background": "light"
     },
     "output_type": "display_data"
    }
   ],
   "source": [
    "sns.lmplot(x='x', y='y', hue=\"condition\", data=df2, \n",
    "           ci=None,\n",
    "           scatter_kws={\"s\": 50, \"alpha\": 1})\n"
   ]
  },
  {
   "cell_type": "markdown",
   "id": "chinese-costs",
   "metadata": {},
   "source": [
    "### Statistical analysis: linear regression"
   ]
  },
  {
   "cell_type": "code",
   "execution_count": null,
   "id": "burning-generator",
   "metadata": {},
   "outputs": [
    {
     "data": {
      "text/html": [
       "<table class=\"simpletable\">\n",
       "<caption>OLS Regression Results</caption>\n",
       "<tr>\n",
       "  <th>Dep. Variable:</th>            <td>y</td>        <th>  R-squared:         </th> <td>   0.115</td>\n",
       "</tr>\n",
       "<tr>\n",
       "  <th>Model:</th>                   <td>OLS</td>       <th>  Adj. R-squared:    </th> <td>   0.097</td>\n",
       "</tr>\n",
       "<tr>\n",
       "  <th>Method:</th>             <td>Least Squares</td>  <th>  F-statistic:       </th> <td>   6.256</td>\n",
       "</tr>\n",
       "<tr>\n",
       "  <th>Date:</th>             <td>Thu, 13 Jan 2022</td> <th>  Prob (F-statistic):</th>  <td>0.0158</td> \n",
       "</tr>\n",
       "<tr>\n",
       "  <th>Time:</th>                 <td>17:15:32</td>     <th>  Log-Likelihood:    </th> <td> -157.88</td>\n",
       "</tr>\n",
       "<tr>\n",
       "  <th>No. Observations:</th>      <td>    50</td>      <th>  AIC:               </th> <td>   319.8</td>\n",
       "</tr>\n",
       "<tr>\n",
       "  <th>Df Residuals:</th>          <td>    48</td>      <th>  BIC:               </th> <td>   323.6</td>\n",
       "</tr>\n",
       "<tr>\n",
       "  <th>Df Model:</th>              <td>     1</td>      <th>                     </th>     <td> </td>   \n",
       "</tr>\n",
       "<tr>\n",
       "  <th>Covariance Type:</th>      <td>nonrobust</td>    <th>                     </th>     <td> </td>   \n",
       "</tr>\n",
       "</table>\n",
       "<table class=\"simpletable\">\n",
       "<tr>\n",
       "      <td></td>         <th>coef</th>     <th>std err</th>      <th>t</th>      <th>P>|t|</th>  <th>[0.025</th>    <th>0.975]</th>  \n",
       "</tr>\n",
       "<tr>\n",
       "  <th>Intercept</th> <td>    4.4193</td> <td>    1.594</td> <td>    2.772</td> <td> 0.008</td> <td>    1.214</td> <td>    7.625</td>\n",
       "</tr>\n",
       "<tr>\n",
       "  <th>x</th>         <td>    0.6836</td> <td>    0.273</td> <td>    2.501</td> <td> 0.016</td> <td>    0.134</td> <td>    1.233</td>\n",
       "</tr>\n",
       "</table>\n",
       "<table class=\"simpletable\">\n",
       "<tr>\n",
       "  <th>Omnibus:</th>       <td> 0.278</td> <th>  Durbin-Watson:     </th> <td>   0.887</td>\n",
       "</tr>\n",
       "<tr>\n",
       "  <th>Prob(Omnibus):</th> <td> 0.870</td> <th>  Jarque-Bera (JB):  </th> <td>   0.466</td>\n",
       "</tr>\n",
       "<tr>\n",
       "  <th>Skew:</th>          <td>-0.016</td> <th>  Prob(JB):          </th> <td>   0.792</td>\n",
       "</tr>\n",
       "<tr>\n",
       "  <th>Kurtosis:</th>      <td> 2.528</td> <th>  Cond. No.          </th> <td>    11.6</td>\n",
       "</tr>\n",
       "</table><br/><br/>Notes:<br/>[1] Standard Errors assume that the covariance matrix of the errors is correctly specified."
      ],
      "text/plain": [
       "<class 'statsmodels.iolib.summary.Summary'>\n",
       "\"\"\"\n",
       "                            OLS Regression Results                            \n",
       "==============================================================================\n",
       "Dep. Variable:                      y   R-squared:                       0.115\n",
       "Model:                            OLS   Adj. R-squared:                  0.097\n",
       "Method:                 Least Squares   F-statistic:                     6.256\n",
       "Date:                Thu, 13 Jan 2022   Prob (F-statistic):             0.0158\n",
       "Time:                        17:15:32   Log-Likelihood:                -157.88\n",
       "No. Observations:                  50   AIC:                             319.8\n",
       "Df Residuals:                      48   BIC:                             323.6\n",
       "Df Model:                           1                                         \n",
       "Covariance Type:            nonrobust                                         \n",
       "==============================================================================\n",
       "                 coef    std err          t      P>|t|      [0.025      0.975]\n",
       "------------------------------------------------------------------------------\n",
       "Intercept      4.4193      1.594      2.772      0.008       1.214       7.625\n",
       "x              0.6836      0.273      2.501      0.016       0.134       1.233\n",
       "==============================================================================\n",
       "Omnibus:                        0.278   Durbin-Watson:                   0.887\n",
       "Prob(Omnibus):                  0.870   Jarque-Bera (JB):                0.466\n",
       "Skew:                          -0.016   Prob(JB):                        0.792\n",
       "Kurtosis:                       2.528   Cond. No.                         11.6\n",
       "==============================================================================\n",
       "\n",
       "Notes:\n",
       "[1] Standard Errors assume that the covariance matrix of the errors is correctly specified.\n",
       "\"\"\""
      ]
     },
     "execution_count": 33,
     "metadata": {},
     "output_type": "execute_result"
    }
   ],
   "source": [
    "# Model 1: all data included, not separated by condition\n",
    "mod = ols('y ~ x', data=df2)\n",
    "\n",
    "# we fit the model\n",
    "fit = mod.fit()\n",
    "\n",
    "# we show the summary of the statistical analysis\n",
    "fit.summary()"
   ]
  },
  {
   "cell_type": "markdown",
   "id": "vietnamese-dover",
   "metadata": {},
   "source": [
    "**The table is full of details, what is important is the following.**\n",
    "The model was $ y = slope \\cdot x + intercept$, so we should get two estimated values... the slope and the intercept. \n",
    "These two values are the second table, the column 'coef', the slope is 0.6836 and intercept = 4.4193.\n",
    "\n",
    "The same table also show us if these values are significantly different than zero (column \"P>|t|\"), which in case it is true for both the slope and the intercept (both p < 0.05).\n",
    "\n",
    "So we can say that there is a significant linear relationship between the two variables.\n"
   ]
  },
  {
   "cell_type": "markdown",
   "id": "criminal-official",
   "metadata": {},
   "source": [
    "Now we can do the same analysis but separated for each condition, A and B."
   ]
  },
  {
   "cell_type": "code",
   "execution_count": null,
   "id": "formal-universal",
   "metadata": {},
   "outputs": [
    {
     "data": {
      "text/plain": [
       "Intercept    1.071696\n",
       "x            0.608308\n",
       "dtype: float64"
      ]
     },
     "execution_count": 34,
     "metadata": {},
     "output_type": "execute_result"
    }
   ],
   "source": [
    "# Model 2: data separated by condition\n",
    "mod1 = ols('y ~ x', data=df2[df2['condition']=='A'])\n",
    "mod2 = ols('y ~ x', data=df2[df2['condition']=='B'])\n",
    "\n",
    "# we fit the model\n",
    "fit1 = mod1.fit()\n",
    "fit2 = mod2.fit()\n",
    "\n",
    "# we can use fit1.summary()..... \n",
    "# or instead of printing the big table, only get the parameters with...\n",
    "fit1.params"
   ]
  },
  {
   "cell_type": "code",
   "execution_count": null,
   "id": "funky-public",
   "metadata": {},
   "outputs": [
    {
     "data": {
      "text/plain": [
       "Intercept    7.766852\n",
       "x            0.758866\n",
       "dtype: float64"
      ]
     },
     "execution_count": 35,
     "metadata": {},
     "output_type": "execute_result"
    }
   ],
   "source": [
    "fit2.params"
   ]
  },
  {
   "cell_type": "markdown",
   "id": "worth-runner",
   "metadata": {},
   "source": [
    "Here we see that the slopes are not so different (0.6 and 0.76), but that the intercepts are very different (1.1 and 7.8). This observation also correspond with what we see in the visualization above.\n",
    "\n",
    "We conclude that there is a linear relationship between variable x and y, and that it is different between conditions, specifically, there is a change in intercept."
   ]
  },
  {
   "cell_type": "code",
   "execution_count": null,
   "id": "introductory-rebound",
   "metadata": {},
   "outputs": [],
   "source": []
  }
 ],
 "metadata": {
  "kernelspec": {
   "display_name": "Python 3 (ipykernel)",
   "language": "python",
   "name": "python3"
  },
  "language_info": {
   "codemirror_mode": {
    "name": "ipython",
    "version": 3
   },
   "file_extension": ".py",
   "mimetype": "text/x-python",
   "name": "python",
   "nbconvert_exporter": "python",
   "pygments_lexer": "ipython3",
   "version": "3.9.6"
  }
 },
 "nbformat": 4,
 "nbformat_minor": 5
}
