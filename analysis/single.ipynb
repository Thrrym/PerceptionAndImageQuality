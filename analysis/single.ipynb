{
 "cells": [
  {
   "cell_type": "markdown",
   "id": "hydraulic-flooring",
   "metadata": {},
   "source": [
    "# Analysis of the single assessment\n"
   ]
  },
  {
   "cell_type": "code",
   "execution_count": 107,
   "id": "prospective-monthly",
   "metadata": {
    "scrolled": true
   },
   "outputs": [],
   "source": [
    "import os, pickle\n",
    "import numpy as np\n",
    "import pandas as pd   # module to work with data in DataFrames.\n",
    "import seaborn as sns  # module to plot DataFrames in an easy way\n",
    "import matplotlib.pyplot as plt\n",
    "from pathlib import Path\n",
    "import scipy.stats as stats\n",
    "import scipy.constants as sc"
   ]
  },
  {
   "cell_type": "markdown",
   "id": "04c86282",
   "metadata": {},
   "source": [
    "Seaborn setup throughout the notebook."
   ]
  },
  {
   "cell_type": "code",
   "execution_count": 108,
   "id": "technological-utilization",
   "metadata": {},
   "outputs": [],
   "source": [
    "# seaborn comes with default presets (called 'contents') for figure's aesthetics, \n",
    "# such as the font size, figure size etc.\n",
    "\n",
    "sns.set_context('paper') # try: 'talk', 'poster', 'notebook'\n",
    "sns.set_theme(style=\"ticks\", palette=\"pastel\")\n",
    "\n",
    "# Set global color scheme for historic and modern images.\n",
    "sns_palette_historic = [\"m\"]\n",
    "sns_palette_modern = [\"g\"]\n",
    "\n",
    "# Plot size and y limits.\n",
    "sns_plot_size = (8*sc.golden_ratio, 8)\n",
    "sns_half_plot_size = (4*sc.golden_ratio, 8)\n",
    "sns_ylim = (-0.1, 1.1)\n",
    "\n",
    "color_blue = '#4E92FF'"
   ]
  },
  {
   "cell_type": "markdown",
   "id": "275d6c7f",
   "metadata": {},
   "source": [
    "## Get the result files"
   ]
  },
  {
   "cell_type": "code",
   "execution_count": 109,
   "id": "072de1e9",
   "metadata": {},
   "outputs": [
    {
     "name": "stdout",
     "output_type": "stream",
     "text": [
      "Number observer: 24\n"
     ]
    }
   ],
   "source": [
    "single_result_dir = Path('../single_assessment/results').absolute()\n",
    "single_result_file_names = os.listdir(single_result_dir)\n",
    "single_result_file_names = list(filter(lambda name: str.startswith(name, 'result'), single_result_file_names))\n",
    "\n",
    "single_result_files_paths = []\n",
    "for name in single_result_file_names:\n",
    "    single_result_files_paths.append(single_result_dir / name)\n",
    "\n",
    "num_observer = len(single_result_files_paths)\n",
    "print(f\"Number observer: {num_observer}\")"
   ]
  },
  {
   "cell_type": "markdown",
   "id": "85a9a607",
   "metadata": {},
   "source": [
    "## Create dataframe"
   ]
  },
  {
   "cell_type": "code",
   "execution_count": 110,
   "id": "bulgarian-invite",
   "metadata": {},
   "outputs": [],
   "source": [
    "df = pd.DataFrame()\n",
    "for index, path in enumerate(single_result_files_paths):\n",
    "    df_tmp = pd.read_csv(path)\n",
    "    df_tmp['observer'] = index\n",
    "    df = pd.concat((df, df_tmp))\n"
   ]
  },
  {
   "cell_type": "markdown",
   "id": "afd8b62f",
   "metadata": {},
   "source": [
    "New column to save normalised values.\n",
    "Scale perceived chroma to range [0,1]"
   ]
  },
  {
   "cell_type": "code",
   "execution_count": 111,
   "id": "9159730d",
   "metadata": {},
   "outputs": [],
   "source": [
    "df[\"normalise\"] = df[\"response\"] / 9"
   ]
  },
  {
   "cell_type": "markdown",
   "id": "3ee7671b",
   "metadata": {},
   "source": [
    "Add short ID of the image to the dataframe. And sort by id."
   ]
  },
  {
   "cell_type": "code",
   "execution_count": 112,
   "id": "072e7313",
   "metadata": {},
   "outputs": [],
   "source": [
    "df['id'] = [s.split('_')[0] for s in df['test_image'].tolist()]\n",
    "df = df.sort_values(by='id', ascending=True, key=lambda col: [int(img[1:]) for img in col])"
   ]
  },
  {
   "cell_type": "code",
   "execution_count": 113,
   "id": "5b217864",
   "metadata": {},
   "outputs": [],
   "source": [
    "df['type'] = [s[0] for s in df['id'].tolist()]"
   ]
  },
  {
   "cell_type": "code",
   "execution_count": 114,
   "id": "37c19202",
   "metadata": {},
   "outputs": [],
   "source": [
    "assert len(df) == (30 +15) * num_observer"
   ]
  },
  {
   "cell_type": "markdown",
   "id": "2545e1a0",
   "metadata": {},
   "source": [
    "## Sanity checks\n",
    "We expect 30 historic and 15 modern images used during tests.\n",
    "Only responses from [0, 9] accepted."
   ]
  },
  {
   "cell_type": "code",
   "execution_count": 115,
   "id": "acoustic-anger",
   "metadata": {},
   "outputs": [],
   "source": [
    "# sanity checks: how many groups do you expect per categorical variable?\n",
    "assert len(df['test_image'].unique()) == 30 + 15\n",
    "assert max(df['response'].unique()) <= 9\n",
    "assert min(df['response'].unique()) >= 0\n",
    "assert len(df) == (30 + 15) * len(single_result_file_names)\n",
    "# Check number of observers.\n",
    "assert len(df['observer'].unique()) == len(single_result_file_names)\n",
    "\n",
    "# Check number of historic and modern images.\n",
    "assert len(df[df['type'] == \"H\"]) == 30 * num_observer\n",
    "assert len(df[df['type'] == \"I\"]) == 15 * num_observer"
   ]
  },
  {
   "cell_type": "markdown",
   "id": "35ca7820",
   "metadata": {},
   "source": [
    "## Export dataframe"
   ]
  },
  {
   "cell_type": "code",
   "execution_count": 116,
   "id": "9dea7fde",
   "metadata": {},
   "outputs": [],
   "source": [
    "with open(\"single.pkl\", mode=\"wb\") as pkl_file:\n",
    "    pickle.dump(df, pkl_file)"
   ]
  },
  {
   "cell_type": "markdown",
   "id": "13c7712c",
   "metadata": {},
   "source": [
    "## Get average chroma values"
   ]
  },
  {
   "cell_type": "code",
   "execution_count": 117,
   "id": "268aa9aa",
   "metadata": {},
   "outputs": [],
   "source": [
    "# with open(Path('../image_generation/02_recolor/average_chroma_values.pkl'), mode='rb') as pkl_file:\n",
    "#     average_chroma_values = pickle.load(pkl_file)\n",
    "\n",
    "# df_average_chroma_values = pd.DataFrame(average_chroma_values)\n",
    "# df_average_chroma_values.columns = ['test_image', 'chroma']"
   ]
  },
  {
   "cell_type": "markdown",
   "id": "bc514153",
   "metadata": {},
   "source": [
    "Sanity checks of the average chroma values."
   ]
  },
  {
   "cell_type": "code",
   "execution_count": 118,
   "id": "c09fce4a",
   "metadata": {},
   "outputs": [],
   "source": [
    "# assert len(df_average_chroma_values) == len(df['test_image'].unique())\n",
    "# assert max(df_average_chroma_values['chroma']) <= 100\n",
    "# assert max(df_average_chroma_values['chroma']) >= 0.0"
   ]
  },
  {
   "cell_type": "markdown",
   "id": "621e85a3",
   "metadata": {},
   "source": [
    "Add the average chroma value for every image to the dataframe."
   ]
  },
  {
   "cell_type": "code",
   "execution_count": 119,
   "id": "2aa967a8",
   "metadata": {},
   "outputs": [],
   "source": [
    "# name = df_average_chroma_values['test_image'].unique()[0]\n",
    "# chroma_list = []\n",
    "# for image in df['test_image']:\n",
    "#     s = df_average_chroma_values.loc[df_average_chroma_values['test_image'] == image, 'chroma']\n",
    "#     chroma_list.append(s.iloc[0])\n",
    "\n",
    "# list(chroma_list)\n",
    "# df['chroma'] = chroma_list"
   ]
  },
  {
   "cell_type": "markdown",
   "id": "d1a33b83",
   "metadata": {},
   "source": [
    "Sanity check added chroma values to the original dataframe."
   ]
  },
  {
   "cell_type": "code",
   "execution_count": 120,
   "id": "a3e95393",
   "metadata": {},
   "outputs": [],
   "source": [
    "# for row in df.index:\n",
    "#     name = df.loc[df.index == row, 'test_image'].iloc[0]\n",
    "#     test_value = df.loc[df['test_image'] == name, 'chroma'].iloc[0]\n",
    "#     verified_value = df_average_chroma_values.loc[df_average_chroma_values['test_image'] == name, 'chroma'].iloc[0]\n",
    "#     assert np.isclose(test_value, verified_value)"
   ]
  },
  {
   "cell_type": "markdown",
   "id": "0d293822",
   "metadata": {},
   "source": [
    "Scale chroma values to [0, 9] range. And assert result."
   ]
  },
  {
   "cell_type": "code",
   "execution_count": 121,
   "id": "282576af",
   "metadata": {},
   "outputs": [],
   "source": [
    "# df['chroma'] = np.array(df['chroma'].tolist()) * (9/100)\n",
    "\n",
    "# assert max(df['chroma']) <= 9\n",
    "# assert min(df['chroma']) >= 0"
   ]
  },
  {
   "cell_type": "markdown",
   "id": "93187b17",
   "metadata": {},
   "source": [
    "## Dataframe"
   ]
  },
  {
   "cell_type": "code",
   "execution_count": 122,
   "metadata": {},
   "outputs": [
    {
     "data": {
      "text/html": [
       "<div>\n",
       "<style scoped>\n",
       "    .dataframe tbody tr th:only-of-type {\n",
       "        vertical-align: middle;\n",
       "    }\n",
       "\n",
       "    .dataframe tbody tr th {\n",
       "        vertical-align: top;\n",
       "    }\n",
       "\n",
       "    .dataframe thead th {\n",
       "        text-align: right;\n",
       "    }\n",
       "</style>\n",
       "<table border=\"1\" class=\"dataframe\">\n",
       "  <thead>\n",
       "    <tr style=\"text-align: right;\">\n",
       "      <th></th>\n",
       "      <th>test_image</th>\n",
       "      <th>response</th>\n",
       "      <th>resptime</th>\n",
       "      <th>observer</th>\n",
       "      <th>normalise</th>\n",
       "      <th>id</th>\n",
       "      <th>type</th>\n",
       "    </tr>\n",
       "  </thead>\n",
       "  <tbody>\n",
       "    <tr>\n",
       "      <th>18</th>\n",
       "      <td>H0_1.0_chroma.JPG</td>\n",
       "      <td>3</td>\n",
       "      <td>5.851714</td>\n",
       "      <td>8</td>\n",
       "      <td>0.333333</td>\n",
       "      <td>H0</td>\n",
       "      <td>H</td>\n",
       "    </tr>\n",
       "    <tr>\n",
       "      <th>10</th>\n",
       "      <td>H0_1.0_chroma.JPG</td>\n",
       "      <td>6</td>\n",
       "      <td>5.768565</td>\n",
       "      <td>20</td>\n",
       "      <td>0.666667</td>\n",
       "      <td>H0</td>\n",
       "      <td>H</td>\n",
       "    </tr>\n",
       "    <tr>\n",
       "      <th>41</th>\n",
       "      <td>H0_1.0_chroma.JPG</td>\n",
       "      <td>5</td>\n",
       "      <td>0.774010</td>\n",
       "      <td>7</td>\n",
       "      <td>0.555556</td>\n",
       "      <td>H0</td>\n",
       "      <td>H</td>\n",
       "    </tr>\n",
       "    <tr>\n",
       "      <th>1</th>\n",
       "      <td>H0_1.0_chroma.JPG</td>\n",
       "      <td>4</td>\n",
       "      <td>13.499934</td>\n",
       "      <td>6</td>\n",
       "      <td>0.444444</td>\n",
       "      <td>H0</td>\n",
       "      <td>H</td>\n",
       "    </tr>\n",
       "    <tr>\n",
       "      <th>0</th>\n",
       "      <td>H0_1.0_chroma.JPG</td>\n",
       "      <td>5</td>\n",
       "      <td>1.011019</td>\n",
       "      <td>1</td>\n",
       "      <td>0.555556</td>\n",
       "      <td>H0</td>\n",
       "      <td>H</td>\n",
       "    </tr>\n",
       "    <tr>\n",
       "      <th>...</th>\n",
       "      <td>...</td>\n",
       "      <td>...</td>\n",
       "      <td>...</td>\n",
       "      <td>...</td>\n",
       "      <td>...</td>\n",
       "      <td>...</td>\n",
       "      <td>...</td>\n",
       "    </tr>\n",
       "    <tr>\n",
       "      <th>37</th>\n",
       "      <td>H29_1.0_chroma.JPG</td>\n",
       "      <td>4</td>\n",
       "      <td>1.177412</td>\n",
       "      <td>16</td>\n",
       "      <td>0.444444</td>\n",
       "      <td>H29</td>\n",
       "      <td>H</td>\n",
       "    </tr>\n",
       "    <tr>\n",
       "      <th>35</th>\n",
       "      <td>H29_1.0_chroma.JPG</td>\n",
       "      <td>3</td>\n",
       "      <td>5.101903</td>\n",
       "      <td>12</td>\n",
       "      <td>0.333333</td>\n",
       "      <td>H29</td>\n",
       "      <td>H</td>\n",
       "    </tr>\n",
       "    <tr>\n",
       "      <th>43</th>\n",
       "      <td>H29_1.0_chroma.JPG</td>\n",
       "      <td>4</td>\n",
       "      <td>3.902607</td>\n",
       "      <td>6</td>\n",
       "      <td>0.444444</td>\n",
       "      <td>H29</td>\n",
       "      <td>H</td>\n",
       "    </tr>\n",
       "    <tr>\n",
       "      <th>35</th>\n",
       "      <td>H29_1.0_chroma.JPG</td>\n",
       "      <td>2</td>\n",
       "      <td>2.654218</td>\n",
       "      <td>13</td>\n",
       "      <td>0.222222</td>\n",
       "      <td>H29</td>\n",
       "      <td>H</td>\n",
       "    </tr>\n",
       "    <tr>\n",
       "      <th>30</th>\n",
       "      <td>H29_1.0_chroma.JPG</td>\n",
       "      <td>5</td>\n",
       "      <td>0.832194</td>\n",
       "      <td>1</td>\n",
       "      <td>0.555556</td>\n",
       "      <td>H29</td>\n",
       "      <td>H</td>\n",
       "    </tr>\n",
       "  </tbody>\n",
       "</table>\n",
       "<p>1080 rows × 7 columns</p>\n",
       "</div>"
      ],
      "text/plain": [
       "            test_image  response   resptime  observer  normalise   id type\n",
       "18   H0_1.0_chroma.JPG         3   5.851714         8   0.333333   H0    H\n",
       "10   H0_1.0_chroma.JPG         6   5.768565        20   0.666667   H0    H\n",
       "41   H0_1.0_chroma.JPG         5   0.774010         7   0.555556   H0    H\n",
       "1    H0_1.0_chroma.JPG         4  13.499934         6   0.444444   H0    H\n",
       "0    H0_1.0_chroma.JPG         5   1.011019         1   0.555556   H0    H\n",
       "..                 ...       ...        ...       ...        ...  ...  ...\n",
       "37  H29_1.0_chroma.JPG         4   1.177412        16   0.444444  H29    H\n",
       "35  H29_1.0_chroma.JPG         3   5.101903        12   0.333333  H29    H\n",
       "43  H29_1.0_chroma.JPG         4   3.902607         6   0.444444  H29    H\n",
       "35  H29_1.0_chroma.JPG         2   2.654218        13   0.222222  H29    H\n",
       "30  H29_1.0_chroma.JPG         5   0.832194         1   0.555556  H29    H\n",
       "\n",
       "[1080 rows x 7 columns]"
      ]
     },
     "execution_count": 122,
     "metadata": {},
     "output_type": "execute_result"
    }
   ],
   "source": [
    "df"
   ]
  },
  {
   "cell_type": "markdown",
   "id": "7b21e417",
   "metadata": {},
   "source": [
    "Historic images: Dataframe with name, selected mean by observers and measured mean chroma."
   ]
  },
  {
   "cell_type": "code",
   "execution_count": 123,
   "metadata": {},
   "outputs": [],
   "source": [
    "# mean_lists = []\n",
    "# for img_name in df_historic['test_image'].unique():\n",
    "#     mean = np.mean(df_historic.loc[df_historic['test_image'] == img_name, 'response'].tolist())\n",
    "#     chroma = df_historic.loc[df_historic['test_image'] == img_name, 'chroma'].iloc[0]\n",
    "#     mean_lists.append([img_name, mean, chroma])\n",
    "\n",
    "# df_historic_mean = pd.DataFrame(mean_lists)\n",
    "# df_historic_mean.columns = ['test_image', 'mean', 'chroma']\n",
    "# df_historic_mean"
   ]
  },
  {
   "cell_type": "markdown",
   "id": "f1fb6474",
   "metadata": {},
   "source": [
    "### Historic plots"
   ]
  },
  {
   "cell_type": "code",
   "execution_count": 124,
   "id": "digital-declaration",
   "metadata": {},
   "outputs": [
    {
     "data": {
      "image/png": "[encoded data removed]",
      "text/plain": [
       "<Figure size 931.988x576 with 1 Axes>"
      ]
     },
     "metadata": {},
     "output_type": "display_data"
    }
   ],
   "source": [
    "g = sns.catplot(\n",
    "    x='id',\n",
    "    y='normalise',\n",
    "    data=df[df[\"type\"] == \"H\"],\n",
    "    kind='box',\n",
    "    ci='sd',\n",
    "    palette=sns_palette_historic\n",
    ")\n",
    "\n",
    "g.fig.set_size_inches(sns_plot_size)\n",
    "\n",
    "\n",
    "g.set_axis_labels(\"Image\", \"Perceived strength of colorfulness\")\n",
    "\n",
    "g.set(title=\"Single assessment: Perceived strength of colorfulness of historic images\")\n",
    "\n",
    "g.set(ylim = sns_ylim)\n",
    "sns.despine()\n",
    "g.savefig(\"single_historic.png\", dpi=400)"
   ]
  },
  {
   "cell_type": "markdown",
   "id": "06b985c2",
   "metadata": {},
   "source": [
    "## Modern plot"
   ]
  },
  {
   "cell_type": "code",
   "execution_count": 125,
   "id": "eb96e17c",
   "metadata": {},
   "outputs": [
    {
     "data": {
      "image/png": "[encoded data removed]",
      "text/plain": [
       "<Figure size 931.988x576 with 1 Axes>"
      ]
     },
     "metadata": {},
     "output_type": "display_data"
    }
   ],
   "source": [
    "g = sns.catplot(\n",
    "    x='id',\n",
    "    y='normalise',\n",
    "    data=df[df[\"type\"] == \"I\"],\n",
    "    kind='box',\n",
    "    ci='sd',\n",
    "    palette=sns_palette_modern\n",
    ")\n",
    "\n",
    "#g.set_xlabel(\"Image\")\n",
    "#g.set_ylabel(\"Chroma response\")\n",
    "g.set_axis_labels(\"Image\", \"Perceived strength of colorfulness\")\n",
    "g.fig.set_size_inches(sns_plot_size)\n",
    "g.set(title=\"Single assessment: Perceived strength of colorfulness of modern images\")\n",
    "\n",
    "g.set(ylim = sns_ylim)\n",
    "g.savefig(\"single_modern.png\", dpi=400)"
   ]
  },
  {
   "cell_type": "markdown",
   "id": "cad5699e",
   "metadata": {},
   "source": [
    "## Plot of both groups"
   ]
  },
  {
   "cell_type": "code",
   "execution_count": 126,
   "id": "38306a4d",
   "metadata": {},
   "outputs": [],
   "source": [
    "means = []\n",
    "for img in df[df[\"type\"] == \"H\"][\"id\"].unique():\n",
    "    means.append((img, \"H\", np.mean(df[df[\"id\"] == img][\"normalise\"])))\n",
    "\n",
    "for img in df[df[\"type\"] == \"I\"][\"id\"].unique():\n",
    "    means.append((img, \"I\", np.mean(df[df[\"id\"] == img][\"normalise\"])))\n",
    "    \n",
    "df_mean = pd.DataFrame(means)\n",
    "df_mean.columns = [\"id\", \"type\", \"mean\"]\n",
    "\n",
    "# Check new dataframe with one image id.\n",
    "assert np.isclose(np.mean(df[df[\"id\"] == \"I01\"][\"normalise\"]), df_mean[df_mean[\"id\"] == \"I01\"][\"mean\"])"
   ]
  },
  {
   "cell_type": "code",
   "execution_count": 127,
   "id": "5864eedf",
   "metadata": {},
   "outputs": [
    {
     "data": {
      "image/png": "[encoded data removed]",
      "text/plain": [
       "<Figure size 465.994x576 with 1 Axes>"
      ]
     },
     "metadata": {},
     "output_type": "display_data"
    }
   ],
   "source": [
    "g = sns.boxplot(\n",
    "    x=\"type\",\n",
    "    y=\"mean\",\n",
    "    palette=[sns_palette_historic[0], sns_palette_modern[0]],\n",
    "    data=df_mean\n",
    ")\n",
    "\n",
    "#g.set(title=\"Single assessment: Mean of historic and modern images\")\n",
    "g.figure.set_size_inches(sns_half_plot_size)\n",
    "\n",
    "\n",
    "#g.set_axis_labels(\"Image type\", \"Perceived strength of colorfulness\")\n",
    "#g.fig.set_size_inches(11.7, 8.27)\n",
    "g.set(title=\"Single assessment:\\nPerceived strength of colorfulness of modern images\")\n",
    "\n",
    "g.set(ylim = sns_ylim)\n",
    "\n",
    "#g.set(ylim = (0,max_factor))\n",
    "\n",
    "#g.set_axis_labels(\"Image\", \"Chroma factor\")\n",
    "\n",
    "g.set_xlabel(\"Image type\")\n",
    "g.set_ylabel(\"Perceived strength of colorfulness\")\n",
    "#g.set_axis_labels(\"Image type\", \"Chroma factor\")\n",
    "#g.set_ylim((0,max_factor))\n",
    "g.set(xticklabels=[\"Historic\", \"Modern\"])\n",
    "sns.despine()\n",
    "g.figure.savefig(\"single_both.png\", dpi=400)"
   ]
  },
  {
   "cell_type": "markdown",
   "id": "6cb47716",
   "metadata": {},
   "source": [
    "## t-Test"
   ]
  },
  {
   "cell_type": "code",
   "execution_count": 128,
   "id": "c8053056",
   "metadata": {},
   "outputs": [],
   "source": [
    "historic = df[df[\"type\"] == \"H\"][\"normalise\"]\n",
    "modern = df[df[\"type\"] == \"I\"][\"normalise\"]\n",
    "\n",
    "assert len(historic) == 30 * num_observer\n",
    "assert len(modern) == 15 * num_observer\n"
   ]
  },
  {
   "cell_type": "code",
   "execution_count": 129,
   "id": "ebb7a608",
   "metadata": {},
   "outputs": [
    {
     "name": "stdout",
     "output_type": "stream",
     "text": [
      "p-value: 8.411457350163023e-17\n",
      "P-value << 0.05: True.\n"
     ]
    }
   ],
   "source": [
    "tstat, p_value = stats.ttest_ind(historic, modern)\n",
    "\n",
    "print('p-value:', p_value)\n",
    "print(f\"P-value << 0.05: {np.less(p_value, 0.05)}.\")"
   ]
  }
 ],
 "metadata": {
  "kernelspec": {
   "display_name": "Python 3 (ipykernel)",
   "language": "python",
   "name": "python3"
  },
  "language_info": {
   "codemirror_mode": {
    "name": "ipython",
    "version": 3
   },
   "file_extension": ".py",
   "mimetype": "text/x-python",
   "name": "python",
   "nbconvert_exporter": "python",
   "pygments_lexer": "ipython3",
   "version": "3.8.10"
  }
 },
 "nbformat": 4,
 "nbformat_minor": 5
}
